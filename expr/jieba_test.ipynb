{
 "cells": [
  {
   "cell_type": "code",
   "execution_count": 1,
   "id": "3ff7131a-dd59-41e9-98ef-1712a69ae1f8",
   "metadata": {},
   "outputs": [],
   "source": [
    "import mysql.connector\n",
    "\n",
    "mydb = mysql.connector.connect(\n",
    "  host=\"cowstudio.wayne-lee.cn\",\n",
    "  user=\"cowstudio\",\n",
    "  password=\"cowstudio_2119\",\n",
    "  database=\"cowstudio\"\n",
    ")"
   ]
  },
  {
   "cell_type": "code",
   "execution_count": 2,
   "id": "52507062-6d55-4727-b23a-7899e27c317c",
   "metadata": {},
   "outputs": [
    {
     "name": "stderr",
     "output_type": "stream",
     "text": [
      "23/04/18 09:12:07 WARN util.NativeCodeLoader: Unable to load native-hadoop library for your platform... using builtin-java classes where applicable\n",
      "Setting default log level to \"WARN\".\n",
      "To adjust logging level use sc.setLogLevel(newLevel). For SparkR, use setLogLevel(newLevel).\n",
      "23/04/18 09:12:08 WARN spark.SparkContext: Please ensure that the number of slots available on your executors is limited by the number of cores to task cpus and not another custom resource. If cores is not the limiting resource then dynamic allocation will not work properly!\n"
     ]
    }
   ],
   "source": [
    "from pyspark import SparkConf, SparkContext\n",
    "import os\n",
    "os.environ['PYSPARK_PYTHON'] = \"/opt/conda3/envs/lab2/bin/python\"\n",
    "conf = SparkConf().setAppName(\"jieba_test2\").setMaster(\"spark://node01:10077\")\\\n",
    "                  .set(\"spark.driver.memory\", \"2g\")\\\n",
    "                  .set(\"spark.executor.memory\", \"4g\")\\\n",
    "                  .set(\"spark.sql.shuffle.partitions\", \"12\")\\\n",
    "                  .set(\"spark.sql.autoBroadcastJoinThreshold\", \"-1\")\n",
    "sc = SparkContext(conf=conf)"
   ]
  },
  {
   "cell_type": "code",
   "execution_count": 8,
   "id": "96b9ae2d-906d-46ec-bf37-6cdf226478e5",
   "metadata": {},
   "outputs": [],
   "source": [
    "import jieba\n",
    "def cut_name_and_desc(item):\n",
    "    \n",
    "    id, name, desc = item\n",
    "    name_cut = list(jieba.cut(name))\n",
    "    desc_cut = list(jieba.cut(desc))\n",
    "    return (id,name_cut,desc_cut)"
   ]
  },
  {
   "cell_type": "code",
   "execution_count": 4,
   "id": "fc30e905-5271-49bc-a93f-545cb6c70720",
   "metadata": {},
   "outputs": [],
   "source": [
    "cur = mydb.cursor()"
   ]
  },
  {
   "cell_type": "code",
   "execution_count": 5,
   "id": "f2afea1a-ca44-4e08-bb40-f231478cebaa",
   "metadata": {},
   "outputs": [
    {
     "name": "stdout",
     "output_type": "stream",
     "text": [
      "[(192, '小黑', '来自吉林省的黑牛，肉质鲜美，性格温和，适合用于配种'), (397, '草饲肉牛', '完全以草为食，肉质更鲜美'), (458, '黑白花岗牛喂养管理服务三号', '提供黑白花岗牛喂养管理服务，专业技术，科学喂养，健康成长。'), (114, '荷斯坦牛', '荷斯坦牛是荷兰的一种奶牛品种，乳产量高，适合在较冷的气候下生长，其肉质也非常好。'), (9, '荷斯坦公牛', '荷斯坦公牛，适合养殖或屠宰。'), (262, '牛用药', '产地：黑龙江；适用习性：对牛的一些常见疾病有很好的预防和治疗作用；品牌：康牛'), (166, '西门塔尔牛', '产自吉林省的西门塔尔牛，属于奶肉兼用型品种，体型较大，适宜北方地区饲养。'), (440, '牛舍清洗服务一号', '提供黑白花岗牛舍清洗服务，清洁彻底，杜绝疾病滋生。'), (384, '奶牛配种服务', '提供专业的奶牛配种服务，让奶牛健康繁殖'), (36, '人工授精', '巴拉巴拉。。。')]\n"
     ]
    }
   ],
   "source": [
    "cur.reset()\n",
    "cur.execute(\"SELECT id,name,description from items order by RAND() limit 10\")\n",
    "result = cur.fetchall()\n",
    "print(result)"
   ]
  },
  {
   "cell_type": "code",
   "execution_count": 6,
   "id": "567c04d7-9846-405c-8687-d7f579bc1ad7",
   "metadata": {},
   "outputs": [
    {
     "name": "stderr",
     "output_type": "stream",
     "text": [
      "[Stage 0:>                                                          (0 + 2) / 2]\r"
     ]
    },
    {
     "name": "stdout",
     "output_type": "stream",
     "text": [
      "[(192, '小黑', '来自吉林省的黑牛，肉质鲜美，性格温和，适合用于配种'), (397, '草饲肉牛', '完全以草为食，肉质更鲜美'), (458, '黑白花岗牛喂养管理服务三号', '提供黑白花岗牛喂养管理服务，专业技术，科学喂养，健康成长。'), (114, '荷斯坦牛', '荷斯坦牛是荷兰的一种奶牛品种，乳产量高，适合在较冷的气候下生长，其肉质也非常好。'), (9, '荷斯坦公牛', '荷斯坦公牛，适合养殖或屠宰。'), (262, '牛用药', '产地：黑龙江；适用习性：对牛的一些常见疾病有很好的预防和治疗作用；品牌：康牛'), (166, '西门塔尔牛', '产自吉林省的西门塔尔牛，属于奶肉兼用型品种，体型较大，适宜北方地区饲养。'), (440, '牛舍清洗服务一号', '提供黑白花岗牛舍清洗服务，清洁彻底，杜绝疾病滋生。'), (384, '奶牛配种服务', '提供专业的奶牛配种服务，让奶牛健康繁殖'), (36, '人工授精', '巴拉巴拉。。。')]\n"
     ]
    },
    {
     "name": "stderr",
     "output_type": "stream",
     "text": [
      "                                                                                \r"
     ]
    }
   ],
   "source": [
    "rdd1 = sc.parallelize(result)\n",
    "print(rdd1.collect())"
   ]
  },
  {
   "cell_type": "code",
   "execution_count": 9,
   "id": "49265f4a-414e-4c34-be50-bf90b1793a6b",
   "metadata": {},
   "outputs": [
    {
     "name": "stderr",
     "output_type": "stream",
     "text": [
      "[Stage 2:=============================>                             (1 + 1) / 2]\r"
     ]
    },
    {
     "name": "stdout",
     "output_type": "stream",
     "text": [
      "[(192, ['小黑'], ['来自', '吉林省', '的', '黑牛', '，', '肉质', '鲜美', '，', '性格', '温和', '，', '适合', '用于', '配种']), (397, ['草', '饲', '肉牛'], ['完全', '以草', '为', '食', '，', '肉质', '更', '鲜美']), (458, ['黑白花', '岗牛', '喂养', '管理', '服务', '三号'], ['提供', '黑白花', '岗牛', '喂养', '管理', '服务', '，', '专业', '技术', '，', '科学', '喂养', '，', '健康成长', '。']), (114, ['荷斯坦', '牛'], ['荷斯坦', '牛', '是', '荷兰', '的', '一种', '奶牛', '品种', '，', '乳', '产量', '高', '，', '适合', '在', '较', '冷', '的', '气候', '下', '生长', '，', '其', '肉质', '也', '非常', '好', '。']), (9, ['荷斯坦', '公牛'], ['荷斯坦', '公牛', '，', '适合', '养殖', '或', '屠宰', '。']), (262, ['牛', '用药'], ['产地', '：', '黑龙江', '；', '适用', '习性', '：', '对', '牛', '的', '一些', '常见疾病', '有', '很', '好', '的', '预防', '和', '治疗', '作用', '；', '品牌', '：', '康牛']), (166, ['西门', '塔尔牛'], ['产', '自', '吉林省', '的', '西门', '塔尔牛', '，', '属于', '奶肉', '兼用型', '品种', '，', '体型', '较大', '，', '适宜', '北方地区', '饲养', '。']), (440, ['牛舍', '清洗', '服务', '一号'], ['提供', '黑白花', '岗', '牛舍', '清洗', '服务', '，', '清洁', '彻底', '，', '杜绝', '疾病', '滋生', '。']), (384, ['奶牛', '配种', '服务'], ['提供', '专业', '的', '奶牛', '配种', '服务', '，', '让', '奶牛', '健康', '繁殖']), (36, ['人工授精'], ['巴拉巴', '拉', '。', '。', '。'])]\n"
     ]
    },
    {
     "name": "stderr",
     "output_type": "stream",
     "text": [
      "                                                                                \r"
     ]
    }
   ],
   "source": [
    "\n",
    "rdd2 = rdd1.map(cut_name_and_desc)\n",
    "print(rdd2.collect())"
   ]
  },
  {
   "cell_type": "code",
   "execution_count": null,
   "id": "8feaf40d-67be-4431-b8c9-8238992e32c4",
   "metadata": {},
   "outputs": [],
   "source": []
  },
  {
   "cell_type": "code",
   "execution_count": null,
   "id": "eea56d17-b5b9-4a31-827e-05a2e3267a76",
   "metadata": {},
   "outputs": [],
   "source": []
  },
  {
   "cell_type": "code",
   "execution_count": null,
   "id": "176d149d-30b6-4622-8513-ae08dd3aa168",
   "metadata": {},
   "outputs": [],
   "source": []
  }
 ],
 "metadata": {
  "kernelspec": {
   "display_name": "Python 3 (ipykernel)",
   "language": "python",
   "name": "python3"
  },
  "language_info": {
   "codemirror_mode": {
    "name": "ipython",
    "version": 3
   },
   "file_extension": ".py",
   "mimetype": "text/x-python",
   "name": "python",
   "nbconvert_exporter": "python",
   "pygments_lexer": "ipython3",
   "version": "3.9.16"
  }
 },
 "nbformat": 4,
 "nbformat_minor": 5
}
