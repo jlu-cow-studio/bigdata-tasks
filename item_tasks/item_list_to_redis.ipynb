{
 "cells": [
  {
   "cell_type": "code",
   "execution_count": 1,
   "id": "1b5d2270-9406-4cf9-98bf-e0ced196ac1e",
   "metadata": {},
   "outputs": [
    {
     "name": "stderr",
     "output_type": "stream",
     "text": [
      "23/04/23 02:02:52 WARN util.NativeCodeLoader: Unable to load native-hadoop library for your platform... using builtin-java classes where applicable\n",
      "Setting default log level to \"WARN\".\n",
      "To adjust logging level use sc.setLogLevel(newLevel). For SparkR, use setLogLevel(newLevel).\n",
      "23/04/23 02:02:53 WARN util.Utils: Service 'SparkUI' could not bind on port 4040. Attempting port 4041.\n",
      "23/04/23 02:02:53 WARN util.Utils: Service 'SparkUI' could not bind on port 4041. Attempting port 4042.\n",
      "23/04/23 02:02:53 WARN spark.SparkContext: Please ensure that the number of slots available on your executors is limited by the number of cores to task cpus and not another custom resource. If cores is not the limiting resource then dynamic allocation will not work properly!\n"
     ]
    }
   ],
   "source": [
    "# get spark session, 2g mem per executor\n",
    "from pyspark import SparkConf, SparkContext\n",
    "from pyspark.sql import SparkSession\n",
    "import os\n",
    "\n",
    "# set python env\n",
    "os.environ['PYSPARK_PYTHON'] = \"/opt/conda3/envs/lab2/bin/python\"\n",
    "spark = SparkSession.builder \\\n",
    "    .appName(\"item_list_to_redis\") \\\n",
    "    .master(\"spark://node01:10077\") \\\n",
    "    .enableHiveSupport()\\\n",
    "    .config(\"spark.driver.memory\", \"2g\") \\\n",
    "    .config(\"spark.executor.memory\", \"2g\") \\\n",
    "    .config(\"spark.cores.max\", \"2\") \\\n",
    "    .config(\"spark.sql.shuffle.partitions\", \"12\") \\\n",
    "    .config(\"spark.sql.autoBroadcastJoinThreshold\", \"-1\") \\\n",
    "    .getOrCreate()\n",
    "\n",
    "sc = spark.sparkContext"
   ]
  },
  {
   "cell_type": "code",
   "execution_count": 2,
   "id": "f1485ef1-3437-4ae7-a550-d8fea0413a2b",
   "metadata": {},
   "outputs": [],
   "source": [
    "import redis\n",
    "def send_hot_list(item):\n",
    "    pool = redis.ConnectionPool(host='cowstudio.wayne-lee.cn',port=3002,password='cowstudio', decode_responses=True)\n",
    "    redis_cli = redis.Redis(connection_pool=pool)\n",
    "    item_id,category,score,rn,date = item\n",
    "    redis_cli.zadd(\"item-hot-list-\"+category,{item_id:score})\n",
    "    return f\"item-hot-list-{category}\",item_id,score\n",
    "def send_fresh_list(item):\n",
    "    pool = redis.ConnectionPool(host='cowstudio.wayne-lee.cn',port=3002,password='cowstudio', decode_responses=True)\n",
    "    redis_cli = redis.Redis(connection_pool=pool)\n",
    "    item_id,category,score,rn,date = item\n",
    "    redis_cli.zadd(\"item-fresh-list-\"+category,{item_id:score})\n",
    "    return f\"item-fresh-list-{category}\",item_id,score"
   ]
  },
  {
   "cell_type": "code",
   "execution_count": 3,
   "id": "5fd95c9f-ea8a-45a9-bc0e-ae3de39a471c",
   "metadata": {},
   "outputs": [
    {
     "name": "stdout",
     "output_type": "stream",
     "text": [
      "2023-04-23\n"
     ]
    }
   ],
   "source": [
    "# define map functions \n",
    "from datetime import datetime, timedelta\n",
    "\n",
    "today_string = datetime.today().strftime('%Y-%m-%d')\n",
    "print(today_string)"
   ]
  },
  {
   "cell_type": "code",
   "execution_count": 4,
   "id": "20c896eb-e686-43a9-a267-bbe3678ccb17",
   "metadata": {},
   "outputs": [
    {
     "name": "stderr",
     "output_type": "stream",
     "text": [
      "23/04/23 02:03:07 WARN session.SessionState: METASTORE_FILTER_HOOK will be ignored, since hive.security.authorization.manager is set to instance of HiveAuthorizerFactory.\n"
     ]
    },
    {
     "name": "stdout",
     "output_type": "stream",
     "text": [
      "[]\n"
     ]
    },
    {
     "data": {
      "text/plain": [
       "[]"
      ]
     },
     "execution_count": 4,
     "metadata": {},
     "output_type": "execute_result"
    }
   ],
   "source": [
    "item_hot_list = spark.sql(f'''\n",
    "select\n",
    "    *\n",
    "from\n",
    "    item_hot_list\n",
    "where\n",
    "    date = '{today_string}'\n",
    "''').rdd\n",
    "\n",
    "print(item_hot_list.take(1))\n",
    "item_hot_list.map(send_hot_list).collect()"
   ]
  },
  {
   "cell_type": "code",
   "execution_count": 5,
   "id": "0808d908-4992-4069-97f9-c7420e34ae8e",
   "metadata": {},
   "outputs": [
    {
     "name": "stderr",
     "output_type": "stream",
     "text": [
      "                                                                                \r"
     ]
    },
    {
     "name": "stdout",
     "output_type": "stream",
     "text": [
      "[Row(item_id=285, category='service', score=0.0, rn=88, date='2023-04-23')]\n"
     ]
    },
    {
     "name": "stderr",
     "output_type": "stream",
     "text": [
      "                                                                                \r"
     ]
    },
    {
     "ename": "AttributeError",
     "evalue": "'list' object has no attribute 'task'",
     "output_type": "error",
     "traceback": [
      "\u001b[0;31m---------------------------------------------------------------------------\u001b[0m",
      "\u001b[0;31mAttributeError\u001b[0m                            Traceback (most recent call last)",
      "Cell \u001b[0;32mIn[5], line 11\u001b[0m\n\u001b[1;32m      1\u001b[0m item_fresh_list \u001b[38;5;241m=\u001b[39m spark\u001b[38;5;241m.\u001b[39msql(\u001b[38;5;124mf\u001b[39m\u001b[38;5;124m'''\u001b[39m\n\u001b[1;32m      2\u001b[0m \u001b[38;5;124mselect\u001b[39m\n\u001b[1;32m      3\u001b[0m \u001b[38;5;124m    *\u001b[39m\n\u001b[0;32m   (...)\u001b[0m\n\u001b[1;32m      7\u001b[0m \u001b[38;5;124m    date = \u001b[39m\u001b[38;5;124m'\u001b[39m\u001b[38;5;132;01m{\u001b[39;00mtoday_string\u001b[38;5;132;01m}\u001b[39;00m\u001b[38;5;124m'\u001b[39m\n\u001b[1;32m      8\u001b[0m \u001b[38;5;124m'''\u001b[39m)\u001b[38;5;241m.\u001b[39mrdd\n\u001b[1;32m     10\u001b[0m \u001b[38;5;28mprint\u001b[39m(item_fresh_list\u001b[38;5;241m.\u001b[39mtake(\u001b[38;5;241m1\u001b[39m))\n\u001b[0;32m---> 11\u001b[0m \u001b[43mitem_fresh_list\u001b[49m\u001b[38;5;241;43m.\u001b[39;49m\u001b[43mmap\u001b[49m\u001b[43m(\u001b[49m\u001b[43msend_fresh_list\u001b[49m\u001b[43m)\u001b[49m\u001b[38;5;241;43m.\u001b[39;49m\u001b[43mcollect\u001b[49m\u001b[43m(\u001b[49m\u001b[43m)\u001b[49m\u001b[38;5;241;43m.\u001b[39;49m\u001b[43mtask\u001b[49m(\u001b[38;5;241m10\u001b[39m)\n",
      "\u001b[0;31mAttributeError\u001b[0m: 'list' object has no attribute 'task'"
     ]
    }
   ],
   "source": [
    "item_fresh_list = spark.sql(f'''\n",
    "select\n",
    "    *\n",
    "from\n",
    "    item_fresh_list\n",
    "where\n",
    "    date = '{today_string}'\n",
    "''').rdd\n",
    "\n",
    "print(item_fresh_list.take(1))\n",
    "item_fresh_list.map(send_fresh_list).collect().task(10)"
   ]
  },
  {
   "cell_type": "code",
   "execution_count": null,
   "id": "4e47cf87-a131-4e8f-85e9-a2a11d51ef0a",
   "metadata": {},
   "outputs": [],
   "source": [
    "spark.stop()"
   ]
  },
  {
   "cell_type": "code",
   "execution_count": null,
   "id": "202fc7a8-0e65-487c-ae97-1b8014c278eb",
   "metadata": {},
   "outputs": [],
   "source": []
  }
 ],
 "metadata": {
  "kernelspec": {
   "display_name": "Python 3 (ipykernel)",
   "language": "python",
   "name": "python3"
  },
  "language_info": {
   "codemirror_mode": {
    "name": "ipython",
    "version": 3
   },
   "file_extension": ".py",
   "mimetype": "text/x-python",
   "name": "python",
   "nbconvert_exporter": "python",
   "pygments_lexer": "ipython3",
   "version": "3.9.16"
  }
 },
 "nbformat": 4,
 "nbformat_minor": 5
}
