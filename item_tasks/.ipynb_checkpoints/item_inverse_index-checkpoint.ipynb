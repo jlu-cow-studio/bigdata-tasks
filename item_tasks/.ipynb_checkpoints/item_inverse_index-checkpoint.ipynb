{
 "cells": [
  {
   "cell_type": "code",
   "execution_count": null,
   "id": "1b5d2270-9406-4cf9-98bf-e0ced196ac1e",
   "metadata": {},
   "outputs": [],
   "source": [
    "# get spark session, 2g mem per executor\n",
    "from pyspark import SparkConf, SparkContext\n",
    "from pyspark.sql import SparkSession\n",
    "import os\n",
    "\n",
    "# set python env\n",
    "os.environ['PYSPARK_PYTHON'] = \"/opt/conda3/envs/lab2/bin/python\"\n",
    "spark = SparkSession.builder \\\n",
    "    .appName(\"item_list_to_redis\") \\\n",
    "    .master(\"spark://node01:10077\") \\\n",
    "    .enableHiveSupport()\\\n",
    "    .config(\"spark.driver.memory\", \"2g\") \\\n",
    "    .config(\"spark.executor.memory\", \"2g\") \\\n",
    "    .config(\"spark.cores.max\", \"2\") \\\n",
    "    .config(\"spark.sql.shuffle.partitions\", \"12\") \\\n",
    "    .config(\"spark.sql.autoBroadcastJoinThreshold\", \"-1\") \\\n",
    "    .getOrCreate()\n",
    "\n",
    "sc = spark.sparkContext"
   ]
  },
  {
   "cell_type": "code",
   "execution_count": null,
   "id": "f1485ef1-3437-4ae7-a550-d8fea0413a2b",
   "metadata": {},
   "outputs": [],
   "source": [
    "import redis\n",
    "def send_hot_list(item):\n",
    "    pool = redis.ConnectionPool(host='cowstudio.wayne-lee.cn',port=3002,password='cowstudio', decode_responses=True)\n",
    "    redis_cli = redis.Redis(connection_pool=pool)\n",
    "    item_id,category,score,rn,date = item\n",
    "    redis_cli.zadd(\"item-hot-list-\"+category,{item_id:score})\n",
    "    return f\"item-hot-list-{category}\",item_id,score\n",
    "def send_fresh_list(item):\n",
    "    pool = redis.ConnectionPool(host='cowstudio.wayne-lee.cn',port=3002,password='cowstudio', decode_responses=True)\n",
    "    redis_cli = redis.Redis(connection_pool=pool)\n",
    "    item_id,category,score,rn,date = item\n",
    "    redis_cli.zadd(\"item-fresh-list-\"+category,{item_id:score})\n",
    "    return f\"item-fresh-list-{category}\",item_id,score"
   ]
  },
  {
   "cell_type": "code",
   "execution_count": null,
   "id": "5fd95c9f-ea8a-45a9-bc0e-ae3de39a471c",
   "metadata": {},
   "outputs": [],
   "source": [
    "# define map functions \n",
    "from datetime import datetime, timedelta\n",
    "\n",
    "today_string = datetime.today().strftime('%Y-%m-%d')\n",
    "print(today_string)"
   ]
  },
  {
   "cell_type": "code",
   "execution_count": null,
   "id": "20c896eb-e686-43a9-a267-bbe3678ccb17",
   "metadata": {},
   "outputs": [],
   "source": [
    "item_hot_list = spark.sql(f'''\n",
    "select\n",
    "    *\n",
    "from\n",
    "    item_hot_list\n",
    "where\n",
    "    date = '{today_string}'\n",
    "''').rdd\n",
    "\n",
    "print(item_hot_list.take(1))\n",
    "item_hot_list.map(send_hot_list).collect()"
   ]
  },
  {
   "cell_type": "code",
   "execution_count": null,
   "id": "0808d908-4992-4069-97f9-c7420e34ae8e",
   "metadata": {},
   "outputs": [],
   "source": [
    "item_fresh_list = spark.sql(f'''\n",
    "select\n",
    "    *\n",
    "from\n",
    "    item_fresh_list\n",
    "where\n",
    "    date = '{today_string}'\n",
    "''').rdd\n",
    "\n",
    "print(item_fresh_list.take(1))\n",
    "item_fresh_list.map(send_fresh_list).collect()"
   ]
  },
  {
   "cell_type": "code",
   "execution_count": null,
   "id": "4e47cf87-a131-4e8f-85e9-a2a11d51ef0a",
   "metadata": {},
   "outputs": [],
   "source": []
  },
  {
   "cell_type": "code",
   "execution_count": null,
   "id": "202fc7a8-0e65-487c-ae97-1b8014c278eb",
   "metadata": {},
   "outputs": [],
   "source": []
  }
 ],
 "metadata": {
  "kernelspec": {
   "display_name": "Python 3 (ipykernel)",
   "language": "python",
   "name": "python3"
  },
  "language_info": {
   "codemirror_mode": {
    "name": "ipython",
    "version": 3
   },
   "file_extension": ".py",
   "mimetype": "text/x-python",
   "name": "python",
   "nbconvert_exporter": "python",
   "pygments_lexer": "ipython3",
   "version": "3.9.16"
  }
 },
 "nbformat": 4,
 "nbformat_minor": 5
}
