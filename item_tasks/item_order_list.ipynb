{
 "cells": [
  {
   "cell_type": "code",
   "execution_count": 1,
   "id": "fc05c016-b5ae-4cc9-9355-e8a19664be3d",
   "metadata": {},
   "outputs": [],
   "source": [
    "# mysql connection\n",
    "import mysql.connector\n",
    "\n",
    "mydb = mysql.connector.connect(\n",
    "  host=\"cowstudio.wayne-lee.cn\",\n",
    "  user=\"cowstudio\",\n",
    "  password=\"cowstudio_2119\",\n",
    "  database=\"cowstudio\"\n",
    ")"
   ]
  },
  {
   "cell_type": "code",
   "execution_count": 2,
   "id": "0810c0c8-6d01-4965-9f86-4a6bae0fc2db",
   "metadata": {},
   "outputs": [
    {
     "name": "stderr",
     "output_type": "stream",
     "text": [
      "23/04/22 08:20:17 WARN util.NativeCodeLoader: Unable to load native-hadoop library for your platform... using builtin-java classes where applicable\n",
      "Setting default log level to \"WARN\".\n",
      "To adjust logging level use sc.setLogLevel(newLevel). For SparkR, use setLogLevel(newLevel).\n",
      "23/04/22 08:20:19 WARN spark.SparkContext: Please ensure that the number of slots available on your executors is limited by the number of cores to task cpus and not another custom resource. If cores is not the limiting resource then dynamic allocation will not work properly!\n"
     ]
    }
   ],
   "source": [
    "# get spark session, 2g mem per executor\n",
    "from pyspark import SparkConf, SparkContext\n",
    "from pyspark.sql import SparkSession\n",
    "import os\n",
    "\n",
    "# set python env\n",
    "os.environ['PYSPARK_PYTHON'] = \"/opt/conda3/envs/lab2/bin/python\"\n",
    "spark = SparkSession.builder \\\n",
    "    .appName(\"item_order_list\") \\\n",
    "    .master(\"spark://node01:10077\") \\\n",
    "    .enableHiveSupport()\\\n",
    "    .config(\"spark.driver.memory\", \"2g\") \\\n",
    "    .config(\"spark.executor.memory\", \"2g\") \\\n",
    "    .config(\"spark.cores.max\", \"3\") \\\n",
    "    .config(\"spark.sql.shuffle.partitions\", \"12\") \\\n",
    "    .config(\"spark.sql.autoBroadcastJoinThreshold\", \"-1\") \\\n",
    "    .getOrCreate()\n",
    "\n",
    "sc = spark.sparkContext"
   ]
  },
  {
   "cell_type": "code",
   "execution_count": 3,
   "id": "9cac3130-b0e4-4218-ba84-a348c3929ba7",
   "metadata": {},
   "outputs": [
    {
     "name": "stdout",
     "output_type": "stream",
     "text": [
      "2023-04-22\n"
     ]
    }
   ],
   "source": [
    "# define map functions \n",
    "from datetime import datetime, timedelta\n",
    "\n",
    "today_string = datetime.today().strftime('%Y-%m-%d')\n",
    "print(today_string)\n",
    "\n",
    "fresh_list_thr = 10\n",
    "host_list_size = 30"
   ]
  },
  {
   "cell_type": "code",
   "execution_count": null,
   "id": "3bcdac81-67c7-490d-8dd4-8db7963d588c",
   "metadata": {},
   "outputs": [],
   "source": [
    "item_order = spark.sql(f'''\n",
    "with item_all as(\n",
    "    select\n",
    "        id as item_id,\n",
    "        category\n",
    "    from\n",
    "        item_ods\n",
    ")\n",
    "select\n",
    "    item_all.item_id,\n",
    "    item_all.category,\n",
    "    item_score.score,\n",
    "    row_number() over(\n",
    "        partition by\n",
    "            category\n",
    "        order by\n",
    "            score desc\n",
    "    ) as rn\n",
    "from\n",
    "    item_all\n",
    "left join\n",
    "    item_score on item_all.item_id = item_score.item_id\n",
    "where\n",
    "    date = '{today_string}'\n",
    "order by\n",
    "    rn\n",
    "''')\n",
    "item_order.show()\n",
    "item_order.createOrReplaceTempView(\"item_order\")"
   ]
  },
  {
   "cell_type": "code",
   "execution_count": null,
   "id": "4fc391f4-886a-4b9b-b8f7-41fbc534c59c",
   "metadata": {},
   "outputs": [],
   "source": [
    "item_fresh_list = spark.sql(f'''\n",
    "select\n",
    "    *\n",
    "from\n",
    "    item_order\n",
    "where\n",
    "    score < {fresh_list_thr}\n",
    "''')\n",
    "item_fresh_list.show()\n",
    "item_fresh_list.createOrReplaceTempView(\"item_fresh_list\")"
   ]
  },
  {
   "cell_type": "code",
   "execution_count": null,
   "id": "6ea759a1-3829-4b68-a9ac-ce8657867843",
   "metadata": {},
   "outputs": [],
   "source": [
    "item_hot_list = spark.sql(f'''\n",
    "select\n",
    "    a.*\n",
    "from\n",
    "    item_order a\n",
    "left join\n",
    "    item_fresh_list b on a.item_id = b.item_id \n",
    "where\n",
    "    a.rn <= {host_list_size}\n",
    "and\n",
    "    b.item_id is null\n",
    "''')\n",
    "item_hot_list.show()\n",
    "item_hot_list.createOrReplaceTempView(\"item_hot_list\")"
   ]
  },
  {
   "cell_type": "code",
   "execution_count": null,
   "id": "f6bc9459-c0ce-4e84-87b5-01fbc2f32ca9",
   "metadata": {},
   "outputs": [],
   "source": [
    "# spark.sql(\"drop table if exists \").show()"
   ]
  },
  {
   "cell_type": "code",
   "execution_count": null,
   "id": "4fe5f2f5-6b2f-4c59-82cb-8a4ab58faba8",
   "metadata": {},
   "outputs": [],
   "source": [
    "item_hot_list.write.mode(\"overwrite\").saveAsTable(\"item_hot_list\")"
   ]
  },
  {
   "cell_type": "code",
   "execution_count": null,
   "id": "5125c786",
   "metadata": {},
   "outputs": [],
   "source": [
    "item_hot_list.write.mode(\"overwrite\").saveAsTable(\"item_hot_list\")"
   ]
  },
  {
   "cell_type": "code",
   "execution_count": null,
   "id": "aae63d8b",
   "metadata": {},
   "outputs": [],
   "source": [
    "item_hot_list.write.mode(\"overwrite\").saveAsTable(\"item_hot_list\")"
   ]
  },
  {
   "cell_type": "code",
   "execution_count": null,
   "id": "42b66a82-f3d6-4321-8ff1-3432002c1439",
   "metadata": {},
   "outputs": [],
   "source": [
    "spark.sql(\"show tables\").show()"
   ]
  },
  {
   "cell_type": "code",
   "execution_count": null,
   "id": "ff864d83-3ec9-44d0-81c4-02396febd810",
   "metadata": {},
   "outputs": [],
   "source": [
    "spark.stop()\n",
    "mydb.close()"
   ]
  },
  {
   "cell_type": "code",
   "execution_count": null,
   "id": "2b4f0687-e698-4d75-97cc-7a4d0b9e43b9",
   "metadata": {},
   "outputs": [],
   "source": []
  }
 ],
 "metadata": {
  "kernelspec": {
   "display_name": "Python 3 (ipykernel)",
   "language": "python",
   "name": "python3"
  },
  "language_info": {
   "codemirror_mode": {
    "name": "ipython",
    "version": 3
   },
   "file_extension": ".py",
   "mimetype": "text/x-python",
   "name": "python",
   "nbconvert_exporter": "python",
   "pygments_lexer": "ipython3",
   "version": "3.9.16"
  }
 },
 "nbformat": 4,
 "nbformat_minor": 5
}
