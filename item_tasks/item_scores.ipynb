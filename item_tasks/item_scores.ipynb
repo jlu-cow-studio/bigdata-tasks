{
 "cells": [
  {
   "cell_type": "code",
   "execution_count": 1,
   "id": "fc05c016-b5ae-4cc9-9355-e8a19664be3d",
   "metadata": {},
   "outputs": [],
   "source": [
    "# mysql connection\n",
    "import mysql.connector\n",
    "\n",
    "mydb = mysql.connector.connect(\n",
    "  host=\"cowstudio.wayne-lee.cn\",\n",
    "  user=\"cowstudio\",\n",
    "  password=\"cowstudio_2119\",\n",
    "  database=\"cowstudio\"\n",
    ")"
   ]
  },
  {
   "cell_type": "code",
   "execution_count": 2,
   "id": "0810c0c8-6d01-4965-9f86-4a6bae0fc2db",
   "metadata": {},
   "outputs": [
    {
     "name": "stderr",
     "output_type": "stream",
     "text": [
      "23/04/22 04:42:24 WARN util.NativeCodeLoader: Unable to load native-hadoop library for your platform... using builtin-java classes where applicable\n",
      "Setting default log level to \"WARN\".\n",
      "To adjust logging level use sc.setLogLevel(newLevel). For SparkR, use setLogLevel(newLevel).\n",
      "23/04/22 04:42:25 WARN spark.SparkContext: Please ensure that the number of slots available on your executors is limited by the number of cores to task cpus and not another custom resource. If cores is not the limiting resource then dynamic allocation will not work properly!\n"
     ]
    }
   ],
   "source": [
    "# get spark session, 2g mem per executor\n",
    "from pyspark import SparkConf, SparkContext\n",
    "from pyspark.sql import SparkSession\n",
    "import os\n",
    "\n",
    "# set python env\n",
    "os.environ['PYSPARK_PYTHON'] = \"/opt/conda3/envs/lab2/bin/python\"\n",
    "spark = SparkSession.builder \\\n",
    "    .appName(\"item_scores\") \\\n",
    "    .master(\"spark://node01:10077\") \\\n",
    "    .enableHiveSupport()\\\n",
    "    .config(\"spark.driver.memory\", \"2g\") \\\n",
    "    .config(\"spark.executor.memory\", \"2g\") \\\n",
    "    .config(\"spark.cores.max\", \"3\") \\\n",
    "    .config(\"spark.sql.shuffle.partitions\", \"12\") \\\n",
    "    .config(\"spark.sql.autoBroadcastJoinThreshold\", \"-1\") \\\n",
    "    .getOrCreate()\n",
    "\n",
    "sc = spark.sparkContext"
   ]
  },
  {
   "cell_type": "code",
   "execution_count": 3,
   "id": "9cac3130-b0e4-4218-ba84-a348c3929ba7",
   "metadata": {},
   "outputs": [
    {
     "name": "stdout",
     "output_type": "stream",
     "text": [
      "2023-04-22\n",
      "2023-04-21\n"
     ]
    }
   ],
   "source": [
    "# define map functions \n",
    "from datetime import datetime, timedelta\n",
    "\n",
    "today_string = datetime.today().strftime('%Y-%m-%d')\n",
    "history_string = (datetime.today() - timedelta(days=1)).strftime('%Y-%m-%d')\n",
    "print(today_string)\n",
    "print(history_string)\n",
    "\n",
    "time_factor = 0.9"
   ]
  },
  {
   "cell_type": "code",
   "execution_count": 4,
   "id": "355cc057-0d59-4b2e-8aba-5b34a08103ed",
   "metadata": {},
   "outputs": [
    {
     "name": "stderr",
     "output_type": "stream",
     "text": [
      "                                                                                \r"
     ]
    },
    {
     "name": "stdout",
     "output_type": "stream",
     "text": [
      "+----------------+-----+\n",
      "|      event_type|score|\n",
      "+----------------+-----+\n",
      "|            view|  1.0|\n",
      "|           click|  4.0|\n",
      "|       long_view|  7.0|\n",
      "|add_to_favorites| 20.0|\n",
      "|        purchase| 30.0|\n",
      "|     search_view|  5.0|\n",
      "|    search_click| 10.0|\n",
      "+----------------+-----+\n",
      "\n"
     ]
    }
   ],
   "source": [
    "from pyspark.sql.types import StructType, StructField, IntegerType, StringType, DoubleType\n",
    "event_score_data = [\n",
    "    ('view', 1.0),\n",
    "    ('click', 4.0),\n",
    "    ('long_view', 7.0),\n",
    "    ('add_to_favorites', 20.0),\n",
    "    ('purchase', 30.0),\n",
    "    ('search_view', 5.0),\n",
    "    ('search_click', 10.0)\n",
    "]\n",
    "\n",
    "schema = StructType([\n",
    "    StructField(\"event_type\", StringType(), True),\n",
    "    StructField(\"score\", DoubleType(), True)\n",
    "])\n",
    "\n",
    "event_score_df = spark.createDataFrame(event_score_data, schema)\n",
    "event_score_df.show()\n",
    "event_score_df.createOrReplaceTempView(\"event_score\")"
   ]
  },
  {
   "cell_type": "code",
   "execution_count": 5,
   "id": "bf2bec56-e791-4d0e-84da-3787abbffdd7",
   "metadata": {},
   "outputs": [],
   "source": [
    "item_score_schema = StructType([\n",
    "    StructField(\"item_id\", StringType(), True),\n",
    "    StructField(\"score\", DoubleType(), True),\n",
    "    StructField(\"date\", StringType(), True)\n",
    "])\n",
    "spark.createDataFrame([],item_score_schema).createOrReplaceTempView(\"item_score\")"
   ]
  },
  {
   "cell_type": "code",
   "execution_count": 6,
   "id": "3bcdac81-67c7-490d-8dd4-8db7963d588c",
   "metadata": {},
   "outputs": [
    {
     "name": "stderr",
     "output_type": "stream",
     "text": [
      "                                                                                \r"
     ]
    },
    {
     "name": "stdout",
     "output_type": "stream",
     "text": [
      "+-------+-----+----------+\n",
      "|item_id|score|      date|\n",
      "+-------+-----+----------+\n",
      "|     95| 68.0|2023-04-22|\n",
      "|     77| 37.0|2023-04-22|\n",
      "|    455| 35.0|2023-04-22|\n",
      "|    364| 34.0|2023-04-22|\n",
      "|    449| 34.0|2023-04-22|\n",
      "|    461| 34.0|2023-04-22|\n",
      "|     78| 32.0|2023-04-22|\n",
      "|    100| 30.0|2023-04-22|\n",
      "|     90| 30.0|2023-04-22|\n",
      "|    343| 30.0|2023-04-22|\n",
      "|    359| 25.0|2023-04-22|\n",
      "|     70| 23.0|2023-04-22|\n",
      "|    454| 21.0|2023-04-22|\n",
      "|    232| 20.0|2023-04-22|\n",
      "|    464| 20.0|2023-04-22|\n",
      "|     41| 20.0|2023-04-22|\n",
      "|    221| 20.0|2023-04-22|\n",
      "|    457| 20.0|2023-04-22|\n",
      "|    212| 16.0|2023-04-22|\n",
      "|    228| 15.0|2023-04-22|\n",
      "+-------+-----+----------+\n",
      "only showing top 20 rows\n",
      "\n"
     ]
    }
   ],
   "source": [
    "item_score = spark.sql(f'''\n",
    "with item_all as(\n",
    "    select\n",
    "        distinct id as item_id\n",
    "    from\n",
    "        item_ods\n",
    "), history_item_score as(\n",
    "    select\n",
    "        a.item_id,\n",
    "        if(b.item_id is null, 0, b.score) as score\n",
    "    from\n",
    "        item_all a\n",
    "    left join\n",
    "        item_score b on a.item_id = b.item_id\n",
    "), today_item_score as(\n",
    "    select\n",
    "        a.item_id,\n",
    "        sum(if(c.score is null, 0,c.score)) as score\n",
    "    from\n",
    "        item_all a\n",
    "    left join\n",
    "        event_ods b on a.item_id = b.item_id and b.timestamp = '{today_string}'\n",
    "    left join\n",
    "        event_score c on b.event_type = c.event_type\n",
    "    group by\n",
    "        a.item_id\n",
    "    order by\n",
    "        score desc\n",
    ")\n",
    "select\n",
    "    a.item_id,\n",
    "    b.score * {time_factor} + c.score as score,\n",
    "    '{today_string}' as date\n",
    "from\n",
    "    item_all a\n",
    "left join\n",
    "    history_item_score b on a.item_id = b.item_id\n",
    "left join\n",
    "    today_item_score c on a.item_id = c.item_id\n",
    "order by\n",
    "    score desc\n",
    "''')\n",
    "item_score.show()"
   ]
  },
  {
   "cell_type": "code",
   "execution_count": 7,
   "id": "f6bc9459-c0ce-4e84-87b5-01fbc2f32ca9",
   "metadata": {},
   "outputs": [
    {
     "name": "stdout",
     "output_type": "stream",
     "text": [
      "++\n",
      "||\n",
      "++\n",
      "++\n",
      "\n"
     ]
    }
   ],
   "source": [
    "# spark.sql(\"drop table if exists item_score\").show()"
   ]
  },
  {
   "cell_type": "code",
   "execution_count": 8,
   "id": "4fe5f2f5-6b2f-4c59-82cb-8a4ab58faba8",
   "metadata": {},
   "outputs": [
    {
     "name": "stderr",
     "output_type": "stream",
     "text": [
      "23/04/22 04:42:59 WARN session.SessionState: METASTORE_FILTER_HOOK will be ignored, since hive.security.authorization.manager is set to instance of HiveAuthorizerFactory.\n"
     ]
    }
   ],
   "source": [
    "item_score.write.mode(\"overwrite\").partitionBy(\"date\").saveAsTable(\"item_score\")"
   ]
  },
  {
   "cell_type": "code",
   "execution_count": 9,
   "id": "42b66a82-f3d6-4321-8ff1-3432002c1439",
   "metadata": {},
   "outputs": [
    {
     "name": "stdout",
     "output_type": "stream",
     "text": [
      "+--------+---------------+-----------+\n",
      "|database|      tableName|isTemporary|\n",
      "+--------+---------------+-----------+\n",
      "| default|      event_ods|      false|\n",
      "| default|       item_ods|      false|\n",
      "| default|     item_score|      false|\n",
      "| default|   item_tag_ods|      false|\n",
      "| default|item_word_count|      false|\n",
      "| default|  item_word_idf|      false|\n",
      "| default|   item_word_tf|      false|\n",
      "| default|item_word_tfidf|      false|\n",
      "| default|        tag_ods|      false|\n",
      "| default|           test|      false|\n",
      "| default|          test2|      false|\n",
      "| default|       user_ods|      false|\n",
      "| default|   user_tag_ods|      false|\n",
      "|        |    event_score|       true|\n",
      "+--------+---------------+-----------+\n",
      "\n"
     ]
    }
   ],
   "source": [
    "spark.sql(\"show tables\").show()"
   ]
  },
  {
   "cell_type": "code",
   "execution_count": 10,
   "id": "ff864d83-3ec9-44d0-81c4-02396febd810",
   "metadata": {},
   "outputs": [],
   "source": [
    "spark.stop()\n",
    "mydb.close()"
   ]
  },
  {
   "cell_type": "code",
   "execution_count": null,
   "id": "2b4f0687-e698-4d75-97cc-7a4d0b9e43b9",
   "metadata": {},
   "outputs": [],
   "source": []
  }
 ],
 "metadata": {
  "kernelspec": {
   "display_name": "Python 3 (ipykernel)",
   "language": "python",
   "name": "python3"
  },
  "language_info": {
   "codemirror_mode": {
    "name": "ipython",
    "version": 3
   },
   "file_extension": ".py",
   "mimetype": "text/x-python",
   "name": "python",
   "nbconvert_exporter": "python",
   "pygments_lexer": "ipython3",
   "version": "3.9.16"
  }
 },
 "nbformat": 4,
 "nbformat_minor": 5
}
