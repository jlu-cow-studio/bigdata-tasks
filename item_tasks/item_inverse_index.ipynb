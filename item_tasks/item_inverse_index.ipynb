{
 "cells": [
  {
   "cell_type": "code",
   "execution_count": 1,
   "id": "1b5d2270-9406-4cf9-98bf-e0ced196ac1e",
   "metadata": {},
   "outputs": [
    {
     "name": "stderr",
     "output_type": "stream",
     "text": [
      "23/04/23 02:04:59 WARN util.NativeCodeLoader: Unable to load native-hadoop library for your platform... using builtin-java classes where applicable\n",
      "Setting default log level to \"WARN\".\n",
      "To adjust logging level use sc.setLogLevel(newLevel). For SparkR, use setLogLevel(newLevel).\n",
      "23/04/23 02:05:00 WARN spark.SparkContext: Please ensure that the number of slots available on your executors is limited by the number of cores to task cpus and not another custom resource. If cores is not the limiting resource then dynamic allocation will not work properly!\n"
     ]
    }
   ],
   "source": [
    "# get spark session, 2g mem per executor\n",
    "from pyspark import SparkConf, SparkContext\n",
    "from pyspark.sql import SparkSession\n",
    "import os\n",
    "\n",
    "# set python env\n",
    "os.environ['PYSPARK_PYTHON'] = \"/opt/conda3/envs/lab2/bin/python\"\n",
    "spark = SparkSession.builder \\\n",
    "    .appName(\"item_inverse_index\") \\\n",
    "    .master(\"spark://node01:10077\") \\\n",
    "    .enableHiveSupport()\\\n",
    "    .config(\"spark.driver.memory\", \"2g\") \\\n",
    "    .config(\"spark.executor.memory\", \"2g\") \\\n",
    "    .config(\"spark.cores.max\", \"6\") \\\n",
    "    .config(\"spark.sql.shuffle.partitions\", \"12\") \\\n",
    "    .config(\"spark.sql.autoBroadcastJoinThreshold\", \"-1\") \\\n",
    "    .getOrCreate()\n",
    "\n",
    "sc = spark.sparkContext"
   ]
  },
  {
   "cell_type": "code",
   "execution_count": 2,
   "id": "f1485ef1-3437-4ae7-a550-d8fea0413a2b",
   "metadata": {},
   "outputs": [],
   "source": [
    "import redis\n",
    "def send_inverse_index(item):\n",
    "    pool = redis.ConnectionPool(host='cowstudio.wayne-lee.cn',port=3002,password='cowstudio', decode_responses=True)\n",
    "    redis_cli = redis.Redis(connection_pool=pool)\n",
    "    key_word,mp = item\n",
    "    redis_cli.zadd(\"item-inverse-index-\"+key_word,mp)\n",
    "    return f\"item-inverse-index-{key_word}\",mp"
   ]
  },
  {
   "cell_type": "code",
   "execution_count": 3,
   "id": "5fd95c9f-ea8a-45a9-bc0e-ae3de39a471c",
   "metadata": {},
   "outputs": [
    {
     "name": "stdout",
     "output_type": "stream",
     "text": [
      "2023-04-23\n"
     ]
    }
   ],
   "source": [
    "# define map functions \n",
    "from datetime import datetime, timedelta\n",
    "\n",
    "today_string = datetime.today().strftime('%Y-%m-%d')\n",
    "print(today_string)"
   ]
  },
  {
   "cell_type": "code",
   "execution_count": null,
   "id": "20c896eb-e686-43a9-a267-bbe3678ccb17",
   "metadata": {},
   "outputs": [
    {
     "name": "stderr",
     "output_type": "stream",
     "text": [
      "[Stage 0:>                                                          (0 + 1) / 1]\r"
     ]
    }
   ],
   "source": [
    "item_inverse_index = spark.sql(f'''\n",
    "select\n",
    "    key_word,\n",
    "    map_from_arrays(collect_list(item_id),collect_list(tfidf)) as mp\n",
    "from\n",
    "    item_word_tfidf\n",
    "where\n",
    "    date = '{today_string}'\n",
    "group by\n",
    "    key_word\n",
    "''').rdd\n",
    "\n",
    "# print(item_inverse_index.take(1))\n",
    "l = item_inverse_index.map(send_inverse_index).collect()"
   ]
  },
  {
   "cell_type": "code",
   "execution_count": null,
   "id": "ab8701c4-e1cb-4a5d-b5d4-90b7edac188d",
   "metadata": {},
   "outputs": [],
   "source": [
    "spark.stop()"
   ]
  }
 ],
 "metadata": {
  "kernelspec": {
   "display_name": "Python 3 (ipykernel)",
   "language": "python",
   "name": "python3"
  },
  "language_info": {
   "codemirror_mode": {
    "name": "ipython",
    "version": 3
   },
   "file_extension": ".py",
   "mimetype": "text/x-python",
   "name": "python",
   "nbconvert_exporter": "python",
   "pygments_lexer": "ipython3",
   "version": "3.9.16"
  }
 },
 "nbformat": 4,
 "nbformat_minor": 5
}
