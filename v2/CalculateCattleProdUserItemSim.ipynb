{
 "cells": [
  {
   "cell_type": "code",
   "execution_count": 1,
   "id": "f9bf0964-f98a-4e6c-a625-baf950b370d1",
   "metadata": {},
   "outputs": [
    {
     "name": "stderr",
     "output_type": "stream",
     "text": [
      "23/06/01 10:24:35 WARN util.NativeCodeLoader: Unable to load native-hadoop library for your platform... using builtin-java classes where applicable\n",
      "Setting default log level to \"WARN\".\n",
      "To adjust logging level use sc.setLogLevel(newLevel). For SparkR, use setLogLevel(newLevel).\n",
      "23/06/01 10:24:37 WARN util.Utils: Service 'SparkUI' could not bind on port 4040. Attempting port 4041.\n",
      "23/06/01 10:24:37 WARN util.Utils: Service 'SparkUI' could not bind on port 4041. Attempting port 4042.\n",
      "23/06/01 10:24:37 WARN util.Utils: Service 'SparkUI' could not bind on port 4042. Attempting port 4043.\n",
      "23/06/01 10:24:37 WARN spark.SparkContext: Please ensure that the number of slots available on your executors is limited by the number of cores to task cpus and not another custom resource. If cores is not the limiting resource then dynamic allocation will not work properly!\n"
     ]
    }
   ],
   "source": [
    "# get spark session, 2g mem per executor\n",
    "from pyspark import SparkConf, SparkContext\n",
    "from pyspark.sql import SparkSession\n",
    "import os\n",
    "\n",
    "# set python env\n",
    "os.environ['PYSPARK_PYTHON'] = \"/opt/conda3/envs/lab2/bin/python\"\n",
    "spark = SparkSession.builder \\\n",
    "    .appName(\"CalculateCattleProdUserItemSim\") \\\n",
    "    .master(\"spark://node01:10077\") \\\n",
    "    .enableHiveSupport()\\\n",
    "    .config(\"spark.driver.memory\", \"2g\") \\\n",
    "    .config(\"spark.executor.memory\", \"2g\") \\\n",
    "    .config(\"spark.cores.max\", \"1\") \\\n",
    "    .config(\"spark.sql.shuffle.partitions\", \"12\") \\\n",
    "    .config(\"spark.sql.autoBroadcastJoinThreshold\", \"-1\") \\\n",
    "    .getOrCreate()\n",
    "\n",
    "sc = spark.sparkContext"
   ]
  },
  {
   "cell_type": "code",
   "execution_count": 2,
   "id": "2c894e47-7316-4e46-85a8-4f2e2f3f8943",
   "metadata": {},
   "outputs": [],
   "source": [
    "from datetime import datetime\n",
    "\n",
    "date_string = datetime.today().strftime('%Y-%m-%d')"
   ]
  },
  {
   "cell_type": "code",
   "execution_count": 3,
   "id": "2d12f5a2-774f-41d1-83df-21e4a60f059b",
   "metadata": {},
   "outputs": [
    {
     "data": {
      "text/plain": [
       "<function __main__.cosine_similarity(user_vec, item_vec)>"
      ]
     },
     "execution_count": 3,
     "metadata": {},
     "output_type": "execute_result"
    }
   ],
   "source": [
    "#注册余弦相似度udf\n",
    "from pyspark.sql.types import FloatType\n",
    "import numpy as np\n",
    "\n",
    "def cosine_similarity(user_vec, item_vec):\n",
    "    return np.dot(user_vec, item_vec) / (np.linalg.norm(user_vec) * np.linalg.norm(item_vec))\n",
    "\n",
    "spark.udf.register(\"cos_sim\", cosine_similarity, FloatType())\n"
   ]
  },
  {
   "cell_type": "code",
   "execution_count": 4,
   "id": "f3b7ec46-be76-4016-b100-e01074604999",
   "metadata": {},
   "outputs": [],
   "source": [
    "w_geo = 5\n",
    "w_tag = 3\n",
    "w_text = 1"
   ]
  },
  {
   "cell_type": "code",
   "execution_count": 5,
   "id": "cd2d3953-2566-4768-bdb0-f8fec4a8a987",
   "metadata": {},
   "outputs": [],
   "source": [
    "from pyspark.sql.types import StringType, IntegerType, StructType, StructField, DoubleType\n",
    "\n",
    "# 定义schema\n",
    "schema = StructType([\n",
    "    StructField(\"user_id\", IntegerType(), True),\n",
    "    StructField(\"item_id\", IntegerType(), True),\n",
    "    StructField(\"sim\", DoubleType(), True),\n",
    "    StructField(\"date\", StringType(), True)\n",
    "])\n",
    "\n",
    "# 创建一个空的DataFrame\n",
    "spark.createDataFrame([],schema).createOrReplaceTempView(\"cattle_prod_user_item_sim\")"
   ]
  },
  {
   "cell_type": "code",
   "execution_count": 6,
   "id": "fab671f4-a19d-4004-9fd8-be41d19c35d8",
   "metadata": {},
   "outputs": [],
   "source": [
    "user_item_sim = spark.sql(f'''\n",
    "with all_users as(\n",
    "    select\n",
    "        uid as user_id\n",
    "    from\n",
    "        user_ods\n",
    "    where\n",
    "        date = '{date_string}'\n",
    "), all_items as(\n",
    "    select\n",
    "        id as item_id\n",
    "    from\n",
    "        item_ods\n",
    "    where\n",
    "        date = '{date_string}'\n",
    "    and \n",
    "        category = 'cattle_product'\n",
    "), user_item_cross as(\n",
    "    select\n",
    "        user_id,\n",
    "        item_id\n",
    "    from\n",
    "        all_users,\n",
    "        all_items\n",
    "), geo_sim as(\n",
    "    select\n",
    "        a.user_id,\n",
    "        a.item_id,\n",
    "        if(b.province = c.province,1/7,0) + if(b.city = c.city, 2/7,0) + if(b.district = c.district,4/7,0) as geo_sim\n",
    "    from\n",
    "        user_item_cross a\n",
    "    left join\n",
    "        user_geo_feature b on a.user_id = b.user_id and b.date = '{date_string}'\n",
    "    left join\n",
    "        item_geo_feature c on a.item_id = c.item_id and c.date = '{date_string}'\n",
    "), tag_sim as(\n",
    "    select\n",
    "        a.user_id,\n",
    "        a.item_id,\n",
    "        sum(b.has * c.has)/sum(1) as tag_sim\n",
    "    from\n",
    "        user_item_cross a\n",
    "    left join\n",
    "        user_tag_feature b on a.user_id = b.user_id and b.date = '{date_string}'\n",
    "    left join\n",
    "        item_tag_feature c on a.item_id = c.item_id and c.date = '{date_string}'\n",
    "    group by\n",
    "        a.user_id,a.item_id\n",
    "), user_tfidf_vec as(\n",
    "    select\n",
    "        user_id,\n",
    "        collect_list(val) over (partition by user_id order by key_word) as user_vec\n",
    "    from\n",
    "        cattle_prod_user_text_feature\n",
    "    where\n",
    "        date = '{date_string}'\n",
    "), item_tfidf_vec as(\n",
    "    select\n",
    "        item_id,\n",
    "        collect_list(val) over (partition by item_id order by key_word) as item_vec\n",
    "    from\n",
    "        cattle_prod_item_text_feature\n",
    "    where\n",
    "        date = '{date_string}'\n",
    "), text_sim as(\n",
    "    select\n",
    "        a.user_id,\n",
    "        a.item_id,\n",
    "        cos_sim(b.user_vec,c.item_vec) as text_sim\n",
    "    from\n",
    "        user_item_cross a\n",
    "    left join\n",
    "        user_tfidf_vec b on a.user_id = b.user_id\n",
    "    left join\n",
    "        item_tfidf_vec c on a.item_id = c.item_id\n",
    ")\n",
    "select\n",
    "    a.user_id,\n",
    "    a.item_id,\n",
    "    (b.geo_sim * {w_geo} + c.tag_sim * {w_tag} + d.text_sim * {w_text}) / ({w_geo} + {w_tag} + {w_text}) as sim,\n",
    "    '{date_string}' as date\n",
    "from\n",
    "    user_item_cross a\n",
    "left join\n",
    "    geo_sim b on a.user_id = b.user_id and a.item_id = b.item_id\n",
    "left join\n",
    "    tag_sim c on a.user_id = c.user_id and a.item_id = c.item_id\n",
    "left join\n",
    "    text_sim d on a.user_id = d.user_id and a.item_id = d.item_id\n",
    "''')"
   ]
  },
  {
   "cell_type": "code",
   "execution_count": null,
   "id": "02993070-6072-4cfa-a34f-d6740dd51608",
   "metadata": {},
   "outputs": [
    {
     "name": "stderr",
     "output_type": "stream",
     "text": [
      "23/06/01 10:25:30 WARN session.SessionState: METASTORE_FILTER_HOOK will be ignored, since hive.security.authorization.manager is set to instance of HiveAuthorizerFactory.\n"
     ]
    }
   ],
   "source": [
    "user_item_sim.write.mode(\"overwrite\").partitionBy(\"date\").saveAsTable(\"cattle_prod_user_item_sim\")"
   ]
  },
  {
   "cell_type": "code",
   "execution_count": null,
   "id": "821aa8b4-0810-43a7-b6a9-83eae2e7d7d4",
   "metadata": {},
   "outputs": [],
   "source": [
    "spark.stop()"
   ]
  },
  {
   "cell_type": "code",
   "execution_count": null,
   "id": "7fc00aa0-0aa1-4d79-bea6-036da507f9f8",
   "metadata": {},
   "outputs": [],
   "source": []
  }
 ],
 "metadata": {
  "kernelspec": {
   "display_name": "Python 3 (ipykernel)",
   "language": "python",
   "name": "python3"
  },
  "language_info": {
   "codemirror_mode": {
    "name": "ipython",
    "version": 3
   },
   "file_extension": ".py",
   "mimetype": "text/x-python",
   "name": "python",
   "nbconvert_exporter": "python",
   "pygments_lexer": "ipython3",
   "version": "3.9.16"
  }
 },
 "nbformat": 4,
 "nbformat_minor": 5
}
