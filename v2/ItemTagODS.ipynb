{
 "cells": [
  {
   "cell_type": "code",
   "execution_count": 1,
   "id": "f6c86eac-dd7f-4e70-8fc2-032396911e51",
   "metadata": {},
   "outputs": [
    {
     "name": "stdout",
     "output_type": "stream",
     "text": [
      "2023-04-22\n"
     ]
    }
   ],
   "source": [
    "from datetime import datetime\n",
    "date_string = datetime.today().strftime('%Y-%m-%d')\n",
    "print(date_string)\n",
    "spark_app_name = \"ItemTagODS\"\n",
    "sql = f\"SELECT item_tag.*,'{date_string}' as date from item_tag\"\n",
    "hive_table_name = \"item_tag_ods\""
   ]
  },
  {
   "cell_type": "code",
   "execution_count": 2,
   "id": "888543e0-2083-4acb-9e5e-310516864adb",
   "metadata": {},
   "outputs": [],
   "source": [
    "from pyspark.sql.types import StructType, StructField, IntegerType, StringType, LongType, DecimalType\n",
    "schema = StructType([\n",
    "    StructField(\"id\", IntegerType(), True),\n",
    "    StructField(\"item_id\", IntegerType(), True),\n",
    "    StructField(\"tag_id\", IntegerType(), True),\n",
    "    StructField(\"weight\", DecimalType(), True),\n",
    "    StructField(\"date\", StringType(), True)\n",
    "])"
   ]
  },
  {
   "cell_type": "code",
   "execution_count": 3,
   "id": "cdd54cd4-6310-4744-8916-d7a1a98e6615",
   "metadata": {},
   "outputs": [],
   "source": [
    "# mysql connection\n",
    "import mysql.connector\n",
    "\n",
    "mydb = mysql.connector.connect(\n",
    "  host=\"cowstudio.wayne-lee.cn\",\n",
    "  user=\"cowstudio\",\n",
    "  password=\"cowstudio_2119\",\n",
    "  database=\"cowstudio\"\n",
    ")"
   ]
  },
  {
   "cell_type": "code",
   "execution_count": 4,
   "id": "a8e35fb4-7b1a-4815-ab6f-43523743eb94",
   "metadata": {},
   "outputs": [
    {
     "name": "stderr",
     "output_type": "stream",
     "text": [
      "23/04/22 02:35:46 WARN util.NativeCodeLoader: Unable to load native-hadoop library for your platform... using builtin-java classes where applicable\n",
      "Setting default log level to \"WARN\".\n",
      "To adjust logging level use sc.setLogLevel(newLevel). For SparkR, use setLogLevel(newLevel).\n",
      "23/04/22 02:35:47 WARN spark.SparkContext: Please ensure that the number of slots available on your executors is limited by the number of cores to task cpus and not another custom resource. If cores is not the limiting resource then dynamic allocation will not work properly!\n"
     ]
    }
   ],
   "source": [
    "# get spark session, 2g mem per executor\n",
    "from pyspark import SparkConf, SparkContext\n",
    "from pyspark.sql import SparkSession\n",
    "import os\n",
    "\n",
    "# set python env\n",
    "os.environ['PYSPARK_PYTHON'] = \"/opt/conda3/envs/lab2/bin/python\"\n",
    "spark = SparkSession.builder \\\n",
    "    .appName(spark_app_name) \\\n",
    "    .master(\"spark://node01:10077\") \\\n",
    "    .enableHiveSupport()\\\n",
    "    .config(\"spark.driver.memory\", \"1g\") \\\n",
    "    .config(\"spark.executor.memory\", \"1g\") \\\n",
    "    .config(\"spark.cores.max\", \"1\") \\\n",
    "    .config(\"spark.sql.shuffle.partitions\", \"12\") \\\n",
    "    .config(\"spark.sql.autoBroadcastJoinThreshold\", \"-1\") \\\n",
    "    .getOrCreate()\n",
    "\n",
    "sc = spark.sparkContext"
   ]
  },
  {
   "cell_type": "code",
   "execution_count": 5,
   "id": "1c80ca19-5e9f-4e68-8e72-b3b5768456c4",
   "metadata": {},
   "outputs": [
    {
     "name": "stdout",
     "output_type": "stream",
     "text": [
      "SELECT item_tag.*,'2023-04-22' as date from item_tag\n"
     ]
    }
   ],
   "source": [
    "# get all user from db, and create an rdd\n",
    "print(sql)\n",
    "cur = mydb.cursor()\n",
    "cur.execute(sql)\n",
    "result = cur.fetchall()"
   ]
  },
  {
   "cell_type": "code",
   "execution_count": 6,
   "id": "d9278395-517c-432d-941b-cbed7ad8c0eb",
   "metadata": {},
   "outputs": [
    {
     "name": "stderr",
     "output_type": "stream",
     "text": [
      "[Stage 0:>                                                          (0 + 1) / 1]\r"
     ]
    },
    {
     "name": "stdout",
     "output_type": "stream",
     "text": [
      "+---+-------+------+------+----------+\n",
      "| id|item_id|tag_id|weight|      date|\n",
      "+---+-------+------+------+----------+\n",
      "| 14|      1|    62|     1|2023-04-22|\n",
      "| 15|      1|    30|     1|2023-04-22|\n",
      "| 16|      1|    63|     1|2023-04-22|\n",
      "| 17|      1|    19|     1|2023-04-22|\n",
      "| 18|      1|    28|     1|2023-04-22|\n",
      "| 19|      1|     1|     1|2023-04-22|\n",
      "| 20|      1|    10|     1|2023-04-22|\n",
      "| 21|     27|    29|     1|2023-04-22|\n",
      "| 22|     27|     2|     1|2023-04-22|\n",
      "| 23|     27|    35|     1|2023-04-22|\n",
      "| 24|     27|    34|     1|2023-04-22|\n",
      "| 25|     27|    33|     1|2023-04-22|\n",
      "| 26|     27|    11|     1|2023-04-22|\n",
      "| 27|    352|    29|     1|2023-04-22|\n",
      "| 28|    352|     2|     1|2023-04-22|\n",
      "| 29|    352|    35|     1|2023-04-22|\n",
      "| 30|    352|    34|     1|2023-04-22|\n",
      "| 31|    352|    33|     1|2023-04-22|\n",
      "| 32|    352|    11|     1|2023-04-22|\n",
      "| 33|    353|    29|     1|2023-04-22|\n",
      "+---+-------+------+------+----------+\n",
      "only showing top 20 rows\n",
      "\n"
     ]
    },
    {
     "name": "stderr",
     "output_type": "stream",
     "text": [
      "                                                                                \r"
     ]
    }
   ],
   "source": [
    "rdd = sc.parallelize(result)\n",
    "df = rdd.toDF(schema)\n",
    "df.show()"
   ]
  },
  {
   "cell_type": "code",
   "execution_count": 7,
   "id": "bcdaadc1-6960-4dfd-8a04-dc3c90fdc928",
   "metadata": {},
   "outputs": [
    {
     "name": "stdout",
     "output_type": "stream",
     "text": [
      "++\n",
      "||\n",
      "++\n",
      "++\n",
      "\n"
     ]
    }
   ],
   "source": [
    "# spark.sql(f\"drop table if exists {hive_table_name}\").show()"
   ]
  },
  {
   "cell_type": "code",
   "execution_count": 8,
   "id": "7b45bf99-5976-41cc-9f0f-810e161f1bf7",
   "metadata": {},
   "outputs": [
    {
     "name": "stderr",
     "output_type": "stream",
     "text": [
      "23/04/22 02:36:07 WARN session.SessionState: METASTORE_FILTER_HOOK will be ignored, since hive.security.authorization.manager is set to instance of HiveAuthorizerFactory.\n"
     ]
    }
   ],
   "source": [
    "df.write.mode(\"overwrite\").partitionBy(\"date\").saveAsTable(hive_table_name)"
   ]
  },
  {
   "cell_type": "code",
   "execution_count": 9,
   "id": "b15af17a-2558-4a11-9663-2ae906570ba7",
   "metadata": {},
   "outputs": [
    {
     "name": "stdout",
     "output_type": "stream",
     "text": [
      "+--------+---------------+-----------+\n",
      "|database|      tableName|isTemporary|\n",
      "+--------+---------------+-----------+\n",
      "| default|      event_ods|      false|\n",
      "| default|       item_ods|      false|\n",
      "| default|   item_tag_ods|      false|\n",
      "| default|item_word_count|      false|\n",
      "| default|  item_word_idf|      false|\n",
      "| default|   item_word_tf|      false|\n",
      "| default|item_word_tfidf|      false|\n",
      "| default|        tag_ods|      false|\n",
      "| default|           test|      false|\n",
      "| default|          test2|      false|\n",
      "| default|       user_ods|      false|\n",
      "| default|   user_tag_ods|      false|\n",
      "+--------+---------------+-----------+\n",
      "\n"
     ]
    }
   ],
   "source": [
    "spark.sql(\"show tables\").show()"
   ]
  },
  {
   "cell_type": "code",
   "execution_count": 10,
   "id": "878c97c3-f9da-4dfa-b1bb-b2d6be44f7f7",
   "metadata": {},
   "outputs": [],
   "source": [
    "spark.stop()\n",
    "mydb.close()"
   ]
  },
  {
   "cell_type": "code",
   "execution_count": null,
   "id": "ad1ef938-5cc3-4237-b9af-bc490452283e",
   "metadata": {},
   "outputs": [],
   "source": []
  }
 ],
 "metadata": {
  "kernelspec": {
   "display_name": "Python 3 (ipykernel)",
   "language": "python",
   "name": "python3"
  },
  "language_info": {
   "codemirror_mode": {
    "name": "ipython",
    "version": 3
   },
   "file_extension": ".py",
   "mimetype": "text/x-python",
   "name": "python",
   "nbconvert_exporter": "python",
   "pygments_lexer": "ipython3",
   "version": "3.9.16"
  }
 },
 "nbformat": 4,
 "nbformat_minor": 5
}
