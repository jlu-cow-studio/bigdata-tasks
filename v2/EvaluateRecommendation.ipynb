{
 "cells": [
  {
   "cell_type": "code",
   "execution_count": 1,
   "id": "59a976a8-f1e5-42b4-959f-0f5b7c258d93",
   "metadata": {},
   "outputs": [
    {
     "name": "stderr",
     "output_type": "stream",
     "text": [
      "23/06/01 14:11:29 WARN util.NativeCodeLoader: Unable to load native-hadoop library for your platform... using builtin-java classes where applicable\n",
      "Setting default log level to \"WARN\".\n",
      "To adjust logging level use sc.setLogLevel(newLevel). For SparkR, use setLogLevel(newLevel).\n",
      "23/06/01 14:11:30 WARN spark.SparkContext: Please ensure that the number of slots available on your executors is limited by the number of cores to task cpus and not another custom resource. If cores is not the limiting resource then dynamic allocation will not work properly!\n"
     ]
    }
   ],
   "source": [
    "# get spark session, 2g mem per executor\n",
    "from pyspark import SparkConf, SparkContext\n",
    "from pyspark.sql import SparkSession\n",
    "import os\n",
    "\n",
    "# set python env\n",
    "os.environ['PYSPARK_PYTHON'] = \"/opt/conda3/envs/lab2/bin/python\"\n",
    "spark = SparkSession.builder \\\n",
    "    .appName(\"EvaluateRecommendation\") \\\n",
    "    .master(\"spark://node01:10077\") \\\n",
    "    .enableHiveSupport()\\\n",
    "    .config(\"spark.driver.memory\", \"2g\") \\\n",
    "    .config(\"spark.executor.memory\", \"2g\") \\\n",
    "    .config(\"spark.cores.max\", \"2\") \\\n",
    "    .config(\"spark.sql.shuffle.partitions\", \"12\") \\\n",
    "    .config(\"spark.sql.autoBroadcastJoinThreshold\", \"-1\") \\\n",
    "    .getOrCreate()\n",
    "\n",
    "sc = spark.sparkContext"
   ]
  },
  {
   "cell_type": "code",
   "execution_count": 2,
   "id": "e4034734-5e70-4189-b9fb-6a04c7e0ee89",
   "metadata": {},
   "outputs": [],
   "source": [
    "from datetime import datetime\n",
    "\n",
    "date_string = datetime.today().strftime('%Y-%m-%d')"
   ]
  },
  {
   "cell_type": "code",
   "execution_count": 3,
   "id": "4b72e9e0-8a67-46ce-a345-f20743bedeee",
   "metadata": {},
   "outputs": [
    {
     "name": "stderr",
     "output_type": "stream",
     "text": [
      "23/06/01 14:11:46 WARN session.SessionState: METASTORE_FILTER_HOOK will be ignored, since hive.security.authorization.manager is set to instance of HiveAuthorizerFactory.\n"
     ]
    }
   ],
   "source": [
    "from pyspark.sql.types import StringType, IntegerType, StructType, StructField, DoubleType\n",
    "\n",
    "# 定义schema\n",
    "schema = StructType([\n",
    "    StructField(\"item_category\", IntegerType(), True),\n",
    "    StructField(\"rec_algo\", StringType(), True),\n",
    "    StructField(\"precision\", DoubleType(), True),\n",
    "    StructField(\"recall\", DoubleType(), True),\n",
    "    StructField(\"f1\", DoubleType(), True),\n",
    "    StructField(\"date\", StringType(), True)\n",
    "])\n",
    "\n",
    "# 创建一个空的DataFrame\n",
    "spark.createDataFrame([],schema).write.mode(\"overwrite\").partitionBy(\"date\").saveAsTable(\"recommendation_evaluate_result\")"
   ]
  },
  {
   "cell_type": "code",
   "execution_count": 6,
   "id": "78b6cfe6-93a5-4bb3-980a-ac6f50781973",
   "metadata": {},
   "outputs": [
    {
     "name": "stdout",
     "output_type": "stream",
     "text": [
      "+-------------+\n",
      "|     rec_algo|\n",
      "+-------------+\n",
      "|content_based|\n",
      "|   list_based|\n",
      "|     cf_based|\n",
      "+-------------+\n",
      "\n"
     ]
    }
   ],
   "source": [
    "from pyspark.sql.types import StructType, StructField, StringType\n",
    "\n",
    "rec_algo_list = [\n",
    "    ('content_based',),\n",
    "    ('list_based',),\n",
    "    ('cf_based',)\n",
    "]\n",
    "\n",
    "schema = StructType([\n",
    "    StructField(\"rec_algo\", StringType(), True)\n",
    "])\n",
    "\n",
    "event_score_df = spark.createDataFrame(rec_algo_list, schema)\n",
    "event_score_df.show()\n",
    "event_score_df.createOrReplaceTempView(\"item_rec_algo\")\n"
   ]
  },
  {
   "cell_type": "code",
   "execution_count": 7,
   "id": "c7840715-1dd2-4d3d-bd3c-3143f8e1bccc",
   "metadata": {},
   "outputs": [
    {
     "name": "stdout",
     "output_type": "stream",
     "text": [
      "+--------------+\n",
      "|      category|\n",
      "+--------------+\n",
      "|cattle_product|\n",
      "|       twitter|\n",
      "+--------------+\n",
      "\n"
     ]
    }
   ],
   "source": [
    "from pyspark.sql.types import StructType, StructField, IntegerType, StringType, DoubleType\n",
    "category_list = [\n",
    "    ('cattle_product',),\n",
    "    ('twitter',)\n",
    "]\n",
    "\n",
    "schema = StructType([\n",
    "    StructField(\"category\", StringType(), True),\n",
    "])\n",
    "\n",
    "event_score_df = spark.createDataFrame(category_list, schema)\n",
    "event_score_df.show()\n",
    "event_score_df.createOrReplaceTempView(\"item_category\")"
   ]
  },
  {
   "cell_type": "code",
   "execution_count": 11,
   "id": "ae276b50-eb47-4658-9b5f-8be423cd4452",
   "metadata": {},
   "outputs": [],
   "source": [
    "evaluate_record = spark.sql(f'''\n",
    "with item_category as(\n",
    "    select\n",
    "        distinct id as item_id,\n",
    "        category\n",
    "    from\n",
    "        item_ods\n",
    "    where\n",
    "        date = '{date_string}'\n",
    "),today_action as(\n",
    "    select\n",
    "        user_id,\n",
    "        item_id\n",
    "    from\n",
    "        event_ods\n",
    "    where\n",
    "        timestamp = '{date_string}'\n",
    "    group by\n",
    "        user_id,\n",
    "        item_id\n",
    "), today_action_with_category(\n",
    "    select\n",
    "        a.user_id,\n",
    "        a.item_id,\n",
    "        b.category\n",
    "    from\n",
    "        today_action a\n",
    "    left join\n",
    "        item_category b on a.item_id = b.item_id\n",
    "),today_feed as(\n",
    "    select\n",
    "        user_id,\n",
    "        item_id,\n",
    "        rec_algo\n",
    "    from\n",
    "        feed_ods\n",
    "    where\n",
    "        date = '{date_string}'\n",
    "), category_rec_algo_cross as(\n",
    "    select\n",
    "        rec_algo,\n",
    "        category\n",
    "    from\n",
    "        item_rec_algo,\n",
    "        item_category\n",
    "), eval_precision_recall(\n",
    "    select\n",
    "        a.category,\n",
    "        a.rec_algo,\n",
    "        sum(if(c.item_id is not null and b.item_id is not null,1,0))/sum(if(c.item_id is not null,1,0)) as precision,\n",
    "        sum(if(c.item_id is not null and b.item_id is not null,1,0))/sum(if(b.item_id is not null,1,0)) as recall\n",
    "    from\n",
    "        category_rec_algo_cross a\n",
    "    left join\n",
    "        today_action_with_category b on a.category = b.category\n",
    "    left join\n",
    "        today_feed c on a.rec_algo = c.rec_algo\n",
    "    group by\n",
    "        a.category, a.rec_algo\n",
    ")\n",
    "select\n",
    "    category,\n",
    "    rec_algo,\n",
    "    precision,\n",
    "    recall,\n",
    "    2*precision*recall / (precision + recall) as f1,\n",
    "    '{date_string}' as date\n",
    "from\n",
    "    eval_precision_recall\n",
    "''')"
   ]
  },
  {
   "cell_type": "code",
   "execution_count": 12,
   "id": "a9202611-df45-4e46-b18f-1ccdc92408dc",
   "metadata": {},
   "outputs": [
    {
     "name": "stderr",
     "output_type": "stream",
     "text": [
      "                                                                                \r"
     ]
    }
   ],
   "source": [
    "evaluate_record.write.mode(\"overwrite\").partitionBy(\"date\").saveAsTable(\"recommendation_evaluate_result\")"
   ]
  },
  {
   "cell_type": "code",
   "execution_count": 13,
   "id": "6230922f-193b-473e-a225-e4b11c602146",
   "metadata": {},
   "outputs": [],
   "source": [
    "spark.stop()"
   ]
  },
  {
   "cell_type": "code",
   "execution_count": null,
   "id": "1dd2dc2c-d35b-4704-ac51-5156c0270111",
   "metadata": {},
   "outputs": [],
   "source": []
  }
 ],
 "metadata": {
  "kernelspec": {
   "display_name": "Python 3 (ipykernel)",
   "language": "python",
   "name": "python3"
  },
  "language_info": {
   "codemirror_mode": {
    "name": "ipython",
    "version": 3
   },
   "file_extension": ".py",
   "mimetype": "text/x-python",
   "name": "python",
   "nbconvert_exporter": "python",
   "pygments_lexer": "ipython3",
   "version": "3.9.16"
  }
 },
 "nbformat": 4,
 "nbformat_minor": 5
}
