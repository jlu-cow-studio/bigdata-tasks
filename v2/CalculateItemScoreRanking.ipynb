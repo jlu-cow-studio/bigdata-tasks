{
 "cells": [
  {
   "cell_type": "code",
   "execution_count": 1,
   "id": "9db3e241-89da-4736-9140-6acbe2cdffe5",
   "metadata": {},
   "outputs": [
    {
     "name": "stderr",
     "output_type": "stream",
     "text": [
      "23/06/01 14:50:06 WARN util.NativeCodeLoader: Unable to load native-hadoop library for your platform... using builtin-java classes where applicable\n",
      "Setting default log level to \"WARN\".\n",
      "To adjust logging level use sc.setLogLevel(newLevel). For SparkR, use setLogLevel(newLevel).\n",
      "23/06/01 14:50:07 WARN spark.SparkContext: Please ensure that the number of slots available on your executors is limited by the number of cores to task cpus and not another custom resource. If cores is not the limiting resource then dynamic allocation will not work properly!\n"
     ]
    }
   ],
   "source": [
    "# get spark session, 2g mem per executor\n",
    "from pyspark import SparkConf, SparkContext\n",
    "from pyspark.sql import SparkSession\n",
    "import os\n",
    "\n",
    "# set python env\n",
    "os.environ['PYSPARK_PYTHON'] = \"/opt/conda3/envs/lab2/bin/python\"\n",
    "spark = SparkSession.builder \\\n",
    "    .appName(\"CalculateItemScoreRanking\") \\\n",
    "    .master(\"spark://node01:10077\") \\\n",
    "    .enableHiveSupport()\\\n",
    "    .config(\"spark.driver.memory\", \"2g\") \\\n",
    "    .config(\"spark.executor.memory\", \"2g\") \\\n",
    "    .config(\"spark.cores.max\", \"3\") \\\n",
    "    .config(\"spark.sql.shuffle.partitions\", \"12\") \\\n",
    "    .config(\"spark.sql.autoBroadcastJoinThreshold\", \"-1\") \\\n",
    "    .getOrCreate()\n",
    "\n",
    "sc = spark.sparkContext"
   ]
  },
  {
   "cell_type": "code",
   "execution_count": 2,
   "id": "400479ce-bcc8-442d-881f-6ce02d39f43b",
   "metadata": {},
   "outputs": [
    {
     "name": "stdout",
     "output_type": "stream",
     "text": [
      "2023-06-01\n",
      "2023-05-31\n"
     ]
    }
   ],
   "source": [
    "# define map functions \n",
    "from datetime import datetime, timedelta\n",
    "\n",
    "today_string = datetime.today().strftime('%Y-%m-%d')\n",
    "history_string = (datetime.today() - timedelta(days=1)).strftime('%Y-%m-%d')\n",
    "print(today_string)\n",
    "print(history_string)\n",
    "\n",
    "time_factor = 0.9"
   ]
  },
  {
   "cell_type": "code",
   "execution_count": 3,
   "id": "bb5376b7-157b-4fcb-bfad-85d1f79d3480",
   "metadata": {},
   "outputs": [
    {
     "name": "stderr",
     "output_type": "stream",
     "text": [
      "                                                                                \r"
     ]
    },
    {
     "name": "stdout",
     "output_type": "stream",
     "text": [
      "+----------------+-----+\n",
      "|      event_type|score|\n",
      "+----------------+-----+\n",
      "|            view|  1.0|\n",
      "|           click|  4.0|\n",
      "|       long_view|  7.0|\n",
      "|add_to_favorites| 20.0|\n",
      "|        purchase| 30.0|\n",
      "|     search_view|  5.0|\n",
      "|    search_click| 10.0|\n",
      "+----------------+-----+\n",
      "\n"
     ]
    }
   ],
   "source": [
    "from pyspark.sql.types import StructType, StructField, IntegerType, StringType, DoubleType\n",
    "event_score_data = [\n",
    "    ('view', 1.0),\n",
    "    ('click', 4.0),\n",
    "    ('long_view', 7.0),\n",
    "    ('add_to_favorites', 20.0),\n",
    "    ('purchase', 30.0),\n",
    "    ('search_view', 5.0),\n",
    "    ('search_click', 10.0)\n",
    "]\n",
    "\n",
    "schema = StructType([\n",
    "    StructField(\"event_type\", StringType(), True),\n",
    "    StructField(\"score\", DoubleType(), True)\n",
    "])\n",
    "\n",
    "event_score_df = spark.createDataFrame(event_score_data, schema)\n",
    "event_score_df.show()\n",
    "event_score_df.createOrReplaceTempView(\"event_score\")"
   ]
  },
  {
   "cell_type": "code",
   "execution_count": 4,
   "id": "dbc58622-cf4b-4e02-be75-5a059dc32022",
   "metadata": {},
   "outputs": [],
   "source": [
    "item_score_schema = StructType([\n",
    "    StructField(\"item_id\", StringType(), True),\n",
    "    StructField(\"score\", DoubleType(), True),\n",
    "    StructField(\"date\", StringType(), True)\n",
    "])\n",
    "spark.createDataFrame([],item_score_schema).createOrReplaceTempView(\"item_score\")"
   ]
  },
  {
   "cell_type": "code",
   "execution_count": 5,
   "id": "9cbf8666-3d1f-4645-a48b-5c089abf4b0d",
   "metadata": {},
   "outputs": [
    {
     "name": "stderr",
     "output_type": "stream",
     "text": [
      "23/06/01 14:50:31 WARN session.SessionState: METASTORE_FILTER_HOOK will be ignored, since hive.security.authorization.manager is set to instance of HiveAuthorizerFactory.\n",
      "[Stage 2:=============================>                             (1 + 1) / 2]\r"
     ]
    },
    {
     "name": "stdout",
     "output_type": "stream",
     "text": [
      "+-------+-----+----------+\n",
      "|item_id|score|      date|\n",
      "+-------+-----+----------+\n",
      "|     14|  0.0|2023-06-01|\n",
      "|     18|  0.0|2023-06-01|\n",
      "|     38|  0.0|2023-06-01|\n",
      "|     46|  0.0|2023-06-01|\n",
      "|     50|  0.0|2023-06-01|\n",
      "|     73|  0.0|2023-06-01|\n",
      "|     97|  0.0|2023-06-01|\n",
      "|    161|  0.0|2023-06-01|\n",
      "|    172|  0.0|2023-06-01|\n",
      "|    186|  0.0|2023-06-01|\n",
      "|    225|  0.0|2023-06-01|\n",
      "|    232|  0.0|2023-06-01|\n",
      "|    233|  0.0|2023-06-01|\n",
      "|    248|  0.0|2023-06-01|\n",
      "|    254|  0.0|2023-06-01|\n",
      "|    257|  0.0|2023-06-01|\n",
      "|    263|  0.0|2023-06-01|\n",
      "|    280|  0.0|2023-06-01|\n",
      "|    282|  0.0|2023-06-01|\n",
      "|    300|  0.0|2023-06-01|\n",
      "+-------+-----+----------+\n",
      "only showing top 20 rows\n",
      "\n"
     ]
    },
    {
     "name": "stderr",
     "output_type": "stream",
     "text": [
      "                                                                                \r"
     ]
    }
   ],
   "source": [
    "item_score = spark.sql(f'''\n",
    "with item_all as(\n",
    "    select\n",
    "        distinct id as item_id\n",
    "    from\n",
    "        item_ods\n",
    "), history_item_score as(\n",
    "    select\n",
    "        a.item_id,\n",
    "        if(b.item_id is null, 0, b.score) as score\n",
    "    from\n",
    "        item_all a\n",
    "    left join\n",
    "        item_score b on a.item_id = b.item_id\n",
    "), today_item_score as(\n",
    "    select\n",
    "        a.item_id,\n",
    "        sum(if(c.score is null, 0,c.score)) as score\n",
    "    from\n",
    "        item_all a\n",
    "    left join\n",
    "        event_ods b on a.item_id = b.item_id and b.timestamp = '{today_string}'\n",
    "    left join\n",
    "        event_score c on b.event_type = c.event_type\n",
    "    group by\n",
    "        a.item_id\n",
    "    order by\n",
    "        score desc\n",
    ")\n",
    "select\n",
    "    a.item_id,\n",
    "    b.score * {time_factor} + c.score as score,\n",
    "    '{today_string}' as date\n",
    "from\n",
    "    item_all a\n",
    "left join\n",
    "    history_item_score b on a.item_id = b.item_id\n",
    "left join\n",
    "    today_item_score c on a.item_id = c.item_id\n",
    "order by\n",
    "    score desc\n",
    "''')\n",
    "item_score.show()"
   ]
  },
  {
   "cell_type": "code",
   "execution_count": 6,
   "id": "3ab71155-43a0-42b3-9096-17783d12d93c",
   "metadata": {},
   "outputs": [],
   "source": [
    "item_score.createOrReplaceTempView(\"item_score\")"
   ]
  },
  {
   "cell_type": "code",
   "execution_count": 7,
   "id": "db20f780-64fa-4d41-ba75-10f7e031dfd4",
   "metadata": {},
   "outputs": [
    {
     "name": "stdout",
     "output_type": "stream",
     "text": [
      "+-------+---------------+-----+---+----------+\n",
      "|item_id|       category|score| rn|      date|\n",
      "+-------+---------------+-----+---+----------+\n",
      "|    220|service_product|  0.0|  1|2023-06-01|\n",
      "|     38|        service|  0.0|  1|2023-06-01|\n",
      "|    164|       breeding|  0.0|  1|2023-06-01|\n",
      "|     18| cattle_product|  0.0|  1|2023-06-01|\n",
      "|     14|   whole_cattle|  0.0|  1|2023-06-01|\n",
      "|    223|service_product|  0.0|  2|2023-06-01|\n",
      "|    282|        service|  0.0|  2|2023-06-01|\n",
      "|    363|   whole_cattle|  0.0|  2|2023-06-01|\n",
      "|     46| cattle_product|  0.0|  2|2023-06-01|\n",
      "|    165|       breeding|  0.0|  2|2023-06-01|\n",
      "|    365|   whole_cattle|  0.0|  3|2023-06-01|\n",
      "|    300|        service|  0.0|  3|2023-06-01|\n",
      "|    173|       breeding|  0.0|  3|2023-06-01|\n",
      "|    237|service_product|  0.0|  3|2023-06-01|\n",
      "|     50| cattle_product|  0.0|  3|2023-06-01|\n",
      "|    175|       breeding|  0.0|  4|2023-06-01|\n",
      "|    243|service_product|  0.0|  4|2023-06-01|\n",
      "|    307|        service|  0.0|  4|2023-06-01|\n",
      "|     73| cattle_product|  0.0|  4|2023-06-01|\n",
      "|    403|   whole_cattle|  0.0|  4|2023-06-01|\n",
      "+-------+---------------+-----+---+----------+\n",
      "only showing top 20 rows\n",
      "\n"
     ]
    },
    {
     "name": "stderr",
     "output_type": "stream",
     "text": [
      "                                                                                \r"
     ]
    }
   ],
   "source": [
    "item_order = spark.sql(f'''\n",
    "with item_all as(\n",
    "    select\n",
    "        id as item_id,\n",
    "        category\n",
    "    from\n",
    "        item_ods\n",
    ")\n",
    "select\n",
    "    item_all.item_id,\n",
    "    item_all.category,\n",
    "    item_score.score,\n",
    "    row_number() over(\n",
    "        partition by\n",
    "            category\n",
    "        order by\n",
    "            score desc\n",
    "    ) as rn,\n",
    "    '{today_string}' as date\n",
    "from\n",
    "    item_all\n",
    "left join\n",
    "    item_score on item_all.item_id = item_score.item_id\n",
    "where\n",
    "    date = '{today_string}'\n",
    "order by\n",
    "    rn\n",
    "''')\n",
    "item_order.show()\n",
    "item_order.write.mode(\"overwrite\").partitionBy(\"date\").saveAsTable(\"item_score_rank\")"
   ]
  },
  {
   "cell_type": "code",
   "execution_count": 8,
   "id": "55e12a92-1c23-44eb-a9b4-34bcc5c974dd",
   "metadata": {},
   "outputs": [],
   "source": [
    "spark.stop()"
   ]
  },
  {
   "cell_type": "code",
   "execution_count": null,
   "id": "4534483b-98e5-4089-bb8c-b1b4eff7ef12",
   "metadata": {},
   "outputs": [],
   "source": []
  }
 ],
 "metadata": {
  "kernelspec": {
   "display_name": "Python 3 (ipykernel)",
   "language": "python",
   "name": "python3"
  },
  "language_info": {
   "codemirror_mode": {
    "name": "ipython",
    "version": 3
   },
   "file_extension": ".py",
   "mimetype": "text/x-python",
   "name": "python",
   "nbconvert_exporter": "python",
   "pygments_lexer": "ipython3",
   "version": "3.9.16"
  }
 },
 "nbformat": 4,
 "nbformat_minor": 5
}
