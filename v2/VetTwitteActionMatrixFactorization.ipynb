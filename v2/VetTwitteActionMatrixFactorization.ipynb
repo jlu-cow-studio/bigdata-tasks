{
 "cells": [
  {
   "cell_type": "code",
   "execution_count": null,
   "id": "b71d64d8-6b6f-4b93-8dda-c174e848befa",
   "metadata": {},
   "outputs": [],
   "source": [
    "# get spark session, 2g mem per executor\n",
    "from pyspark import SparkConf, SparkContext\n",
    "from pyspark.sql import SparkSession\n",
    "import os\n",
    "\n",
    "# set python env\n",
    "os.environ['PYSPARK_PYTHON'] = \"/opt/conda3/envs/lab2/bin/python\"\n",
    "spark = SparkSession.builder \\\n",
    "    .appName(\"VetTwitteActionMatrixFactorization\") \\\n",
    "    .master(\"spark://node01:10077\") \\\n",
    "    .enableHiveSupport()\\\n",
    "    .config(\"spark.driver.memory\", \"2g\") \\\n",
    "    .config(\"spark.executor.memory\", \"2g\") \\\n",
    "    .config(\"spark.cores.max\", \"2\") \\\n",
    "    .config(\"spark.sql.shuffle.partitions\", \"12\") \\\n",
    "    .config(\"spark.sql.autoBroadcastJoinThreshold\", \"-1\") \\\n",
    "    .getOrCreate()\n",
    "\n",
    "sc = spark.sparkContext"
   ]
  },
  {
   "cell_type": "code",
   "execution_count": null,
   "id": "ab9817c5-6abd-461a-958d-9d6d6f87b9fb",
   "metadata": {},
   "outputs": [],
   "source": [
    "from datetime import datetime\n",
    "\n",
    "date_string = datetime.today().strftime('%Y-%m-%d')"
   ]
  },
  {
   "cell_type": "code",
   "execution_count": null,
   "id": "53d910c5-95d1-4b7e-b39d-6ec44c056acb",
   "metadata": {},
   "outputs": [],
   "source": [
    "from pyspark.ml.recommendation import ALS\n",
    "from pyspark.ml.linalg import DenseVector\n",
    "\n",
    "# 从Hive中读取数据\n",
    "df = spark.sql(f'''\n",
    "SELECT\n",
    "    user_id, \n",
    "    item_id, \n",
    "    val \n",
    "FROM \n",
    "    vet_twitte_user_action_matrix \n",
    "where \n",
    "    date = '{date_string}'\n",
    "''')\n",
    "\n",
    "# 初始化ALS模型\n",
    "als = ALS(rank=15, maxIter=10,userCol=\"user_id\", itemCol=\"item_id\", ratingCol=\"val\")\n",
    "\n",
    "# 训练模型\n",
    "model = als.fit(df)\n",
    "\n",
    "# 获取用户和物品的因子\n",
    "userFactors = model.userFactors\n",
    "itemFactors = model.itemFactors\n",
    "\n",
    "# 将因子分解为单独的列\n",
    "def extract(row):\n",
    "    return (row.id,) + tuple(float(x) for x in row.features)\n",
    "\n",
    "userFactors = userFactors.rdd.map(extract).toDF([\"user_id\"] + [\"fac_\" + str(i) for i in range(model.rank)])\n",
    "itemFactors = itemFactors.rdd.map(extract).toDF([\"item_id\"] + [\"fac_\" + str(i) for i in range(model.rank)])\n",
    "\n",
    "# 将因子数据保存回Hive\n",
    "userFactors.write.mode(\"overwrite\").saveAsTable(\"vet_twitte_user_fact_matrix\")\n",
    "itemFactors.write.mode(\"overwrite\").saveAsTable(\"vet_twitte_user_fact_matrix\")\n"
   ]
  },
  {
   "cell_type": "code",
   "execution_count": null,
   "id": "19baad56-7b67-4936-af80-019f4cbaa0f4",
   "metadata": {},
   "outputs": [],
   "source": [
    "spark.stop()"
   ]
  },
  {
   "cell_type": "code",
   "execution_count": null,
   "id": "b93fc582-744c-43b2-ad31-6cd15a60bd41",
   "metadata": {},
   "outputs": [],
   "source": []
  }
 ],
 "metadata": {
  "kernelspec": {
   "display_name": "Python 3 (ipykernel)",
   "language": "python",
   "name": "python3"
  },
  "language_info": {
   "codemirror_mode": {
    "name": "ipython",
    "version": 3
   },
   "file_extension": ".py",
   "mimetype": "text/x-python",
   "name": "python",
   "nbconvert_exporter": "python",
   "pygments_lexer": "ipython3",
   "version": "3.9.16"
  }
 },
 "nbformat": 4,
 "nbformat_minor": 5
}
