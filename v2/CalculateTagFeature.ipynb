{
 "cells": [
  {
   "cell_type": "code",
   "execution_count": 1,
   "id": "c7769356-7f08-4aac-b7fa-32cca0af7829",
   "metadata": {},
   "outputs": [
    {
     "name": "stderr",
     "output_type": "stream",
     "text": [
      "23/05/31 17:56:37 WARN util.NativeCodeLoader: Unable to load native-hadoop library for your platform... using builtin-java classes where applicable\n",
      "Setting default log level to \"WARN\".\n",
      "To adjust logging level use sc.setLogLevel(newLevel). For SparkR, use setLogLevel(newLevel).\n",
      "23/05/31 17:56:38 WARN spark.SparkContext: Please ensure that the number of slots available on your executors is limited by the number of cores to task cpus and not another custom resource. If cores is not the limiting resource then dynamic allocation will not work properly!\n"
     ]
    }
   ],
   "source": [
    "# get spark session, 2g mem per executor\n",
    "from pyspark import SparkConf, SparkContext\n",
    "from pyspark.sql import SparkSession\n",
    "import os\n",
    "\n",
    "# set python env\n",
    "os.environ['PYSPARK_PYTHON'] = \"/opt/conda3/envs/lab2/bin/python\"\n",
    "spark = SparkSession.builder \\\n",
    "    .appName(\"CalculateTagFeature\") \\\n",
    "    .master(\"spark://node01:10077\") \\\n",
    "    .enableHiveSupport()\\\n",
    "    .config(\"spark.driver.memory\", \"2g\") \\\n",
    "    .config(\"spark.executor.memory\", \"2g\") \\\n",
    "    .config(\"spark.cores.max\", \"1\") \\\n",
    "    .config(\"spark.sql.shuffle.partitions\", \"12\") \\\n",
    "    .config(\"spark.sql.autoBroadcastJoinThreshold\", \"-1\") \\\n",
    "    .getOrCreate()\n",
    "\n",
    "sc = spark.sparkContext"
   ]
  },
  {
   "cell_type": "code",
   "execution_count": 2,
   "id": "28aeaf25-3a9b-45c4-9d28-093a270cca64",
   "metadata": {},
   "outputs": [],
   "source": [
    "from datetime import datetime\n",
    "\n",
    "date_string = datetime.today().strftime('%Y-%m-%d')"
   ]
  },
  {
   "cell_type": "code",
   "execution_count": 5,
   "id": "1e39e761-699c-4db5-9fa3-3a0a068c8326",
   "metadata": {},
   "outputs": [
    {
     "name": "stderr",
     "output_type": "stream",
     "text": [
      "23/05/31 17:58:29 WARN session.SessionState: METASTORE_FILTER_HOOK will be ignored, since hive.security.authorization.manager is set to instance of HiveAuthorizerFactory.\n",
      "                                                                                \r"
     ]
    }
   ],
   "source": [
    "user_tag_feature = spark.sql(f'''\n",
    "with all_tags as(\n",
    "    select\n",
    "        distinct tag_id\n",
    "    from\n",
    "        tag_ods\n",
    "    where\n",
    "        date = '{date_string}'\n",
    "), all_users as(\n",
    "    select\n",
    "        distinct uid as user_id\n",
    "    from\n",
    "        user_ods\n",
    "    where\n",
    "        date = '{date_string}'\n",
    "), tag_user_cross as(\n",
    "    select\n",
    "        tag_id,\n",
    "        user_id\n",
    "    from\n",
    "        all_tags,\n",
    "        all_users\n",
    ")\n",
    "select\n",
    "    a.user_id,\n",
    "    a.tag_id,\n",
    "    if(b.user_id is null, 0, 1) as has,\n",
    "    '{date_string}' as date\n",
    "from\n",
    "    tag_user_cross a\n",
    "left join\n",
    "    user_tag_ods b on a.user_id = b.user_id and a.tag_id = b.tag_id\n",
    "''')\n",
    "user_tag_feature.write.mode(\"overwrite\").partitionBy(\"date\").saveAsTable(\"user_tag_feature\")"
   ]
  },
  {
   "cell_type": "code",
   "execution_count": 8,
   "id": "25991fc1-6418-4906-908c-7f68aadaa6c7",
   "metadata": {},
   "outputs": [
    {
     "name": "stderr",
     "output_type": "stream",
     "text": [
      "                                                                                \r"
     ]
    }
   ],
   "source": [
    "item_tag_feature = spark.sql(f'''\n",
    "with all_tags as(\n",
    "    select\n",
    "        distinct tag_id\n",
    "    from\n",
    "        tag_ods\n",
    "    where\n",
    "        date = '{date_string}'\n",
    "), all_items as(\n",
    "    select\n",
    "        distinct id as item_id\n",
    "    from\n",
    "        item_ods\n",
    "    where\n",
    "        date = '{date_string}'\n",
    "), tag_item_cross as(\n",
    "    select\n",
    "        tag_id,\n",
    "        item_id\n",
    "    from\n",
    "        all_tags,\n",
    "        all_items\n",
    ")\n",
    "select\n",
    "    a.item_id,\n",
    "    a.tag_id,\n",
    "    if(b.item_id is null, 0, 1) as has,\n",
    "    '{date_string}' as date\n",
    "from\n",
    "    tag_item_cross a\n",
    "left join\n",
    "    item_tag_ods b on a.item_id = b.item_id and a.tag_id = b.tag_id and b.date = '{date_string}'\n",
    "''')\n",
    "item_tag_feature.write.mode(\"overwrite\").partitionBy(\"date\").saveAsTable(\"item_tag_feature\")"
   ]
  },
  {
   "cell_type": "code",
   "execution_count": 9,
   "id": "f3bef58b-2a95-4c64-b129-50f12026a978",
   "metadata": {},
   "outputs": [],
   "source": [
    "spark.stop()"
   ]
  },
  {
   "cell_type": "code",
   "execution_count": null,
   "id": "96d58f8c-ef07-4ed6-8f80-0e65b0d7ad34",
   "metadata": {},
   "outputs": [],
   "source": []
  }
 ],
 "metadata": {
  "kernelspec": {
   "display_name": "Python 3 (ipykernel)",
   "language": "python",
   "name": "python3"
  },
  "language_info": {
   "codemirror_mode": {
    "name": "ipython",
    "version": 3
   },
   "file_extension": ".py",
   "mimetype": "text/x-python",
   "name": "python",
   "nbconvert_exporter": "python",
   "pygments_lexer": "ipython3",
   "version": "3.9.16"
  }
 },
 "nbformat": 4,
 "nbformat_minor": 5
}
