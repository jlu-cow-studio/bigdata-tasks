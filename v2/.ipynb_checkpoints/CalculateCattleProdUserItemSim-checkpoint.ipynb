{
 "cells": [
  {
   "cell_type": "code",
   "execution_count": 1,
   "id": "f9bf0964-f98a-4e6c-a625-baf950b370d1",
   "metadata": {},
   "outputs": [
    {
     "name": "stderr",
     "output_type": "stream",
     "text": [
      "23/06/01 10:04:54 WARN util.NativeCodeLoader: Unable to load native-hadoop library for your platform... using builtin-java classes where applicable\n",
      "Setting default log level to \"WARN\".\n",
      "To adjust logging level use sc.setLogLevel(newLevel). For SparkR, use setLogLevel(newLevel).\n",
      "23/06/01 10:04:55 WARN util.Utils: Service 'SparkUI' could not bind on port 4040. Attempting port 4041.\n",
      "23/06/01 10:04:55 WARN util.Utils: Service 'SparkUI' could not bind on port 4041. Attempting port 4042.\n",
      "23/06/01 10:04:55 WARN util.Utils: Service 'SparkUI' could not bind on port 4042. Attempting port 4043.\n",
      "23/06/01 10:04:55 WARN spark.SparkContext: Please ensure that the number of slots available on your executors is limited by the number of cores to task cpus and not another custom resource. If cores is not the limiting resource then dynamic allocation will not work properly!\n"
     ]
    }
   ],
   "source": [
    "# get spark session, 2g mem per executor\n",
    "from pyspark import SparkConf, SparkContext\n",
    "from pyspark.sql import SparkSession\n",
    "import os\n",
    "\n",
    "# set python env\n",
    "os.environ['PYSPARK_PYTHON'] = \"/opt/conda3/envs/lab2/bin/python\"\n",
    "spark = SparkSession.builder \\\n",
    "    .appName(\"CalculateCattleProdUserItemSim\") \\\n",
    "    .master(\"spark://node01:10077\") \\\n",
    "    .enableHiveSupport()\\\n",
    "    .config(\"spark.driver.memory\", \"2g\") \\\n",
    "    .config(\"spark.executor.memory\", \"2g\") \\\n",
    "    .config(\"spark.cores.max\", \"1\") \\\n",
    "    .config(\"spark.sql.shuffle.partitions\", \"12\") \\\n",
    "    .config(\"spark.sql.autoBroadcastJoinThreshold\", \"-1\") \\\n",
    "    .getOrCreate()\n",
    "\n",
    "sc = spark.sparkContext"
   ]
  },
  {
   "cell_type": "code",
   "execution_count": 2,
   "id": "2c894e47-7316-4e46-85a8-4f2e2f3f8943",
   "metadata": {},
   "outputs": [],
   "source": [
    "from datetime import datetime\n",
    "\n",
    "date_string = datetime.today().strftime('%Y-%m-%d')"
   ]
  },
  {
   "cell_type": "code",
   "execution_count": 3,
   "id": "2d12f5a2-774f-41d1-83df-21e4a60f059b",
   "metadata": {},
   "outputs": [
    {
     "data": {
      "text/plain": [
       "<function __main__.cosine_similarity(user_vec, item_vec)>"
      ]
     },
     "execution_count": 3,
     "metadata": {},
     "output_type": "execute_result"
    }
   ],
   "source": [
    "#注册余弦相似度udf\n",
    "from pyspark.sql.types import FloatType\n",
    "import numpy as np\n",
    "\n",
    "def cosine_similarity(user_vec, item_vec):\n",
    "    return np.dot(user_vec, item_vec) / (np.linalg.norm(user_vec) * np.linalg.norm(item_vec))\n",
    "\n",
    "spark.udf.register(\"cos_sim\", cosine_similarity, FloatType())\n"
   ]
  },
  {
   "cell_type": "code",
   "execution_count": 4,
   "id": "f3b7ec46-be76-4016-b100-e01074604999",
   "metadata": {},
   "outputs": [],
   "source": [
    "w_geo = 5\n",
    "w_tag = 3\n",
    "w_text = 1"
   ]
  },
  {
   "cell_type": "code",
   "execution_count": 5,
   "id": "cd2d3953-2566-4768-bdb0-f8fec4a8a987",
   "metadata": {},
   "outputs": [],
   "source": [
    "from pyspark.sql.types import StringType, IntegerType, StructType, StructField, DoubleType\n",
    "\n",
    "# 定义schema\n",
    "schema = StructType([\n",
    "    StructField(\"user_id\", IntegerType(), True),\n",
    "    StructField(\"item_id\", IntegerType(), True),\n",
    "    StructField(\"sim\", DoubleType(), True),\n",
    "    StructField(\"date\", StringType(), True)\n",
    "])\n",
    "\n",
    "# 创建一个空的DataFrame\n",
    "spark.createDataFrame([],schema).createOrReplaceTempView(\"cattle_prod_user_item_sim\")"
   ]
  },
  {
   "cell_type": "code",
   "execution_count": 6,
   "id": "fab671f4-a19d-4004-9fd8-be41d19c35d8",
   "metadata": {},
   "outputs": [
    {
     "ename": "ParseException",
     "evalue": "\nno viable alternative at input 'with all_users as(\\n    select\\n        uid as user_id\\n    from\\n        user_ods\\n    where\\n        date = '2023-06-01'\\n), all_items as(\\n    select\\n        id as item_id\\n    from\\n        item_ods\\n    where\\n        date = '2023-06-01'\\n    and \\n        category = 'cattle_product'\\n), user_item_cross as(\\n    select\\n        user_id,\\n        item_id\\n    from\\n        all_users,\\n        all_items\\n), geo_sim as(\\n    select\\n        a.user_id,\\n        a.item_id,\\n        if(b.province = c.province,1/7,0) + if(b.city = c.city, 2/7,0) + if(b.district = c.district,4/7,0) as geo_sim\\n    from\\n        user_item_cross a\\n    left join\\n        user_geo_feature b on a.user_id = b.user_id and b.date = '2023-06-01'\\n    left join\\n        item_geo_feature c on a.item_id = c.item_id and c.date = '2023-06-01'\\n), tag_sim as(\\n    select\\n        a.user_id,\\n        a.item_id,\\n        sum(b.has * c.has)/sum(1) as tag_sim\\n    from\\n        user_item_cross a\\n    left join\\n        user_tag_feature b on a.user_id = b.user_id and b.date = '2023-06-01'\\n    left join\\n        item_tag_feature c on a.item_id = c.item_id and c.date = '2023-06-01'\\n    group by\\n        a.user_id,a.item_id\\n), user_tfidf_vec as(\\n    select\\n        user_id,\\n        collect_list(val order'(line 52, pos 25)\n\n== SQL ==\n\nwith all_users as(\n    select\n        uid as user_id\n    from\n        user_ods\n    where\n        date = '2023-06-01'\n), all_items as(\n    select\n        id as item_id\n    from\n        item_ods\n    where\n        date = '2023-06-01'\n    and \n        category = 'cattle_product'\n), user_item_cross as(\n    select\n        user_id,\n        item_id\n    from\n        all_users,\n        all_items\n), geo_sim as(\n    select\n        a.user_id,\n        a.item_id,\n        if(b.province = c.province,1/7,0) + if(b.city = c.city, 2/7,0) + if(b.district = c.district,4/7,0) as geo_sim\n    from\n        user_item_cross a\n    left join\n        user_geo_feature b on a.user_id = b.user_id and b.date = '2023-06-01'\n    left join\n        item_geo_feature c on a.item_id = c.item_id and c.date = '2023-06-01'\n), tag_sim as(\n    select\n        a.user_id,\n        a.item_id,\n        sum(b.has * c.has)/sum(1) as tag_sim\n    from\n        user_item_cross a\n    left join\n        user_tag_feature b on a.user_id = b.user_id and b.date = '2023-06-01'\n    left join\n        item_tag_feature c on a.item_id = c.item_id and c.date = '2023-06-01'\n    group by\n        a.user_id,a.item_id\n), user_tfidf_vec as(\n    select\n        user_id,\n        collect_list(val order by key_word) as user_vec\n-------------------------^^^\n    from\n        cattle_prod_user_text_feature\n    where\n        date = '2023-06-01'\n    group by\n        user_id\n), item_tfidf_vec as(\n    select\n        item_id,\n        collect_list(val order by key_word) as item_vec\n    from\n        cattle_prod_item_text_feature\n    where\n        date = '2023-06-01'\n    group by\n        item_id\n), text_sim as(\n    select\n        a.user_id,\n        a.item_id,\n        cos_sim(b.user_vec,c.item_vec) as text_sim\n    from\n        user_item_cross a\n    left join\n        user_tfidf_vec b on a.user_id = b.user_id\n    left join\n        item_tfidf_vec c on a.item_id = c.item_id\n)\nselect\n    a.user_id,\n    a.item_id,\n    (b.geo_sim * 5 + c.tag_sim * 3 + d.text_sim * 1) / (5 + 3 + 1) as sim,\n    '2023-06-01' as date\nfrom\n    user_item_cross a\nleft join\n    geo_sim b on a.user_id = b.user_id and a.item_id = b.item_id\nleft join\n    tag_sim c on a.user_id = c.user_id and a.item_id = c.item_id\nleft join\n    text_sim d on a.user_id = d.user_id and a.item_id = d.item_id\n",
     "output_type": "error",
     "traceback": [
      "\u001b[0;31m---------------------------------------------------------------------------\u001b[0m",
      "\u001b[0;31mParseException\u001b[0m                            Traceback (most recent call last)",
      "Cell \u001b[0;32mIn[6], line 1\u001b[0m\n\u001b[0;32m----> 1\u001b[0m user_item_sim \u001b[38;5;241m=\u001b[39m \u001b[43mspark\u001b[49m\u001b[38;5;241;43m.\u001b[39;49m\u001b[43msql\u001b[49m\u001b[43m(\u001b[49m\u001b[38;5;124;43mf\u001b[39;49m\u001b[38;5;124;43m'''\u001b[39;49m\n\u001b[1;32m      2\u001b[0m \u001b[38;5;124;43mwith all_users as(\u001b[39;49m\n\u001b[1;32m      3\u001b[0m \u001b[38;5;124;43m    select\u001b[39;49m\n\u001b[1;32m      4\u001b[0m \u001b[38;5;124;43m        uid as user_id\u001b[39;49m\n\u001b[1;32m      5\u001b[0m \u001b[38;5;124;43m    from\u001b[39;49m\n\u001b[1;32m      6\u001b[0m \u001b[38;5;124;43m        user_ods\u001b[39;49m\n\u001b[1;32m      7\u001b[0m \u001b[38;5;124;43m    where\u001b[39;49m\n\u001b[1;32m      8\u001b[0m \u001b[38;5;124;43m        date = \u001b[39;49m\u001b[38;5;124;43m'\u001b[39;49m\u001b[38;5;132;43;01m{\u001b[39;49;00m\u001b[43mdate_string\u001b[49m\u001b[38;5;132;43;01m}\u001b[39;49;00m\u001b[38;5;124;43m'\u001b[39;49m\n\u001b[1;32m      9\u001b[0m \u001b[38;5;124;43m), all_items as(\u001b[39;49m\n\u001b[1;32m     10\u001b[0m \u001b[38;5;124;43m    select\u001b[39;49m\n\u001b[1;32m     11\u001b[0m \u001b[38;5;124;43m        id as item_id\u001b[39;49m\n\u001b[1;32m     12\u001b[0m \u001b[38;5;124;43m    from\u001b[39;49m\n\u001b[1;32m     13\u001b[0m \u001b[38;5;124;43m        item_ods\u001b[39;49m\n\u001b[1;32m     14\u001b[0m \u001b[38;5;124;43m    where\u001b[39;49m\n\u001b[1;32m     15\u001b[0m \u001b[38;5;124;43m        date = \u001b[39;49m\u001b[38;5;124;43m'\u001b[39;49m\u001b[38;5;132;43;01m{\u001b[39;49;00m\u001b[43mdate_string\u001b[49m\u001b[38;5;132;43;01m}\u001b[39;49;00m\u001b[38;5;124;43m'\u001b[39;49m\n\u001b[1;32m     16\u001b[0m \u001b[38;5;124;43m    and \u001b[39;49m\n\u001b[1;32m     17\u001b[0m \u001b[38;5;124;43m        category = \u001b[39;49m\u001b[38;5;124;43m'\u001b[39;49m\u001b[38;5;124;43mcattle_product\u001b[39;49m\u001b[38;5;124;43m'\u001b[39;49m\n\u001b[1;32m     18\u001b[0m \u001b[38;5;124;43m), user_item_cross as(\u001b[39;49m\n\u001b[1;32m     19\u001b[0m \u001b[38;5;124;43m    select\u001b[39;49m\n\u001b[1;32m     20\u001b[0m \u001b[38;5;124;43m        user_id,\u001b[39;49m\n\u001b[1;32m     21\u001b[0m \u001b[38;5;124;43m        item_id\u001b[39;49m\n\u001b[1;32m     22\u001b[0m \u001b[38;5;124;43m    from\u001b[39;49m\n\u001b[1;32m     23\u001b[0m \u001b[38;5;124;43m        all_users,\u001b[39;49m\n\u001b[1;32m     24\u001b[0m \u001b[38;5;124;43m        all_items\u001b[39;49m\n\u001b[1;32m     25\u001b[0m \u001b[38;5;124;43m), geo_sim as(\u001b[39;49m\n\u001b[1;32m     26\u001b[0m \u001b[38;5;124;43m    select\u001b[39;49m\n\u001b[1;32m     27\u001b[0m \u001b[38;5;124;43m        a.user_id,\u001b[39;49m\n\u001b[1;32m     28\u001b[0m \u001b[38;5;124;43m        a.item_id,\u001b[39;49m\n\u001b[1;32m     29\u001b[0m \u001b[38;5;124;43m        if(b.province = c.province,1/7,0) + if(b.city = c.city, 2/7,0) + if(b.district = c.district,4/7,0) as geo_sim\u001b[39;49m\n\u001b[1;32m     30\u001b[0m \u001b[38;5;124;43m    from\u001b[39;49m\n\u001b[1;32m     31\u001b[0m \u001b[38;5;124;43m        user_item_cross a\u001b[39;49m\n\u001b[1;32m     32\u001b[0m \u001b[38;5;124;43m    left join\u001b[39;49m\n\u001b[1;32m     33\u001b[0m \u001b[38;5;124;43m        user_geo_feature b on a.user_id = b.user_id and b.date = \u001b[39;49m\u001b[38;5;124;43m'\u001b[39;49m\u001b[38;5;132;43;01m{\u001b[39;49;00m\u001b[43mdate_string\u001b[49m\u001b[38;5;132;43;01m}\u001b[39;49;00m\u001b[38;5;124;43m'\u001b[39;49m\n\u001b[1;32m     34\u001b[0m \u001b[38;5;124;43m    left join\u001b[39;49m\n\u001b[1;32m     35\u001b[0m \u001b[38;5;124;43m        item_geo_feature c on a.item_id = c.item_id and c.date = \u001b[39;49m\u001b[38;5;124;43m'\u001b[39;49m\u001b[38;5;132;43;01m{\u001b[39;49;00m\u001b[43mdate_string\u001b[49m\u001b[38;5;132;43;01m}\u001b[39;49;00m\u001b[38;5;124;43m'\u001b[39;49m\n\u001b[1;32m     36\u001b[0m \u001b[38;5;124;43m), tag_sim as(\u001b[39;49m\n\u001b[1;32m     37\u001b[0m \u001b[38;5;124;43m    select\u001b[39;49m\n\u001b[1;32m     38\u001b[0m \u001b[38;5;124;43m        a.user_id,\u001b[39;49m\n\u001b[1;32m     39\u001b[0m \u001b[38;5;124;43m        a.item_id,\u001b[39;49m\n\u001b[1;32m     40\u001b[0m \u001b[38;5;124;43m        sum(b.has * c.has)/sum(1) as tag_sim\u001b[39;49m\n\u001b[1;32m     41\u001b[0m \u001b[38;5;124;43m    from\u001b[39;49m\n\u001b[1;32m     42\u001b[0m \u001b[38;5;124;43m        user_item_cross a\u001b[39;49m\n\u001b[1;32m     43\u001b[0m \u001b[38;5;124;43m    left join\u001b[39;49m\n\u001b[1;32m     44\u001b[0m \u001b[38;5;124;43m        user_tag_feature b on a.user_id = b.user_id and b.date = \u001b[39;49m\u001b[38;5;124;43m'\u001b[39;49m\u001b[38;5;132;43;01m{\u001b[39;49;00m\u001b[43mdate_string\u001b[49m\u001b[38;5;132;43;01m}\u001b[39;49;00m\u001b[38;5;124;43m'\u001b[39;49m\n\u001b[1;32m     45\u001b[0m \u001b[38;5;124;43m    left join\u001b[39;49m\n\u001b[1;32m     46\u001b[0m \u001b[38;5;124;43m        item_tag_feature c on a.item_id = c.item_id and c.date = \u001b[39;49m\u001b[38;5;124;43m'\u001b[39;49m\u001b[38;5;132;43;01m{\u001b[39;49;00m\u001b[43mdate_string\u001b[49m\u001b[38;5;132;43;01m}\u001b[39;49;00m\u001b[38;5;124;43m'\u001b[39;49m\n\u001b[1;32m     47\u001b[0m \u001b[38;5;124;43m    group by\u001b[39;49m\n\u001b[1;32m     48\u001b[0m \u001b[38;5;124;43m        a.user_id,a.item_id\u001b[39;49m\n\u001b[1;32m     49\u001b[0m \u001b[38;5;124;43m), user_tfidf_vec as(\u001b[39;49m\n\u001b[1;32m     50\u001b[0m \u001b[38;5;124;43m    select\u001b[39;49m\n\u001b[1;32m     51\u001b[0m \u001b[38;5;124;43m        user_id,\u001b[39;49m\n\u001b[1;32m     52\u001b[0m \u001b[38;5;124;43m        collect_list(val order by key_word) as user_vec\u001b[39;49m\n\u001b[1;32m     53\u001b[0m \u001b[38;5;124;43m    from\u001b[39;49m\n\u001b[1;32m     54\u001b[0m \u001b[38;5;124;43m        cattle_prod_user_text_feature\u001b[39;49m\n\u001b[1;32m     55\u001b[0m \u001b[38;5;124;43m    where\u001b[39;49m\n\u001b[1;32m     56\u001b[0m \u001b[38;5;124;43m        date = \u001b[39;49m\u001b[38;5;124;43m'\u001b[39;49m\u001b[38;5;132;43;01m{\u001b[39;49;00m\u001b[43mdate_string\u001b[49m\u001b[38;5;132;43;01m}\u001b[39;49;00m\u001b[38;5;124;43m'\u001b[39;49m\n\u001b[1;32m     57\u001b[0m \u001b[38;5;124;43m    group by\u001b[39;49m\n\u001b[1;32m     58\u001b[0m \u001b[38;5;124;43m        user_id\u001b[39;49m\n\u001b[1;32m     59\u001b[0m \u001b[38;5;124;43m), item_tfidf_vec as(\u001b[39;49m\n\u001b[1;32m     60\u001b[0m \u001b[38;5;124;43m    select\u001b[39;49m\n\u001b[1;32m     61\u001b[0m \u001b[38;5;124;43m        item_id,\u001b[39;49m\n\u001b[1;32m     62\u001b[0m \u001b[38;5;124;43m        collect_list(val order by key_word) as item_vec\u001b[39;49m\n\u001b[1;32m     63\u001b[0m \u001b[38;5;124;43m    from\u001b[39;49m\n\u001b[1;32m     64\u001b[0m \u001b[38;5;124;43m        cattle_prod_item_text_feature\u001b[39;49m\n\u001b[1;32m     65\u001b[0m \u001b[38;5;124;43m    where\u001b[39;49m\n\u001b[1;32m     66\u001b[0m \u001b[38;5;124;43m        date = \u001b[39;49m\u001b[38;5;124;43m'\u001b[39;49m\u001b[38;5;132;43;01m{\u001b[39;49;00m\u001b[43mdate_string\u001b[49m\u001b[38;5;132;43;01m}\u001b[39;49;00m\u001b[38;5;124;43m'\u001b[39;49m\n\u001b[1;32m     67\u001b[0m \u001b[38;5;124;43m    group by\u001b[39;49m\n\u001b[1;32m     68\u001b[0m \u001b[38;5;124;43m        item_id\u001b[39;49m\n\u001b[1;32m     69\u001b[0m \u001b[38;5;124;43m), text_sim as(\u001b[39;49m\n\u001b[1;32m     70\u001b[0m \u001b[38;5;124;43m    select\u001b[39;49m\n\u001b[1;32m     71\u001b[0m \u001b[38;5;124;43m        a.user_id,\u001b[39;49m\n\u001b[1;32m     72\u001b[0m \u001b[38;5;124;43m        a.item_id,\u001b[39;49m\n\u001b[1;32m     73\u001b[0m \u001b[38;5;124;43m        cos_sim(b.user_vec,c.item_vec) as text_sim\u001b[39;49m\n\u001b[1;32m     74\u001b[0m \u001b[38;5;124;43m    from\u001b[39;49m\n\u001b[1;32m     75\u001b[0m \u001b[38;5;124;43m        user_item_cross a\u001b[39;49m\n\u001b[1;32m     76\u001b[0m \u001b[38;5;124;43m    left join\u001b[39;49m\n\u001b[1;32m     77\u001b[0m \u001b[38;5;124;43m        user_tfidf_vec b on a.user_id = b.user_id\u001b[39;49m\n\u001b[1;32m     78\u001b[0m \u001b[38;5;124;43m    left join\u001b[39;49m\n\u001b[1;32m     79\u001b[0m \u001b[38;5;124;43m        item_tfidf_vec c on a.item_id = c.item_id\u001b[39;49m\n\u001b[1;32m     80\u001b[0m \u001b[38;5;124;43m)\u001b[39;49m\n\u001b[1;32m     81\u001b[0m \u001b[38;5;124;43mselect\u001b[39;49m\n\u001b[1;32m     82\u001b[0m \u001b[38;5;124;43m    a.user_id,\u001b[39;49m\n\u001b[1;32m     83\u001b[0m \u001b[38;5;124;43m    a.item_id,\u001b[39;49m\n\u001b[1;32m     84\u001b[0m \u001b[38;5;124;43m    (b.geo_sim * \u001b[39;49m\u001b[38;5;132;43;01m{\u001b[39;49;00m\u001b[43mw_geo\u001b[49m\u001b[38;5;132;43;01m}\u001b[39;49;00m\u001b[38;5;124;43m + c.tag_sim * \u001b[39;49m\u001b[38;5;132;43;01m{\u001b[39;49;00m\u001b[43mw_tag\u001b[49m\u001b[38;5;132;43;01m}\u001b[39;49;00m\u001b[38;5;124;43m + d.text_sim * \u001b[39;49m\u001b[38;5;132;43;01m{\u001b[39;49;00m\u001b[43mw_text\u001b[49m\u001b[38;5;132;43;01m}\u001b[39;49;00m\u001b[38;5;124;43m) / (\u001b[39;49m\u001b[38;5;132;43;01m{\u001b[39;49;00m\u001b[43mw_geo\u001b[49m\u001b[38;5;132;43;01m}\u001b[39;49;00m\u001b[38;5;124;43m + \u001b[39;49m\u001b[38;5;132;43;01m{\u001b[39;49;00m\u001b[43mw_tag\u001b[49m\u001b[38;5;132;43;01m}\u001b[39;49;00m\u001b[38;5;124;43m + \u001b[39;49m\u001b[38;5;132;43;01m{\u001b[39;49;00m\u001b[43mw_text\u001b[49m\u001b[38;5;132;43;01m}\u001b[39;49;00m\u001b[38;5;124;43m) as sim,\u001b[39;49m\n\u001b[1;32m     85\u001b[0m \u001b[38;5;124;43m    \u001b[39;49m\u001b[38;5;124;43m'\u001b[39;49m\u001b[38;5;132;43;01m{\u001b[39;49;00m\u001b[43mdate_string\u001b[49m\u001b[38;5;132;43;01m}\u001b[39;49;00m\u001b[38;5;124;43m'\u001b[39;49m\u001b[38;5;124;43m as date\u001b[39;49m\n\u001b[1;32m     86\u001b[0m \u001b[38;5;124;43mfrom\u001b[39;49m\n\u001b[1;32m     87\u001b[0m \u001b[38;5;124;43m    user_item_cross a\u001b[39;49m\n\u001b[1;32m     88\u001b[0m \u001b[38;5;124;43mleft join\u001b[39;49m\n\u001b[1;32m     89\u001b[0m \u001b[38;5;124;43m    geo_sim b on a.user_id = b.user_id and a.item_id = b.item_id\u001b[39;49m\n\u001b[1;32m     90\u001b[0m \u001b[38;5;124;43mleft join\u001b[39;49m\n\u001b[1;32m     91\u001b[0m \u001b[38;5;124;43m    tag_sim c on a.user_id = c.user_id and a.item_id = c.item_id\u001b[39;49m\n\u001b[1;32m     92\u001b[0m \u001b[38;5;124;43mleft join\u001b[39;49m\n\u001b[1;32m     93\u001b[0m \u001b[38;5;124;43m    text_sim d on a.user_id = d.user_id and a.item_id = d.item_id\u001b[39;49m\n\u001b[1;32m     94\u001b[0m \u001b[38;5;124;43m'''\u001b[39;49m\u001b[43m)\u001b[49m\n",
      "File \u001b[0;32m/opt/app/spark-3.0.1/python/pyspark/sql/session.py:649\u001b[0m, in \u001b[0;36mSparkSession.sql\u001b[0;34m(self, sqlQuery)\u001b[0m\n\u001b[1;32m    637\u001b[0m \u001b[38;5;129m@ignore_unicode_prefix\u001b[39m\n\u001b[1;32m    638\u001b[0m \u001b[38;5;129m@since\u001b[39m(\u001b[38;5;241m2.0\u001b[39m)\n\u001b[1;32m    639\u001b[0m \u001b[38;5;28;01mdef\u001b[39;00m \u001b[38;5;21msql\u001b[39m(\u001b[38;5;28mself\u001b[39m, sqlQuery):\n\u001b[1;32m    640\u001b[0m     \u001b[38;5;124;03m\"\"\"Returns a :class:`DataFrame` representing the result of the given query.\u001b[39;00m\n\u001b[1;32m    641\u001b[0m \n\u001b[1;32m    642\u001b[0m \u001b[38;5;124;03m    :return: :class:`DataFrame`\u001b[39;00m\n\u001b[0;32m   (...)\u001b[0m\n\u001b[1;32m    647\u001b[0m \u001b[38;5;124;03m    [Row(f1=1, f2=u'row1'), Row(f1=2, f2=u'row2'), Row(f1=3, f2=u'row3')]\u001b[39;00m\n\u001b[1;32m    648\u001b[0m \u001b[38;5;124;03m    \"\"\"\u001b[39;00m\n\u001b[0;32m--> 649\u001b[0m     \u001b[38;5;28;01mreturn\u001b[39;00m DataFrame(\u001b[38;5;28;43mself\u001b[39;49m\u001b[38;5;241;43m.\u001b[39;49m\u001b[43m_jsparkSession\u001b[49m\u001b[38;5;241;43m.\u001b[39;49m\u001b[43msql\u001b[49m\u001b[43m(\u001b[49m\u001b[43msqlQuery\u001b[49m\u001b[43m)\u001b[49m, \u001b[38;5;28mself\u001b[39m\u001b[38;5;241m.\u001b[39m_wrapped)\n",
      "File \u001b[0;32m/opt/app/spark-3.0.1/python/lib/py4j-0.10.9-src.zip/py4j/java_gateway.py:1304\u001b[0m, in \u001b[0;36mJavaMember.__call__\u001b[0;34m(self, *args)\u001b[0m\n\u001b[1;32m   1298\u001b[0m command \u001b[38;5;241m=\u001b[39m proto\u001b[38;5;241m.\u001b[39mCALL_COMMAND_NAME \u001b[38;5;241m+\u001b[39m\\\n\u001b[1;32m   1299\u001b[0m     \u001b[38;5;28mself\u001b[39m\u001b[38;5;241m.\u001b[39mcommand_header \u001b[38;5;241m+\u001b[39m\\\n\u001b[1;32m   1300\u001b[0m     args_command \u001b[38;5;241m+\u001b[39m\\\n\u001b[1;32m   1301\u001b[0m     proto\u001b[38;5;241m.\u001b[39mEND_COMMAND_PART\n\u001b[1;32m   1303\u001b[0m answer \u001b[38;5;241m=\u001b[39m \u001b[38;5;28mself\u001b[39m\u001b[38;5;241m.\u001b[39mgateway_client\u001b[38;5;241m.\u001b[39msend_command(command)\n\u001b[0;32m-> 1304\u001b[0m return_value \u001b[38;5;241m=\u001b[39m \u001b[43mget_return_value\u001b[49m\u001b[43m(\u001b[49m\n\u001b[1;32m   1305\u001b[0m \u001b[43m    \u001b[49m\u001b[43manswer\u001b[49m\u001b[43m,\u001b[49m\u001b[43m \u001b[49m\u001b[38;5;28;43mself\u001b[39;49m\u001b[38;5;241;43m.\u001b[39;49m\u001b[43mgateway_client\u001b[49m\u001b[43m,\u001b[49m\u001b[43m \u001b[49m\u001b[38;5;28;43mself\u001b[39;49m\u001b[38;5;241;43m.\u001b[39;49m\u001b[43mtarget_id\u001b[49m\u001b[43m,\u001b[49m\u001b[43m \u001b[49m\u001b[38;5;28;43mself\u001b[39;49m\u001b[38;5;241;43m.\u001b[39;49m\u001b[43mname\u001b[49m\u001b[43m)\u001b[49m\n\u001b[1;32m   1307\u001b[0m \u001b[38;5;28;01mfor\u001b[39;00m temp_arg \u001b[38;5;129;01min\u001b[39;00m temp_args:\n\u001b[1;32m   1308\u001b[0m     temp_arg\u001b[38;5;241m.\u001b[39m_detach()\n",
      "File \u001b[0;32m/opt/app/spark-3.0.1/python/pyspark/sql/utils.py:134\u001b[0m, in \u001b[0;36mcapture_sql_exception.<locals>.deco\u001b[0;34m(*a, **kw)\u001b[0m\n\u001b[1;32m    130\u001b[0m converted \u001b[38;5;241m=\u001b[39m convert_exception(e\u001b[38;5;241m.\u001b[39mjava_exception)\n\u001b[1;32m    131\u001b[0m \u001b[38;5;28;01mif\u001b[39;00m \u001b[38;5;129;01mnot\u001b[39;00m \u001b[38;5;28misinstance\u001b[39m(converted, UnknownException):\n\u001b[1;32m    132\u001b[0m     \u001b[38;5;66;03m# Hide where the exception came from that shows a non-Pythonic\u001b[39;00m\n\u001b[1;32m    133\u001b[0m     \u001b[38;5;66;03m# JVM exception message.\u001b[39;00m\n\u001b[0;32m--> 134\u001b[0m     \u001b[43mraise_from\u001b[49m\u001b[43m(\u001b[49m\u001b[43mconverted\u001b[49m\u001b[43m)\u001b[49m\n\u001b[1;32m    135\u001b[0m \u001b[38;5;28;01melse\u001b[39;00m:\n\u001b[1;32m    136\u001b[0m     \u001b[38;5;28;01mraise\u001b[39;00m\n",
      "File \u001b[0;32m<string>:3\u001b[0m, in \u001b[0;36mraise_from\u001b[0;34m(e)\u001b[0m\n",
      "\u001b[0;31mParseException\u001b[0m: \nno viable alternative at input 'with all_users as(\\n    select\\n        uid as user_id\\n    from\\n        user_ods\\n    where\\n        date = '2023-06-01'\\n), all_items as(\\n    select\\n        id as item_id\\n    from\\n        item_ods\\n    where\\n        date = '2023-06-01'\\n    and \\n        category = 'cattle_product'\\n), user_item_cross as(\\n    select\\n        user_id,\\n        item_id\\n    from\\n        all_users,\\n        all_items\\n), geo_sim as(\\n    select\\n        a.user_id,\\n        a.item_id,\\n        if(b.province = c.province,1/7,0) + if(b.city = c.city, 2/7,0) + if(b.district = c.district,4/7,0) as geo_sim\\n    from\\n        user_item_cross a\\n    left join\\n        user_geo_feature b on a.user_id = b.user_id and b.date = '2023-06-01'\\n    left join\\n        item_geo_feature c on a.item_id = c.item_id and c.date = '2023-06-01'\\n), tag_sim as(\\n    select\\n        a.user_id,\\n        a.item_id,\\n        sum(b.has * c.has)/sum(1) as tag_sim\\n    from\\n        user_item_cross a\\n    left join\\n        user_tag_feature b on a.user_id = b.user_id and b.date = '2023-06-01'\\n    left join\\n        item_tag_feature c on a.item_id = c.item_id and c.date = '2023-06-01'\\n    group by\\n        a.user_id,a.item_id\\n), user_tfidf_vec as(\\n    select\\n        user_id,\\n        collect_list(val order'(line 52, pos 25)\n\n== SQL ==\n\nwith all_users as(\n    select\n        uid as user_id\n    from\n        user_ods\n    where\n        date = '2023-06-01'\n), all_items as(\n    select\n        id as item_id\n    from\n        item_ods\n    where\n        date = '2023-06-01'\n    and \n        category = 'cattle_product'\n), user_item_cross as(\n    select\n        user_id,\n        item_id\n    from\n        all_users,\n        all_items\n), geo_sim as(\n    select\n        a.user_id,\n        a.item_id,\n        if(b.province = c.province,1/7,0) + if(b.city = c.city, 2/7,0) + if(b.district = c.district,4/7,0) as geo_sim\n    from\n        user_item_cross a\n    left join\n        user_geo_feature b on a.user_id = b.user_id and b.date = '2023-06-01'\n    left join\n        item_geo_feature c on a.item_id = c.item_id and c.date = '2023-06-01'\n), tag_sim as(\n    select\n        a.user_id,\n        a.item_id,\n        sum(b.has * c.has)/sum(1) as tag_sim\n    from\n        user_item_cross a\n    left join\n        user_tag_feature b on a.user_id = b.user_id and b.date = '2023-06-01'\n    left join\n        item_tag_feature c on a.item_id = c.item_id and c.date = '2023-06-01'\n    group by\n        a.user_id,a.item_id\n), user_tfidf_vec as(\n    select\n        user_id,\n        collect_list(val order by key_word) as user_vec\n-------------------------^^^\n    from\n        cattle_prod_user_text_feature\n    where\n        date = '2023-06-01'\n    group by\n        user_id\n), item_tfidf_vec as(\n    select\n        item_id,\n        collect_list(val order by key_word) as item_vec\n    from\n        cattle_prod_item_text_feature\n    where\n        date = '2023-06-01'\n    group by\n        item_id\n), text_sim as(\n    select\n        a.user_id,\n        a.item_id,\n        cos_sim(b.user_vec,c.item_vec) as text_sim\n    from\n        user_item_cross a\n    left join\n        user_tfidf_vec b on a.user_id = b.user_id\n    left join\n        item_tfidf_vec c on a.item_id = c.item_id\n)\nselect\n    a.user_id,\n    a.item_id,\n    (b.geo_sim * 5 + c.tag_sim * 3 + d.text_sim * 1) / (5 + 3 + 1) as sim,\n    '2023-06-01' as date\nfrom\n    user_item_cross a\nleft join\n    geo_sim b on a.user_id = b.user_id and a.item_id = b.item_id\nleft join\n    tag_sim c on a.user_id = c.user_id and a.item_id = c.item_id\nleft join\n    text_sim d on a.user_id = d.user_id and a.item_id = d.item_id\n"
     ]
    }
   ],
   "source": [
    "user_item_sim = spark.sql(f'''\n",
    "with all_users as(\n",
    "    select\n",
    "        uid as user_id\n",
    "    from\n",
    "        user_ods\n",
    "    where\n",
    "        date = '{date_string}'\n",
    "), all_items as(\n",
    "    select\n",
    "        id as item_id\n",
    "    from\n",
    "        item_ods\n",
    "    where\n",
    "        date = '{date_string}'\n",
    "    and \n",
    "        category = 'cattle_product'\n",
    "), user_item_cross as(\n",
    "    select\n",
    "        user_id,\n",
    "        item_id\n",
    "    from\n",
    "        all_users,\n",
    "        all_items\n",
    "), geo_sim as(\n",
    "    select\n",
    "        a.user_id,\n",
    "        a.item_id,\n",
    "        if(b.province = c.province,1/7,0) + if(b.city = c.city, 2/7,0) + if(b.district = c.district,4/7,0) as geo_sim\n",
    "    from\n",
    "        user_item_cross a\n",
    "    left join\n",
    "        user_geo_feature b on a.user_id = b.user_id and b.date = '{date_string}'\n",
    "    left join\n",
    "        item_geo_feature c on a.item_id = c.item_id and c.date = '{date_string}'\n",
    "), tag_sim as(\n",
    "    select\n",
    "        a.user_id,\n",
    "        a.item_id,\n",
    "        sum(b.has * c.has)/sum(1) as tag_sim\n",
    "    from\n",
    "        user_item_cross a\n",
    "    left join\n",
    "        user_tag_feature b on a.user_id = b.user_id and b.date = '{date_string}'\n",
    "    left join\n",
    "        item_tag_feature c on a.item_id = c.item_id and c.date = '{date_string}'\n",
    "    group by\n",
    "        a.user_id,a.item_id\n",
    "), user_tfidf_vec as(\n",
    "    select\n",
    "        user_id,\n",
    "        collect_list(val order by key_word) over (partition by user-id order by rn) as user_vec\n",
    "    from\n",
    "        cattle_prod_user_text_feature\n",
    "    where\n",
    "        date = '{date_string}'\n",
    "), item_tfidf_vec as(\n",
    "    select\n",
    "        item_id,\n",
    "        collect_list(val order by key_word) over (partition by item_id order by rn) as item_vec\n",
    "    from\n",
    "        cattle_prod_item_text_feature\n",
    "    where\n",
    "        date = '{date_string}'\n",
    "), text_sim as(\n",
    "    select\n",
    "        a.user_id,\n",
    "        a.item_id,\n",
    "        cos_sim(b.user_vec,c.item_vec) as text_sim\n",
    "    from\n",
    "        user_item_cross a\n",
    "    left join\n",
    "        user_tfidf_vec b on a.user_id = b.user_id\n",
    "    left join\n",
    "        item_tfidf_vec c on a.item_id = c.item_id\n",
    ")\n",
    "select\n",
    "    a.user_id,\n",
    "    a.item_id,\n",
    "    (b.geo_sim * {w_geo} + c.tag_sim * {w_tag} + d.text_sim * {w_text}) / ({w_geo} + {w_tag} + {w_text}) as sim,\n",
    "    '{date_string}' as date\n",
    "from\n",
    "    user_item_cross a\n",
    "left join\n",
    "    geo_sim b on a.user_id = b.user_id and a.item_id = b.item_id\n",
    "left join\n",
    "    tag_sim c on a.user_id = c.user_id and a.item_id = c.item_id\n",
    "left join\n",
    "    text_sim d on a.user_id = d.user_id and a.item_id = d.item_id\n",
    "''')"
   ]
  },
  {
   "cell_type": "code",
   "execution_count": 7,
   "id": "02993070-6072-4cfa-a34f-d6740dd51608",
   "metadata": {},
   "outputs": [
    {
     "ename": "NameError",
     "evalue": "name 'user_item_sim' is not defined",
     "output_type": "error",
     "traceback": [
      "\u001b[0;31m---------------------------------------------------------------------------\u001b[0m",
      "\u001b[0;31mNameError\u001b[0m                                 Traceback (most recent call last)",
      "Cell \u001b[0;32mIn[7], line 1\u001b[0m\n\u001b[0;32m----> 1\u001b[0m \u001b[43muser_item_sim\u001b[49m\u001b[38;5;241m.\u001b[39mwrite\u001b[38;5;241m.\u001b[39mmode(\u001b[38;5;124m\"\u001b[39m\u001b[38;5;124moverwrite\u001b[39m\u001b[38;5;124m\"\u001b[39m)\u001b[38;5;241m.\u001b[39mpartitionBy(\u001b[38;5;124m\"\u001b[39m\u001b[38;5;124mdate\u001b[39m\u001b[38;5;124m\"\u001b[39m)\u001b[38;5;241m.\u001b[39msaveAsTable(\u001b[38;5;124m\"\u001b[39m\u001b[38;5;124mcattle_prod_user_item_sim\u001b[39m\u001b[38;5;124m\"\u001b[39m)\n",
      "\u001b[0;31mNameError\u001b[0m: name 'user_item_sim' is not defined"
     ]
    }
   ],
   "source": [
    "user_item_sim.write.mode(\"overwrite\").partitionBy(\"date\").saveAsTable(\"cattle_prod_user_item_sim\")"
   ]
  },
  {
   "cell_type": "code",
   "execution_count": 8,
   "id": "821aa8b4-0810-43a7-b6a9-83eae2e7d7d4",
   "metadata": {},
   "outputs": [],
   "source": [
    "spark.stop()"
   ]
  },
  {
   "cell_type": "code",
   "execution_count": null,
   "id": "7fc00aa0-0aa1-4d79-bea6-036da507f9f8",
   "metadata": {},
   "outputs": [],
   "source": []
  }
 ],
 "metadata": {
  "kernelspec": {
   "display_name": "Python 3 (ipykernel)",
   "language": "python",
   "name": "python3"
  },
  "language_info": {
   "codemirror_mode": {
    "name": "ipython",
    "version": 3
   },
   "file_extension": ".py",
   "mimetype": "text/x-python",
   "name": "python",
   "nbconvert_exporter": "python",
   "pygments_lexer": "ipython3",
   "version": "3.9.16"
  }
 },
 "nbformat": 4,
 "nbformat_minor": 5
}
