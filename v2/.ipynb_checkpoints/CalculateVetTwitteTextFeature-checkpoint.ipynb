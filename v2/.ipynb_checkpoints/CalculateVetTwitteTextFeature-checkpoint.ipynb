{
 "cells": [
  {
   "cell_type": "code",
   "execution_count": 1,
   "id": "80a62e43-b447-4d80-ae5d-16fc9d197b01",
   "metadata": {},
   "outputs": [
    {
     "name": "stderr",
     "output_type": "stream",
     "text": [
      "23/06/01 03:46:22 WARN util.NativeCodeLoader: Unable to load native-hadoop library for your platform... using builtin-java classes where applicable\n",
      "Setting default log level to \"WARN\".\n",
      "To adjust logging level use sc.setLogLevel(newLevel). For SparkR, use setLogLevel(newLevel).\n",
      "23/06/01 03:46:23 WARN spark.SparkContext: Please ensure that the number of slots available on your executors is limited by the number of cores to task cpus and not another custom resource. If cores is not the limiting resource then dynamic allocation will not work properly!\n"
     ]
    }
   ],
   "source": [
    "# get spark session, 2g mem per executor\n",
    "from pyspark import SparkConf, SparkContext\n",
    "from pyspark.sql import SparkSession\n",
    "import os\n",
    "\n",
    "# set python env\n",
    "os.environ['PYSPARK_PYTHON'] = \"/opt/conda3/envs/lab2/bin/python\"\n",
    "spark = SparkSession.builder \\\n",
    "    .appName(\"CalculateVetTwitteTextFeature\") \\\n",
    "    .master(\"spark://node01:10077\") \\\n",
    "    .enableHiveSupport()\\\n",
    "    .config(\"spark.driver.memory\", \"2g\") \\\n",
    "    .config(\"spark.executor.memory\", \"2g\") \\\n",
    "    .config(\"spark.cores.max\", \"1\") \\\n",
    "    .config(\"spark.sql.shuffle.partitions\", \"12\") \\\n",
    "    .config(\"spark.sql.autoBroadcastJoinThreshold\", \"-1\") \\\n",
    "    .getOrCreate()\n",
    "\n",
    "sc = spark.sparkContext"
   ]
  },
  {
   "cell_type": "code",
   "execution_count": 2,
   "id": "7245cdb7-19ed-4eec-80ae-69f87c77dfe1",
   "metadata": {},
   "outputs": [],
   "source": [
    "from datetime import datetime\n",
    "\n",
    "date_string = datetime.today().strftime('%Y-%m-%d')"
   ]
  },
  {
   "cell_type": "code",
   "execution_count": 6,
   "id": "356d7f7c-b649-4741-b22e-9b5296067882",
   "metadata": {},
   "outputs": [
    {
     "name": "stderr",
     "output_type": "stream",
     "text": [
      "23/06/01 03:50:54 WARN session.SessionState: METASTORE_FILTER_HOOK will be ignored, since hive.security.authorization.manager is set to instance of HiveAuthorizerFactory.\n",
      "                                                                                \r"
     ]
    }
   ],
   "source": [
    "vet_twitte_title_item_text_feature = spark.sql(f'''\n",
    "with key_words as(\n",
    "    select\n",
    "        key_word\n",
    "    from\n",
    "        vet_twitte_title_tfidf\n",
    "    where\n",
    "        date = '{date_string}'\n",
    "    group by\n",
    "        key_word\n",
    "    order by\n",
    "        sum(tfidf) desc\n",
    "    limit 30\n",
    "), all_items as(\n",
    "    select\n",
    "        distinct id as item_id\n",
    "    from\n",
    "        item_ods\n",
    "    where\n",
    "        date = '{date_string}'\n",
    "    and\n",
    "        category = 'twitte'\n",
    "), item_words_cross(\n",
    "    select\n",
    "        item_id,\n",
    "        key_word\n",
    "    from\n",
    "        key_words,\n",
    "        all_items\n",
    ")\n",
    "select\n",
    "    a.item_id,\n",
    "    a.key_word,\n",
    "    if(b.tfidf is null,0,b.tfidf) as val,\n",
    "    '{date_string}' as date\n",
    "from\n",
    "    item_words_cross a\n",
    "left join\n",
    "    vet_twitte_title_tfidf b on a.key_word = b.key_word and a.item_id = b.item_id\n",
    "''')\n",
    "vet_twitte_title_item_text_feature.write.mode(\"overwrite\").partitionBy(\"date\").saveAsTable(\"vet_twitte_title_item_text_feature\")"
   ]
  },
  {
   "cell_type": "code",
   "execution_count": 8,
   "id": "7b6f8e5a-9827-4f6f-af25-033670f9274a",
   "metadata": {},
   "outputs": [
    {
     "name": "stderr",
     "output_type": "stream",
     "text": [
      "                                                                                \r"
     ]
    }
   ],
   "source": [
    "vet_twitte_content_item_text_feature = spark.sql(f'''\n",
    "with key_words as(\n",
    "    select\n",
    "        key_word\n",
    "    from\n",
    "        vet_twitte_content_tfidf\n",
    "    where\n",
    "        date = '{date_string}'\n",
    "    group by\n",
    "        key_word\n",
    "    order by\n",
    "        sum(tfidf) desc\n",
    "    limit 30\n",
    "), all_items as(\n",
    "    select\n",
    "        distinct id as item_id\n",
    "    from\n",
    "        item_ods\n",
    "    where\n",
    "        date = '{date_string}'\n",
    "    and\n",
    "        category = 'twitte'\n",
    "), item_words_cross(\n",
    "    select\n",
    "        item_id,\n",
    "        key_word\n",
    "    from\n",
    "        key_words,\n",
    "        all_items\n",
    ")\n",
    "select\n",
    "    a.item_id,\n",
    "    a.key_word,\n",
    "    if(b.tfidf is null,0,b.tfidf) as val,\n",
    "    '{date_string}' as date\n",
    "from\n",
    "    item_words_cross a\n",
    "left join\n",
    "    vet_twitte_content_tfidf b on a.key_word = b.key_word and a.item_id = b.item_id\n",
    "''')\n",
    "vet_twitte_content_item_text_feature.write.mode(\"overwrite\").partitionBy(\"date\").saveAsTable(\"vet_twitte_content_item_text_feature\")"
   ]
  },
  {
   "cell_type": "code",
   "execution_count": 19,
   "id": "8ac47d9f-a633-4136-a596-602938cd4f60",
   "metadata": {},
   "outputs": [],
   "source": [
    "from pyspark.sql.types import StringType, IntegerType, StructType, StructField, DoubleType\n",
    "\n",
    "# 定义schema\n",
    "schema = StructType([\n",
    "    StructField(\"user_id\", IntegerType(), True),\n",
    "    StructField(\"key_word\", StringType(), True),\n",
    "    StructField(\"val\", DoubleType(), True),\n",
    "    StructField(\"date\", StringType(), True)\n",
    "])\n",
    "\n",
    "# 创建一个空的DataFrame\n",
    "spark.createDataFrame([],schema).write.mode(\"overwrite\").partitionBy(\"date\").saveAsTable(\"vet_twitte_title_user_text_feature\")"
   ]
  },
  {
   "cell_type": "code",
   "execution_count": 18,
   "id": "22edaae7-d2fe-4ded-830a-c12ecbc6af41",
   "metadata": {},
   "outputs": [
    {
     "ename": "ModuleNotFoundError",
     "evalue": "No module named 'numpy'",
     "output_type": "error",
     "traceback": [
      "\u001b[0;31m---------------------------------------------------------------------------\u001b[0m",
      "\u001b[0;31mModuleNotFoundError\u001b[0m                       Traceback (most recent call last)",
      "Cell \u001b[0;32mIn[18], line 1\u001b[0m\n\u001b[0;32m----> 1\u001b[0m \u001b[38;5;28;01mfrom\u001b[39;00m \u001b[38;5;21;01mpyspark\u001b[39;00m\u001b[38;5;21;01m.\u001b[39;00m\u001b[38;5;21;01mmllib\u001b[39;00m\u001b[38;5;21;01m.\u001b[39;00m\u001b[38;5;21;01mlinalg\u001b[39;00m\u001b[38;5;21;01m.\u001b[39;00m\u001b[38;5;21;01mdistributed\u001b[39;00m \u001b[38;5;28;01mimport\u001b[39;00m CoordinateMatrix, MatrixEntry\n\u001b[1;32m      2\u001b[0m \u001b[38;5;66;03m#创建矩阵\u001b[39;00m\n\u001b[1;32m      3\u001b[0m table_a \u001b[38;5;241m=\u001b[39m spark\u001b[38;5;241m.\u001b[39mtable(\u001b[38;5;124m\"\u001b[39m\u001b[38;5;124mvet_twitte_user_action_matrix\u001b[39m\u001b[38;5;124m\"\u001b[39m)\n",
      "File \u001b[0;32m/opt/app/spark-3.0.1/python/pyspark/mllib/__init__.py:28\u001b[0m\n\u001b[1;32m     24\u001b[0m \u001b[38;5;28;01mfrom\u001b[39;00m \u001b[38;5;21;01m__future__\u001b[39;00m \u001b[38;5;28;01mimport\u001b[39;00m absolute_import\n\u001b[1;32m     26\u001b[0m \u001b[38;5;66;03m# MLlib currently needs NumPy 1.4+, so complain if lower\u001b[39;00m\n\u001b[0;32m---> 28\u001b[0m \u001b[38;5;28;01mimport\u001b[39;00m \u001b[38;5;21;01mnumpy\u001b[39;00m\n\u001b[1;32m     30\u001b[0m ver \u001b[38;5;241m=\u001b[39m [\u001b[38;5;28mint\u001b[39m(x) \u001b[38;5;28;01mfor\u001b[39;00m x \u001b[38;5;129;01min\u001b[39;00m numpy\u001b[38;5;241m.\u001b[39mversion\u001b[38;5;241m.\u001b[39mversion\u001b[38;5;241m.\u001b[39msplit(\u001b[38;5;124m'\u001b[39m\u001b[38;5;124m.\u001b[39m\u001b[38;5;124m'\u001b[39m)[:\u001b[38;5;241m2\u001b[39m]]\n\u001b[1;32m     31\u001b[0m \u001b[38;5;28;01mif\u001b[39;00m ver \u001b[38;5;241m<\u001b[39m [\u001b[38;5;241m1\u001b[39m, \u001b[38;5;241m4\u001b[39m]:\n",
      "\u001b[0;31mModuleNotFoundError\u001b[0m: No module named 'numpy'"
     ]
    }
   ],
   "source": [
    "from pyspark.mllib.linalg.distributed import CoordinateMatrix, MatrixEntry\n",
    "#创建矩阵\n",
    "table_a = spark.table(\"vet_twitte_user_action_matrix\")\n",
    "table_b = spark.table(\"vet_twitte_title_item_text_feature\")\n",
    "rdd_title_user_feature = table_a.filter(table_a.date == date_string).select('user_id','item_id','val').rdd.map(lambda row: MatrixEntry(row.user_id, row.item_id, row.val))\n",
    "rdd_title_item_feature = table_b.filter(table_b.date == date_string).select('item_id','key_word','val').rdd.map(lambda row:MatrixEntry(row.item_id, row.key_word, row.val))\n",
    "mat_user_item = CoordinateMatrix(rdd_title_user_feature)\n",
    "mat_item_word = CoordinateMatrix(rdd_title_item_feature)\n",
    "\n",
    "#用户-物品， 物品-关键字矩阵相乘\n",
    "mat_user_item = mat_user_item.toBlockMatrix()\n",
    "mat_item_word = mat_item_word.toBlockMatrix()\n",
    "result = mat_user_item.multiply(mat_item_word)\n",
    "\n",
    "#用户-关键字 特征存储\n",
    "vet_twitte_title_user_text_feature = result.toCoordinateMatrix().entries.map(lambda e: (e.i,e.j.e.value)).toDF([\"user_id\",\"key_word\",\"val\"])\n",
    "vet_twitte_title_user_text_feature.write.mode(\"overwrite\").partitionBy(\"date\").saveAsTable(\"vet_twitte_title_user_text_feature\")"
   ]
  },
  {
   "cell_type": "code",
   "execution_count": 20,
   "id": "9f3d7cfb-44be-45ac-a341-c86501a60e50",
   "metadata": {},
   "outputs": [
    {
     "name": "stderr",
     "output_type": "stream",
     "text": [
      "23/06/01 10:42:04 ERROR cluster.StandaloneSchedulerBackend: Application has been killed. Reason: Master removed our application: KILLED\n",
      "23/06/01 10:42:04 ERROR netty.Inbox: Ignoring error\n",
      "org.apache.spark.SparkException: Exiting due to error from cluster scheduler: Master removed our application: KILLED\n",
      "\tat org.apache.spark.scheduler.TaskSchedulerImpl.error(TaskSchedulerImpl.scala:726)\n",
      "\tat org.apache.spark.scheduler.cluster.StandaloneSchedulerBackend.dead(StandaloneSchedulerBackend.scala:152)\n",
      "\tat org.apache.spark.deploy.client.StandaloneAppClient$ClientEndpoint.markDead(StandaloneAppClient.scala:258)\n",
      "\tat org.apache.spark.deploy.client.StandaloneAppClient$ClientEndpoint$$anonfun$receive$1.applyOrElse(StandaloneAppClient.scala:168)\n",
      "\tat org.apache.spark.rpc.netty.Inbox.$anonfun$process$1(Inbox.scala:115)\n",
      "\tat org.apache.spark.rpc.netty.Inbox.safelyCall(Inbox.scala:203)\n",
      "\tat org.apache.spark.rpc.netty.Inbox.process(Inbox.scala:100)\n",
      "\tat org.apache.spark.rpc.netty.MessageLoop.org$apache$spark$rpc$netty$MessageLoop$$receiveLoop(MessageLoop.scala:75)\n",
      "\tat org.apache.spark.rpc.netty.MessageLoop$$anon$1.run(MessageLoop.scala:41)\n",
      "\tat java.util.concurrent.ThreadPoolExecutor.runWorker(ThreadPoolExecutor.java:1149)\n",
      "\tat java.util.concurrent.ThreadPoolExecutor$Worker.run(ThreadPoolExecutor.java:624)\n",
      "\tat java.lang.Thread.run(Thread.java:748)\n",
      "23/06/01 10:42:04 WARN server.TransportChannelHandler: Exception in connection from /10.0.0.11:60860\n",
      "java.io.IOException: Connection reset by peer\n",
      "\tat sun.nio.ch.FileDispatcherImpl.read0(Native Method)\n",
      "\tat sun.nio.ch.SocketDispatcher.read(SocketDispatcher.java:39)\n",
      "\tat sun.nio.ch.IOUtil.readIntoNativeBuffer(IOUtil.java:223)\n",
      "\tat sun.nio.ch.IOUtil.read(IOUtil.java:192)\n",
      "\tat sun.nio.ch.SocketChannelImpl.read(SocketChannelImpl.java:380)\n",
      "\tat io.netty.buffer.PooledByteBuf.setBytes(PooledByteBuf.java:253)\n",
      "\tat io.netty.buffer.AbstractByteBuf.writeBytes(AbstractByteBuf.java:1133)\n",
      "\tat io.netty.channel.socket.nio.NioSocketChannel.doReadBytes(NioSocketChannel.java:350)\n",
      "\tat io.netty.channel.nio.AbstractNioByteChannel$NioByteUnsafe.read(AbstractNioByteChannel.java:148)\n",
      "\tat io.netty.channel.nio.NioEventLoop.processSelectedKey(NioEventLoop.java:714)\n",
      "\tat io.netty.channel.nio.NioEventLoop.processSelectedKeysOptimized(NioEventLoop.java:650)\n",
      "\tat io.netty.channel.nio.NioEventLoop.processSelectedKeys(NioEventLoop.java:576)\n",
      "\tat io.netty.channel.nio.NioEventLoop.run(NioEventLoop.java:493)\n",
      "\tat io.netty.util.concurrent.SingleThreadEventExecutor$4.run(SingleThreadEventExecutor.java:989)\n",
      "\tat io.netty.util.internal.ThreadExecutorMap$2.run(ThreadExecutorMap.java:74)\n",
      "\tat io.netty.util.concurrent.FastThreadLocalRunnable.run(FastThreadLocalRunnable.java:30)\n",
      "\tat java.lang.Thread.run(Thread.java:748)\n",
      "23/06/01 10:42:04 ERROR scheduler.TaskSchedulerImpl: Lost executor 0 on 10.0.0.11: Remote RPC client disassociated. Likely due to containers exceeding thresholds, or network issues. Check driver logs for WARN messages.\n"
     ]
    }
   ],
   "source": [
    "from pyspark.sql.types import StringType, IntegerType, StructType, StructField, DoubleType\n",
    "\n",
    "# 定义schema\n",
    "schema = StructType([\n",
    "    StructField(\"user_id\", IntegerType(), True),\n",
    "    StructField(\"key_word\", StringType(), True),\n",
    "    StructField(\"val\", DoubleType(), True),\n",
    "    StructField(\"date\", StringType(), True)\n",
    "])\n",
    "\n",
    "# 创建一个空的DataFrame\n",
    "spark.createDataFrame([],schema).write.mode(\"overwrite\").partitionBy(\"date\").saveAsTable(\"vet_twitte_content_user_text_feature\")"
   ]
  },
  {
   "cell_type": "code",
   "execution_count": null,
   "id": "efc3914e-3cac-4c9e-bcce-cf8da38e7f17",
   "metadata": {},
   "outputs": [],
   "source": [
    "from pyspark.mllib.linalg.distributed import CoordinateMatrix, MatrixEntry\n",
    "#创建矩阵\n",
    "table_a = spark.table(\"vet_twitte_user_action_matrix\")\n",
    "table_b = spark.table(\"vet_twitte_content_item_text_feature\")\n",
    "rdd_content_user_feature = table_a.filter(table_a.date == date_string).select('user_id','item_id','val').rdd.map(lambda row: MatrixEntry(row.user_id, row.item_id, row.val))\n",
    "rdd_content_item_feature = table_b.filter(table_b.date == date_string).select('item_id','key_word','val').rdd.map(lambda row:MatrixEntry(row.item_id, row.key_word, row.val))\n",
    "mat_user_item = CoordinateMatrix(rdd_content_user_feature)\n",
    "mat_item_word = CoordinateMatrix(rdd_content_item_feature)\n",
    "\n",
    "#用户-物品， 物品-关键字矩阵相乘\n",
    "mat_user_item = mat_user_item.toBlockMatrix()\n",
    "mat_item_word = mat_item_word.toBlockMatrix()\n",
    "result = mat_user_item.multiply(mat_item_word)\n",
    "\n",
    "#用户-关键字 特征存储\n",
    "vet_twitte_content_user_text_feature = result.toCoordinateMatrix().entries.map(lambda e: (e.i,e.j.e.value)).toDF([\"user_id\",\"key_word\",\"val\"])\n",
    "vet_twitte_content_user_text_feature.write.mode(\"overwrite\").partitionBy(\"date\").saveAsTable(\"vet_twitte_content_user_text_feature\")"
   ]
  },
  {
   "cell_type": "code",
   "execution_count": null,
   "id": "31db6771-1841-423f-84b2-694b3f0778a1",
   "metadata": {},
   "outputs": [],
   "source": [
    "spark.stop()"
   ]
  }
 ],
 "metadata": {
  "kernelspec": {
   "display_name": "Python 3 (ipykernel)",
   "language": "python",
   "name": "python3"
  },
  "language_info": {
   "codemirror_mode": {
    "name": "ipython",
    "version": 3
   },
   "file_extension": ".py",
   "mimetype": "text/x-python",
   "name": "python",
   "nbconvert_exporter": "python",
   "pygments_lexer": "ipython3",
   "version": "3.9.16"
  }
 },
 "nbformat": 4,
 "nbformat_minor": 5
}
