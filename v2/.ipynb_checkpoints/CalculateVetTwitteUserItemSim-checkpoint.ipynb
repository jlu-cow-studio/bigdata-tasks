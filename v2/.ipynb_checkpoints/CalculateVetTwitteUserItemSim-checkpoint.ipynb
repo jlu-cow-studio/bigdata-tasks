{
 "cells": [
  {
   "cell_type": "code",
   "execution_count": 1,
   "id": "844f9f94-7f56-462d-80dc-acc5baa3b66a",
   "metadata": {},
   "outputs": [
    {
     "name": "stderr",
     "output_type": "stream",
     "text": [
      "23/06/01 10:34:41 WARN util.NativeCodeLoader: Unable to load native-hadoop library for your platform... using builtin-java classes where applicable\n",
      "Setting default log level to \"WARN\".\n",
      "To adjust logging level use sc.setLogLevel(newLevel). For SparkR, use setLogLevel(newLevel).\n",
      "23/06/01 10:34:42 WARN util.Utils: Service 'SparkUI' could not bind on port 4040. Attempting port 4041.\n",
      "23/06/01 10:34:42 WARN util.Utils: Service 'SparkUI' could not bind on port 4041. Attempting port 4042.\n",
      "23/06/01 10:34:42 WARN util.Utils: Service 'SparkUI' could not bind on port 4042. Attempting port 4043.\n",
      "23/06/01 10:34:42 WARN spark.SparkContext: Please ensure that the number of slots available on your executors is limited by the number of cores to task cpus and not another custom resource. If cores is not the limiting resource then dynamic allocation will not work properly!\n"
     ]
    }
   ],
   "source": [
    "# get spark session, 2g mem per executor\n",
    "from pyspark import SparkConf, SparkContext\n",
    "from pyspark.sql import SparkSession\n",
    "import os\n",
    "\n",
    "# set python env\n",
    "os.environ['PYSPARK_PYTHON'] = \"/opt/conda3/envs/lab2/bin/python\"\n",
    "spark = SparkSession.builder \\\n",
    "    .appName(\"CalculateVetTwitteTextFeature\") \\\n",
    "    .master(\"spark://node01:10077\") \\\n",
    "    .enableHiveSupport()\\\n",
    "    .config(\"spark.driver.memory\", \"2g\") \\\n",
    "    .config(\"spark.executor.memory\", \"2g\") \\\n",
    "    .config(\"spark.cores.max\", \"1\") \\\n",
    "    .config(\"spark.sql.shuffle.partitions\", \"12\") \\\n",
    "    .config(\"spark.sql.autoBroadcastJoinThreshold\", \"-1\") \\\n",
    "    .getOrCreate()\n",
    "\n",
    "sc = spark.sparkContext"
   ]
  },
  {
   "cell_type": "code",
   "execution_count": 2,
   "id": "cc4e2f0e-45bc-41fc-af24-6c6c65684852",
   "metadata": {},
   "outputs": [],
   "source": [
    "from datetime import datetime\n",
    "\n",
    "date_string = datetime.today().strftime('%Y-%m-%d')"
   ]
  },
  {
   "cell_type": "code",
   "execution_count": 3,
   "id": "d4f3e38f-fa93-47c5-8608-0247d022899b",
   "metadata": {},
   "outputs": [
    {
     "data": {
      "text/plain": [
       "<function __main__.cosine_similarity(user_vec, item_vec)>"
      ]
     },
     "execution_count": 3,
     "metadata": {},
     "output_type": "execute_result"
    }
   ],
   "source": [
    "#注册余弦相似度udf\n",
    "from pyspark.sql.types import FloatType\n",
    "import numpy as np\n",
    "\n",
    "def cosine_similarity(user_vec, item_vec):\n",
    "    return np.dot(user_vec, item_vec) / (np.linalg.norm(user_vec) * np.linalg.norm(item_vec))\n",
    "\n",
    "spark.udf.register(\"cos_sim\", cosine_similarity, FloatType())\n"
   ]
  },
  {
   "cell_type": "code",
   "execution_count": 4,
   "id": "ca6cce7b-5ab2-42f6-88de-a66291d1961e",
   "metadata": {},
   "outputs": [],
   "source": [
    "w_tag = 3\n",
    "w_title = 4\n",
    "w_content = 7 "
   ]
  },
  {
   "cell_type": "code",
   "execution_count": 5,
   "id": "bf2ff6b3-20e9-426b-8c52-ba9f6f8268f3",
   "metadata": {},
   "outputs": [],
   "source": [
    "from pyspark.sql.types import StringType, IntegerType, StructType, StructField, DoubleType\n",
    "\n",
    "# 定义schema\n",
    "schema = StructType([\n",
    "    StructField(\"user_id\", IntegerType(), True),\n",
    "    StructField(\"item_id\", IntegerType(), True),\n",
    "    StructField(\"sim\", DoubleType(), True),\n",
    "    StructField(\"date\", StringType(), True)\n",
    "])\n",
    "\n",
    "# 创建一个空的DataFrame\n",
    "spark.createDataFrame([],schema).createOrReplaceTempView(\"vet_twitte_user_item_sim\")"
   ]
  },
  {
   "cell_type": "code",
   "execution_count": 7,
   "id": "0a6e05f8-1645-47f7-a227-27f8d696011f",
   "metadata": {},
   "outputs": [],
   "source": [
    "user_item_sim = spark.sql(f'''\n",
    "with all_users as(\n",
    "    select\n",
    "        uid as user_id\n",
    "    from\n",
    "        user_ods\n",
    "    where\n",
    "        date = '{date_string}'\n",
    "), all_items as(\n",
    "    select\n",
    "        id as item_id\n",
    "    from\n",
    "        item_ods\n",
    "    where\n",
    "        date = '{date_string}'\n",
    "    and \n",
    "        category = 'twitte'\n",
    "), user_item_cross as(\n",
    "    select\n",
    "        user_id,\n",
    "        item_id\n",
    "    from\n",
    "        all_users,\n",
    "        all_items\n",
    "), tag_sim as(\n",
    "    select\n",
    "        a.user_id,\n",
    "        a.item_id,\n",
    "        sum(b.has * c.has)/sum(1) as tag_sim\n",
    "    from\n",
    "        user_item_cross a\n",
    "    left join\n",
    "        user_tag_feature b on a.user_id = b.user_id and b.date = '{date_string}'\n",
    "    left join\n",
    "        item_tag_feature c on a.item_id = c.item_id and c.date = '{date_string}'\n",
    "    group by\n",
    "        a.user_id,a.item_id\n",
    "), title_user_tfidf_vec as(\n",
    "    select\n",
    "        user_id,\n",
    "        collect_list(val) over (partition by user_id order by key_word) as user_vec\n",
    "    from\n",
    "        vet_twitte_title_user_text_feature\n",
    "    where\n",
    "        date = '{date_string}'\n",
    "), title_item_tfidf_vec as(\n",
    "    select\n",
    "        item_id,\n",
    "        collect_list(val) over (partition by item_id order by key_word) as item_vec\n",
    "    from\n",
    "        vet_twitte_title_item_text_feature\n",
    "    where\n",
    "        date = '{date_string}'\n",
    "), title_text_sim as(\n",
    "    select\n",
    "        a.user_id,\n",
    "        a.item_id,\n",
    "        cos_sim(b.user_vec,c.item_vec) as title_sim\n",
    "    from\n",
    "        user_item_cross a\n",
    "    left join\n",
    "        title_user_tfidf_vec b on a.user_id = b.user_id\n",
    "    left join\n",
    "        title_item_tfidf_vec c on a.item_id = c.item_id\n",
    "), content_user_tfidf_vec as(\n",
    "    select\n",
    "        user_id,\n",
    "        collect_list(val) over (partition by user_id order by key_word) as user_vec\n",
    "    from\n",
    "        vet_twitte_content_user_text_feature\n",
    "    where\n",
    "        date = '{date_string}'\n",
    "), content_item_tfidf_vec as(\n",
    "    select\n",
    "        item_id,\n",
    "        collect_list(val) over (partition by item_id order by key_word) as item_vec\n",
    "    from\n",
    "        vet_twitte_content_item_text_feature\n",
    "    where\n",
    "        date = '{date_string}'\n",
    "), content_text_sim as(\n",
    "    select\n",
    "        a.user_id,\n",
    "        a.item_id,\n",
    "        cos_sim(b.user_vec,c.item_vec) as content_sim\n",
    "    from\n",
    "        user_item_cross a\n",
    "    left join\n",
    "        content_user_tfidf_vec b on a.user_id = b.user_id\n",
    "    left join\n",
    "        content_item_tfidf_vec c on a.item_id = c.item_id\n",
    ")\n",
    "select\n",
    "    a.user_id,\n",
    "    a.item_id,\n",
    "    (b.tag_sim * {w_tag} + c.title_sim * {w_title} + d.content_sim) / ({w_tag} + {w_title} + {w_content}) as sim,\n",
    "    '{date_string}' as date\n",
    "from\n",
    "    user_item_cross a\n",
    "left join\n",
    "    tag_sim b on a.user_id = b.user_id and a.item_id = b.item_id\n",
    "left join\n",
    "    title_text_sim c on a.user_id = c.user_id and a.item_id = c.item_id\n",
    "left join\n",
    "    content_text_sim d on a.user_id = d.user_id and a.item_id = d.item_id\n",
    "''')"
   ]
  },
  {
   "cell_type": "code",
   "execution_count": null,
   "id": "b62a5fbe-ee7b-43d3-a33f-1219b0f60634",
   "metadata": {},
   "outputs": [
    {
     "name": "stderr",
     "output_type": "stream",
     "text": [
      "23/06/01 10:38:45 WARN session.SessionState: METASTORE_FILTER_HOOK will be ignored, since hive.security.authorization.manager is set to instance of HiveAuthorizerFactory.\n"
     ]
    }
   ],
   "source": [
    "user_item_sim.write.mode(\"overwrite\").partitionBy(\"date\").saveAsTable(\"vet_twitte_user_item_sim\")"
   ]
  },
  {
   "cell_type": "code",
   "execution_count": null,
   "id": "e334c73a-a66f-4577-8a20-b692a9e0ef70",
   "metadata": {},
   "outputs": [],
   "source": [
    "spark.stop()"
   ]
  },
  {
   "cell_type": "code",
   "execution_count": null,
   "id": "a29cb90c-fea1-444c-9b61-d378df9e66a4",
   "metadata": {},
   "outputs": [],
   "source": []
  }
 ],
 "metadata": {
  "kernelspec": {
   "display_name": "Python 3 (ipykernel)",
   "language": "python",
   "name": "python3"
  },
  "language_info": {
   "codemirror_mode": {
    "name": "ipython",
    "version": 3
   },
   "file_extension": ".py",
   "mimetype": "text/x-python",
   "name": "python",
   "nbconvert_exporter": "python",
   "pygments_lexer": "ipython3",
   "version": "3.9.16"
  }
 },
 "nbformat": 4,
 "nbformat_minor": 5
}
