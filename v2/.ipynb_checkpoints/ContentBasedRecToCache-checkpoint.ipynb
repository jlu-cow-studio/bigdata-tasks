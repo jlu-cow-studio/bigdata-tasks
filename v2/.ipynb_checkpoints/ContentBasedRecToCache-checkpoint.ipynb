{
 "cells": [
  {
   "cell_type": "code",
   "execution_count": 1,
   "id": "3d478317-5a52-405d-b698-ad72e624e8ad",
   "metadata": {},
   "outputs": [
    {
     "name": "stderr",
     "output_type": "stream",
     "text": [
      "23/06/01 14:02:16 WARN util.NativeCodeLoader: Unable to load native-hadoop library for your platform... using builtin-java classes where applicable\n",
      "Setting default log level to \"WARN\".\n",
      "To adjust logging level use sc.setLogLevel(newLevel). For SparkR, use setLogLevel(newLevel).\n",
      "23/06/01 14:02:17 WARN spark.SparkContext: Please ensure that the number of slots available on your executors is limited by the number of cores to task cpus and not another custom resource. If cores is not the limiting resource then dynamic allocation will not work properly!\n"
     ]
    }
   ],
   "source": [
    "# get spark session, 2g mem per executor\n",
    "from pyspark import SparkConf, SparkContext\n",
    "from pyspark.sql import SparkSession\n",
    "import os\n",
    "\n",
    "# set python env\n",
    "os.environ['PYSPARK_PYTHON'] = \"/opt/conda3/envs/lab2/bin/python\"\n",
    "spark = SparkSession.builder \\\n",
    "    .appName(\"ContentBasedRecToCache\") \\\n",
    "    .master(\"spark://node01:10077\") \\\n",
    "    .enableHiveSupport()\\\n",
    "    .config(\"spark.driver.memory\", \"2g\") \\\n",
    "    .config(\"spark.executor.memory\", \"2g\") \\\n",
    "    .config(\"spark.cores.max\", \"1\") \\\n",
    "    .config(\"spark.sql.shuffle.partitions\", \"12\") \\\n",
    "    .config(\"spark.sql.autoBroadcastJoinThreshold\", \"-1\") \\\n",
    "    .getOrCreate()\n",
    "\n",
    "sc = spark.sparkContext"
   ]
  },
  {
   "cell_type": "code",
   "execution_count": 2,
   "id": "403b7bee-aa32-41f1-ba98-578667e4ed61",
   "metadata": {},
   "outputs": [],
   "source": [
    "from datetime import datetime\n",
    "\n",
    "date_string = datetime.today().strftime('%Y-%m-%d')"
   ]
  },
  {
   "cell_type": "code",
   "execution_count": 3,
   "id": "9812ff4b-0d2d-44c0-a20e-e17c117f688f",
   "metadata": {},
   "outputs": [],
   "source": [
    "import redis\n",
    "def cache_cattle_prod(row):\n",
    "    pool = redis.ConnectionPool(host='cowstudio.wayne-lee.cn',port=3002,password='cowstudio', decode_responses=True)\n",
    "    redis_cli = redis.Redis(connection_pool=pool)\n",
    "    user_id, item_list = row\n",
    "    result = redis_cli.lset(f'content_based_cattle_prod_user_{user_id}',item_list)\n",
    "    return f'content_based_cattle_prod_user_{user_id}',result\n",
    "\n",
    "def cache_vet_twitte(row):\n",
    "    pool = redis.ConnectionPool(host='cowstudio.wayne-lee.cn',port=3002,password='cowstudio', decode_responses=True)\n",
    "    redis_cli = redis.Redis(connection_pool=pool)\n",
    "    user_id, item_list = row\n",
    "    result = redis_cli.lset(f'content_based_vet_twitte_user_{user_id}',item_list)\n",
    "    return f'content_based_vet_twitte_user_{user_id}',result\n",
    "        "
   ]
  },
  {
   "cell_type": "code",
   "execution_count": 4,
   "id": "df9b6a00-16b4-4bdc-9491-a0dafc8f1b41",
   "metadata": {},
   "outputs": [
    {
     "name": "stderr",
     "output_type": "stream",
     "text": [
      "23/06/01 14:02:31 WARN session.SessionState: METASTORE_FILTER_HOOK will be ignored, since hive.security.authorization.manager is set to instance of HiveAuthorizerFactory.\n",
      "                                                                                \r"
     ]
    },
    {
     "data": {
      "text/plain": [
       "[]"
      ]
     },
     "execution_count": 4,
     "metadata": {},
     "output_type": "execute_result"
    }
   ],
   "source": [
    "cattle_prod_list = spark.sql(f'''\n",
    "select\n",
    "    user_id,\n",
    "    collect_list(item_id) over (partition by user_id order by sim desc) as item_list\n",
    "from\n",
    "    cattle_prod_user_item_sim\n",
    "where\n",
    "    date = '{date_string}'\n",
    "''').rdd\n",
    "cattle_prod_list.map(cache_cattle_prod).collect()"
   ]
  },
  {
   "cell_type": "code",
   "execution_count": 5,
   "id": "2c1a4034-1ac1-4c39-81ab-93f7f52df580",
   "metadata": {},
   "outputs": [
    {
     "name": "stderr",
     "output_type": "stream",
     "text": [
      "                                                                                \r"
     ]
    },
    {
     "data": {
      "text/plain": [
       "[]"
      ]
     },
     "execution_count": 5,
     "metadata": {},
     "output_type": "execute_result"
    }
   ],
   "source": [
    "vet_twitte_list = spark.sql(f'''\n",
    "select\n",
    "    user_id,\n",
    "    collect_list(item_id) over (partition by user_id order by sim desc) as item_list\n",
    "from\n",
    "    vet_twitte_user_item_sim\n",
    "where\n",
    "    date = '{date_string}'\n",
    "''').rdd\n",
    "vet_twitte_list.map(cache_vet_twitte).collect()"
   ]
  },
  {
   "cell_type": "code",
   "execution_count": 6,
   "id": "c67d632a-8033-4db4-a1ba-b9d6dafd1ae3",
   "metadata": {},
   "outputs": [],
   "source": [
    "spark.stop()"
   ]
  },
  {
   "cell_type": "code",
   "execution_count": null,
   "id": "2124f95d-875b-47ff-901b-e6ef0ce1688e",
   "metadata": {},
   "outputs": [],
   "source": []
  },
  {
   "cell_type": "code",
   "execution_count": null,
   "id": "d2e050d9-c55a-4f61-8a47-c599dd5ba11b",
   "metadata": {},
   "outputs": [],
   "source": []
  },
  {
   "cell_type": "code",
   "execution_count": null,
   "id": "cee562a1-6963-43db-8592-b94064517005",
   "metadata": {},
   "outputs": [],
   "source": []
  }
 ],
 "metadata": {
  "kernelspec": {
   "display_name": "Python 3 (ipykernel)",
   "language": "python",
   "name": "python3"
  },
  "language_info": {
   "codemirror_mode": {
    "name": "ipython",
    "version": 3
   },
   "file_extension": ".py",
   "mimetype": "text/x-python",
   "name": "python",
   "nbconvert_exporter": "python",
   "pygments_lexer": "ipython3",
   "version": "3.9.16"
  }
 },
 "nbformat": 4,
 "nbformat_minor": 5
}
