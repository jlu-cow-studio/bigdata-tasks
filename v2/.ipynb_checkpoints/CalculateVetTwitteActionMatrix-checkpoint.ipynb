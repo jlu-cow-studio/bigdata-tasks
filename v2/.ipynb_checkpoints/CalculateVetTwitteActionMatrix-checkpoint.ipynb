{
 "cells": [
  {
   "cell_type": "code",
   "execution_count": 1,
   "id": "258291e6-0e0d-4e4e-bf5c-696d3fa9bf44",
   "metadata": {},
   "outputs": [
    {
     "name": "stderr",
     "output_type": "stream",
     "text": [
      "23/06/01 08:19:24 WARN util.NativeCodeLoader: Unable to load native-hadoop library for your platform... using builtin-java classes where applicable\n",
      "Setting default log level to \"WARN\".\n",
      "To adjust logging level use sc.setLogLevel(newLevel). For SparkR, use setLogLevel(newLevel).\n",
      "23/06/01 08:19:25 WARN util.Utils: Service 'SparkUI' could not bind on port 4040. Attempting port 4041.\n",
      "23/06/01 08:19:25 WARN util.Utils: Service 'SparkUI' could not bind on port 4041. Attempting port 4042.\n",
      "23/06/01 08:19:25 WARN spark.SparkContext: Please ensure that the number of slots available on your executors is limited by the number of cores to task cpus and not another custom resource. If cores is not the limiting resource then dynamic allocation will not work properly!\n"
     ]
    }
   ],
   "source": [
    "# get spark session, 2g mem per executor\n",
    "from pyspark import SparkConf, SparkContext\n",
    "from pyspark.sql import SparkSession\n",
    "import os\n",
    "\n",
    "# set python env\n",
    "os.environ['PYSPARK_PYTHON'] = \"/opt/conda3/envs/lab2/bin/python\"\n",
    "spark = SparkSession.builder \\\n",
    "    .appName(\"CalculateVetTwitteActionMatrix\") \\\n",
    "    .master(\"spark://node01:10077\") \\\n",
    "    .enableHiveSupport()\\\n",
    "    .config(\"spark.driver.memory\", \"2g\") \\\n",
    "    .config(\"spark.executor.memory\", \"2g\") \\\n",
    "    .config(\"spark.cores.max\", \"1\") \\\n",
    "    .config(\"spark.sql.shuffle.partitions\", \"12\") \\\n",
    "    .config(\"spark.sql.autoBroadcastJoinThreshold\", \"-1\") \\\n",
    "    .getOrCreate()\n",
    "\n",
    "sc = spark.sparkContext"
   ]
  },
  {
   "cell_type": "code",
   "execution_count": 2,
   "id": "fb41d79d-f8b8-4180-9855-efac66591917",
   "metadata": {},
   "outputs": [],
   "source": [
    "from datetime import datetime\n",
    "\n",
    "date_string = datetime.today().strftime('%Y-%m-%d')\n",
    "time_factor = 0.9"
   ]
  },
  {
   "cell_type": "code",
   "execution_count": 3,
   "id": "aa5abb65-d971-4425-99ae-d56f58a81244",
   "metadata": {},
   "outputs": [
    {
     "name": "stderr",
     "output_type": "stream",
     "text": [
      "                                                                                \r"
     ]
    },
    {
     "name": "stdout",
     "output_type": "stream",
     "text": [
      "+----------------+-----+\n",
      "|      event_type|score|\n",
      "+----------------+-----+\n",
      "|            view|  1.0|\n",
      "|           click|  4.0|\n",
      "|       long_view|  7.0|\n",
      "|add_to_favorites| 20.0|\n",
      "|        purchase| 30.0|\n",
      "|     search_view|  5.0|\n",
      "|    search_click| 10.0|\n",
      "+----------------+-----+\n",
      "\n"
     ]
    }
   ],
   "source": [
    "from pyspark.sql.types import StructType, StructField, IntegerType, StringType, DoubleType\n",
    "event_score_data = [\n",
    "    ('view', 1.0),\n",
    "    ('click', 4.0),\n",
    "    ('long_view', 7.0),\n",
    "    ('add_to_favorites', 20.0),\n",
    "    ('purchase', 30.0),\n",
    "    ('search_view', 5.0),\n",
    "    ('search_click', 10.0)\n",
    "]\n",
    "\n",
    "schema = StructType([\n",
    "    StructField(\"event_type\", StringType(), True),\n",
    "    StructField(\"score\", DoubleType(), True)\n",
    "])\n",
    "\n",
    "event_score_df = spark.createDataFrame(event_score_data, schema)\n",
    "event_score_df.show()\n",
    "event_score_df.createOrReplaceTempView(\"event_score\")"
   ]
  },
  {
   "cell_type": "code",
   "execution_count": 6,
   "id": "10019e90-e736-4d72-9294-b585497bab62",
   "metadata": {},
   "outputs": [],
   "source": [
    "from pyspark.sql.types import StringType, IntegerType, StructType, StructField, DoubleType\n",
    "\n",
    "# 定义schema\n",
    "schema = StructType([\n",
    "    StructField(\"user_id\", IntegerType(), True),\n",
    "    StructField(\"item_id\", IntegerType(), True),\n",
    "    StructField(\"val\", DoubleType(), True),\n",
    "    StructField(\"date\", StringType(), True)\n",
    "])\n",
    "\n",
    "# 创建一个空的DataFrame\n",
    "spark.createDataFrame([],schema).createOrReplaceTempView(\"vet_twitte_user_action_matrix\")"
   ]
  },
  {
   "cell_type": "code",
   "execution_count": null,
   "id": "29215820-334d-409e-ab66-c1ce4203aaef",
   "metadata": {},
   "outputs": [],
   "source": [
    "vet_twitte_action = spark.sql(f'''\n",
    "with all_users as(\n",
    "    select\n",
    "        uid as user_id\n",
    "    from\n",
    "        user_ods\n",
    "    where\n",
    "        date = '{date_string}'\n",
    "), all_items as(\n",
    "    select\n",
    "        id as item_id\n",
    "    from\n",
    "        item_ods\n",
    "    where\n",
    "        date = '{date_string}'\n",
    "    and \n",
    "        category = 'twitte'\n",
    "), user_item_cross as(\n",
    "    select\n",
    "        user_id,\n",
    "        item_id\n",
    "    from\n",
    "        all_users,\n",
    "        all_items\n",
    "), history_action as(\n",
    "    select\n",
    "        a.user_id,\n",
    "        a.item_id,\n",
    "        if(b.user_id is null,0,b.val) as val\n",
    "    from\n",
    "        user_item_cross a\n",
    "    left join\n",
    "        vet_twitte_user_action_matrix b on a.user_id = b.user_id and a.item_id = b.item_id and b.date = '{date_string}'\n",
    "), today_action as(\n",
    "    select\n",
    "        a.item_id,\n",
    "        a.user_id,\n",
    "        sum(if(c.score is null,0,c.score)) as val\n",
    "    from\n",
    "        user_item_cross a\n",
    "    left join\n",
    "        event_ods b on a.user_id = b.user_id and a.item_id = b.item_id and b.timestamp = '{date_string}'\n",
    "    left join\n",
    "        event_score c on b.event_type = c.event_type\n",
    "    group by\n",
    "        a.item_id, a.user_id\n",
    "    order by \n",
    "        val desc\n",
    ")\n",
    "select\n",
    "    a.user_id,\n",
    "    a.item_id,\n",
    "    b.val * {time_factor} + c.val as val,\n",
    "    '{date_string}' as date\n",
    "from\n",
    "    user_item_cross a\n",
    "left join\n",
    "    history_action b on a.user_id = b.user_id and a.item_id = b.item_id\n",
    "left join\n",
    "    today_action c on a.user_id = c.user_id and a.item_id = c.item_id\n",
    "''')\n",
    "vet_twitte_action.show()"
   ]
  },
  {
   "cell_type": "code",
   "execution_count": null,
   "id": "67b14be4-9f86-47de-a674-d052dbb421ad",
   "metadata": {},
   "outputs": [],
   "source": [
    "vet_twitte_action.write.mode(\"overwrite\").partitionBy(\"date\").saveAsTable(\"vet_twitte_user_action_matrix\")"
   ]
  },
  {
   "cell_type": "code",
   "execution_count": null,
   "id": "88acda14-0815-4d11-b7e8-d9abb95ab250",
   "metadata": {},
   "outputs": [],
   "source": [
    "spark.stop()"
   ]
  }
 ],
 "metadata": {
  "kernelspec": {
   "display_name": "Python 3 (ipykernel)",
   "language": "python",
   "name": "python3"
  },
  "language_info": {
   "codemirror_mode": {
    "name": "ipython",
    "version": 3
   },
   "file_extension": ".py",
   "mimetype": "text/x-python",
   "name": "python",
   "nbconvert_exporter": "python",
   "pygments_lexer": "ipython3",
   "version": "3.9.16"
  }
 },
 "nbformat": 4,
 "nbformat_minor": 5
}
