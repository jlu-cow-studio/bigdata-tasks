{
 "cells": [
  {
   "cell_type": "code",
   "execution_count": null,
   "id": "abbb07e6-5ccc-45bb-a24b-ec7d2095346a",
   "metadata": {},
   "outputs": [],
   "source": []
  }
 ],
 "metadata": {
  "kernelspec": {
   "display_name": "",
   "name": ""
  },
  "language_info": {
   "name": ""
  }
 },
 "nbformat": 4,
 "nbformat_minor": 5
}
