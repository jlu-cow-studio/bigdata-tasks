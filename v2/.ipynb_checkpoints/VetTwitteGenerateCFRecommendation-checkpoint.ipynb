{
 "cells": [
  {
   "cell_type": "code",
   "execution_count": null,
   "id": "05272fae-1de1-4ca5-8e57-95b1661b96b7",
   "metadata": {},
   "outputs": [],
   "source": [
    "# get spark session, 2g mem per executor\n",
    "from pyspark import SparkConf, SparkContext\n",
    "from pyspark.sql import SparkSession\n",
    "import os\n",
    "\n",
    "# set python env\n",
    "os.environ['PYSPARK_PYTHON'] = \"/opt/conda3/envs/lab2/bin/python\"\n",
    "spark = SparkSession.builder \\\n",
    "    .appName(\"VetTwitteGenerateCFRecommendation\") \\\n",
    "    .master(\"spark://node01:10077\") \\\n",
    "    .enableHiveSupport()\\\n",
    "    .config(\"spark.driver.memory\", \"2g\") \\\n",
    "    .config(\"spark.executor.memory\", \"2g\") \\\n",
    "    .config(\"spark.cores.max\", \"1\") \\\n",
    "    .config(\"spark.sql.shuffle.partitions\", \"12\") \\\n",
    "    .config(\"spark.sql.autoBroadcastJoinThreshold\", \"-1\") \\\n",
    "    .getOrCreate()\n",
    "\n",
    "sc = spark.sparkContext"
   ]
  },
  {
   "cell_type": "code",
   "execution_count": null,
   "id": "652f6301-8a5d-444d-a16b-76d1572f5b57",
   "metadata": {},
   "outputs": [],
   "source": [
    "from pyspark.ml.linalg import DenseVector\n",
    "from pyspark.mllib.linalg.distributed import IndexedRow, IndexedRowMatrix\n",
    "from pyspark.sql import functions as F\n",
    "\n",
    "# 读取Hive表\n",
    "user_factors = spark.table(\"vet_twitte_user_fact_matrix\")\n",
    "item_factors = spark.table(\"vet_twitte_item_fact_matrix\")\n",
    "\n",
    "# 转换因子数据到向量格式\n",
    "user_factors_vec = user_factors.rdd.map(lambda row: IndexedRow(row.user_id, DenseVector(row[1:])))\n",
    "item_factors_vec = item_factors.rdd.map(lambda row: IndexedRow(row.item_id, DenseVector(row[1:])))\n",
    "\n",
    "# 创建IndexedRowMatrix对象\n",
    "user_matrix = IndexedRowMatrix(user_factors_vec)\n",
    "item_matrix = IndexedRowMatrix(item_factors_vec)\n",
    "\n",
    "# 计算矩阵乘法\n",
    "product_matrix = user_matrix.multiply(item_matrix.toBlockMatrix().transpose().toIndexedRowMatrix())\n",
    "\n",
    "# 将结果转换回DataFrame\n",
    "result_df = product_matrix.rows.toDF([\"user_id\", \"features\"])\n",
    "result_df = result_df.select(F.col(\"user_id\"), F.posexplode(F.col(\"features\"))).selectExpr(\"user_id\", \"pos as item_id\", \"col as val\")\n",
    "\n",
    "# 存储结果回Hive\n",
    "result_df.createOrReplaceTempView(\"vet_twitte_user_item_product\")\n",
    "spark.sql(f'''\n",
    "select\n",
    "    user_id,\n",
    "    collect_list(item_id) over (partition by user_id order by val desc) as rec_list\n",
    "from\n",
    "    vet_twitte_user_item_product\n",
    "''').write.mode(\"overwrite\").partitionBy(\"date\").saveAsTable(\"vet_twitte_cf_based_rec\")"
   ]
  },
  {
   "cell_type": "code",
   "execution_count": null,
   "id": "4c0bc0d1-cc77-4846-af4a-07795c03238b",
   "metadata": {},
   "outputs": [],
   "source": [
    "spark.stop()"
   ]
  },
  {
   "cell_type": "code",
   "execution_count": null,
   "id": "a76da459-4750-4828-88ac-2dfd57aad7fa",
   "metadata": {},
   "outputs": [],
   "source": []
  },
  {
   "cell_type": "code",
   "execution_count": null,
   "id": "b31d8c29-ab39-48c6-afc3-4c8299d1753b",
   "metadata": {},
   "outputs": [],
   "source": []
  }
 ],
 "metadata": {
  "kernelspec": {
   "display_name": "Python 3 (ipykernel)",
   "language": "python",
   "name": "python3"
  },
  "language_info": {
   "codemirror_mode": {
    "name": "ipython",
    "version": 3
   },
   "file_extension": ".py",
   "mimetype": "text/x-python",
   "name": "python",
   "nbconvert_exporter": "python",
   "pygments_lexer": "ipython3",
   "version": "3.9.16"
  }
 },
 "nbformat": 4,
 "nbformat_minor": 5
}
