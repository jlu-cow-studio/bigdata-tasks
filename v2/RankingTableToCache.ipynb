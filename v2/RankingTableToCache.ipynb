{
 "cells": [
  {
   "cell_type": "code",
   "execution_count": 2,
   "id": "b489fa83-1194-4ead-9d54-ac2e236bc31d",
   "metadata": {},
   "outputs": [
    {
     "name": "stderr",
     "output_type": "stream",
     "text": [
      "23/06/01 14:55:09 WARN util.NativeCodeLoader: Unable to load native-hadoop library for your platform... using builtin-java classes where applicable\n",
      "Setting default log level to \"WARN\".\n",
      "To adjust logging level use sc.setLogLevel(newLevel). For SparkR, use setLogLevel(newLevel).\n",
      "23/06/01 14:55:11 WARN spark.SparkContext: Please ensure that the number of slots available on your executors is limited by the number of cores to task cpus and not another custom resource. If cores is not the limiting resource then dynamic allocation will not work properly!\n"
     ]
    }
   ],
   "source": [
    "# get spark session, 2g mem per executor\n",
    "from pyspark import SparkConf, SparkContext\n",
    "from pyspark.sql import SparkSession\n",
    "import os\n",
    "\n",
    "# set python env\n",
    "os.environ['PYSPARK_PYTHON'] = \"/opt/conda3/envs/lab2/bin/python\"\n",
    "spark = SparkSession.builder \\\n",
    "    .appName(\"RankingTableToCache\") \\\n",
    "    .master(\"spark://node01:10077\") \\\n",
    "    .enableHiveSupport()\\\n",
    "    .config(\"spark.driver.memory\", \"2g\") \\\n",
    "    .config(\"spark.executor.memory\", \"2g\") \\\n",
    "    .config(\"spark.cores.max\", \"2\") \\\n",
    "    .config(\"spark.sql.shuffle.partitions\", \"12\") \\\n",
    "    .config(\"spark.sql.autoBroadcastJoinThreshold\", \"-1\") \\\n",
    "    .getOrCreate()\n",
    "\n",
    "sc = spark.sparkContext"
   ]
  },
  {
   "cell_type": "code",
   "execution_count": 3,
   "id": "c18c30ad-d0fe-4f68-ae32-115f7c818ca3",
   "metadata": {},
   "outputs": [],
   "source": [
    "from datetime import datetime\n",
    "\n",
    "date_string = datetime.today().strftime('%Y-%m-%d')"
   ]
  },
  {
   "cell_type": "code",
   "execution_count": 4,
   "id": "933f14f6-821b-4bdc-9e60-c3021e88e297",
   "metadata": {},
   "outputs": [
    {
     "name": "stderr",
     "output_type": "stream",
     "text": [
      "23/06/01 14:55:36 WARN session.SessionState: METASTORE_FILTER_HOOK will be ignored, since hive.security.authorization.manager is set to instance of HiveAuthorizerFactory.\n"
     ]
    }
   ],
   "source": [
    "from pyspark.sql.types import StringType, IntegerType, StructType, StructField, DoubleType\n",
    "\n",
    "# 定义schema\n",
    "schema = StructType([\n",
    "    StructField(\"item_id\", IntegerType(), True),\n",
    "    StructField(\"category\", StringType(), True),\n",
    "    StructField(\"score\", DoubleType(), True),\n",
    "    StructField(\"rn\", IntegerType(), True),\n",
    "    StructField(\"date\", StringType(), True)\n",
    "])\n",
    "\n",
    "# 创建一个空的DataFrame\n",
    "spark.createDataFrame([],schema).write.mode(\"overwrite\").partitionBy(\"date\").saveAsTable(\"item_top_n\")\n",
    "spark.createDataFrame([],schema).write.mode(\"overwrite\").partitionBy(\"date\").saveAsTable(\"item_bottom_m\")"
   ]
  },
  {
   "cell_type": "code",
   "execution_count": 5,
   "id": "f4ed7c0b-46ce-4c08-be69-c8377a00ca39",
   "metadata": {},
   "outputs": [
    {
     "name": "stderr",
     "output_type": "stream",
     "text": [
      "                                                                                \r"
     ]
    }
   ],
   "source": [
    "N = 80\n",
    "spark.sql(f'''\n",
    "select\n",
    "    *\n",
    "from\n",
    "    item_score_rank\n",
    "where\n",
    "    date = '{date_string}'\n",
    "and\n",
    "    rn <= {N}\n",
    "''').write.mode(\"overwrite\").partitionBy(\"date\").saveAsTable(\"item_top_n\")"
   ]
  },
  {
   "cell_type": "code",
   "execution_count": null,
   "id": "00f0cd80-2a6f-4f53-ab6f-61c7a07121c4",
   "metadata": {},
   "outputs": [],
   "source": [
    "M = 200\n",
    "spark.sql(f'''\n",
    "with max_rn as(\n",
    "    select\n",
    "        category,\n",
    "        if(max(rn) <= {M},{M},max(rn)) as mx_rn\n",
    "    from\n",
    "        item_score_rank\n",
    "    where\n",
    "        date = '{date_string}'\n",
    "    group by \n",
    "        category\n",
    ")\n",
    "select\n",
    "    a.*\n",
    "from\n",
    "    item_score_rank a\n",
    "left join\n",
    "    max_rn b on a.category = b.category\n",
    "where\n",
    "    b.mx_rn - a.rn <= {M}\n",
    "''').write.mode(\"overwrite\").partitionBy(\"date\").saveAsTable(\"item_bottom_m\")"
   ]
  },
  {
   "cell_type": "code",
   "execution_count": null,
   "id": "dac239ff-daf0-4a71-a8cf-b63c77662301",
   "metadata": {},
   "outputs": [],
   "source": [
    "spark.stop()"
   ]
  },
  {
   "cell_type": "code",
   "execution_count": null,
   "id": "58f55e66-0a10-49d4-a6f3-afbbcf8ce7ce",
   "metadata": {},
   "outputs": [],
   "source": []
  },
  {
   "cell_type": "code",
   "execution_count": null,
   "id": "6edcfe66-1157-4739-8568-6b5a53755794",
   "metadata": {},
   "outputs": [],
   "source": []
  },
  {
   "cell_type": "code",
   "execution_count": null,
   "id": "f6459ea0-8db0-43fe-ab55-50a97d081812",
   "metadata": {},
   "outputs": [],
   "source": []
  },
  {
   "cell_type": "code",
   "execution_count": null,
   "id": "cf40294c-2619-43ba-82e6-6e0bb2d27e65",
   "metadata": {},
   "outputs": [],
   "source": []
  }
 ],
 "metadata": {
  "kernelspec": {
   "display_name": "Python 3 (ipykernel)",
   "language": "python",
   "name": "python3"
  },
  "language_info": {
   "codemirror_mode": {
    "name": "ipython",
    "version": 3
   },
   "file_extension": ".py",
   "mimetype": "text/x-python",
   "name": "python",
   "nbconvert_exporter": "python",
   "pygments_lexer": "ipython3",
   "version": "3.9.16"
  }
 },
 "nbformat": 4,
 "nbformat_minor": 5
}
