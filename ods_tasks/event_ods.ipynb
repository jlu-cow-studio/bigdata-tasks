{
 "cells": [
  {
   "cell_type": "code",
   "execution_count": 1,
   "id": "cdd54cd4-6310-4744-8916-d7a1a98e6615",
   "metadata": {},
   "outputs": [],
   "source": [
    "# mysql connection\n",
    "import mysql.connector\n",
    "\n",
    "mydb = mysql.connector.connect(\n",
    "  host=\"cowstudio.wayne-lee.cn\",\n",
    "  user=\"cowstudio\",\n",
    "  password=\"cowstudio_2119\",\n",
    "  database=\"cowstudio\"\n",
    ")"
   ]
  },
  {
   "cell_type": "code",
   "execution_count": 2,
   "id": "a8e35fb4-7b1a-4815-ab6f-43523743eb94",
   "metadata": {},
   "outputs": [
    {
     "name": "stderr",
     "output_type": "stream",
     "text": [
      "23/04/22 04:40:55 WARN util.NativeCodeLoader: Unable to load native-hadoop library for your platform... using builtin-java classes where applicable\n",
      "Setting default log level to \"WARN\".\n",
      "To adjust logging level use sc.setLogLevel(newLevel). For SparkR, use setLogLevel(newLevel).\n",
      "23/04/22 04:40:56 WARN spark.SparkContext: Please ensure that the number of slots available on your executors is limited by the number of cores to task cpus and not another custom resource. If cores is not the limiting resource then dynamic allocation will not work properly!\n"
     ]
    }
   ],
   "source": [
    "# get spark session, 2g mem per executor\n",
    "from pyspark import SparkConf, SparkContext\n",
    "from pyspark.sql import SparkSession\n",
    "import os\n",
    "\n",
    "# set python env\n",
    "os.environ['PYSPARK_PYTHON'] = \"/opt/conda3/envs/lab2/bin/python\"\n",
    "spark = SparkSession.builder \\\n",
    "    .appName(\"event_ods\") \\\n",
    "    .master(\"spark://node01:10077\") \\\n",
    "    .enableHiveSupport()\\\n",
    "    .config(\"spark.driver.memory\", \"1g\") \\\n",
    "    .config(\"spark.executor.memory\", \"1g\") \\\n",
    "    .config(\"spark.cores.max\", \"1\") \\\n",
    "    .config(\"spark.sql.shuffle.partitions\", \"12\") \\\n",
    "    .config(\"spark.sql.autoBroadcastJoinThreshold\", \"-1\") \\\n",
    "    .getOrCreate()\n",
    "\n",
    "sc = spark.sparkContext"
   ]
  },
  {
   "cell_type": "code",
   "execution_count": 3,
   "id": "1c80ca19-5e9f-4e68-8e72-b3b5768456c4",
   "metadata": {},
   "outputs": [
    {
     "name": "stderr",
     "output_type": "stream",
     "text": [
      "[Stage 0:>                                                          (0 + 1) / 1]\r"
     ]
    },
    {
     "name": "stdout",
     "output_type": "stream",
     "text": [
      "[(1, 182, 78, 'view', datetime.datetime(2023, 4, 22, 0, 0), None, None, 1997)]\n"
     ]
    },
    {
     "name": "stderr",
     "output_type": "stream",
     "text": [
      "                                                                                \r"
     ]
    }
   ],
   "source": [
    "# get all user from db, and create an rdd\n",
    "from datetime import datetime\n",
    "date_string = datetime.today().strftime('%Y-%m-%d')\n",
    "cur = mydb.cursor()\n",
    "cur.execute(f\"SELECT tracking_events.*,{date_string} as date from tracking_events\")\n",
    "result = cur.fetchall()\n",
    "all_event = sc.parallelize(result)\n",
    "print(all_event.take(1))"
   ]
  },
  {
   "cell_type": "code",
   "execution_count": 4,
   "id": "79407f83-fd78-4bb1-92bd-3f17ba988a8b",
   "metadata": {},
   "outputs": [
    {
     "name": "stdout",
     "output_type": "stream",
     "text": [
      "+--------+-------+-------+----------------+----------+----------+-----------+----+\n",
      "|event_id|user_id|item_id|      event_type| timestamp|page_depth|current_url|date|\n",
      "+--------+-------+-------+----------------+----------+----------+-----------+----+\n",
      "|       1|    182|     78|            view|2023-04-22|      null|       null|1997|\n",
      "|       2|    182|    135|            view|2023-04-22|      null|       null|1997|\n",
      "|       3|    182|    203|           click|2023-04-22|      null|       null|1997|\n",
      "|       4|    182|    298|            view|2023-04-22|      null|       null|1997|\n",
      "|       5|    182|    364|       long_view|2023-04-22|      null|       null|1997|\n",
      "|       6|    182|    421|add_to_favorites|2023-04-22|      null|       null|1997|\n",
      "|       7|    182|    123|            view|2023-04-22|      null|       null|1997|\n",
      "|       8|    182|    257|           click|2023-04-22|      null|       null|1997|\n",
      "|       9|    182|    356|            view|2023-04-22|      null|       null|1997|\n",
      "|      10|    182|    434|     search_view|2023-04-22|      null|       null|1997|\n",
      "|      11|    183|     78|            view|2023-04-22|      null|       null|1997|\n",
      "|      12|    183|    135|            view|2023-04-22|      null|       null|1997|\n",
      "|      13|    183|    203|           click|2023-04-22|      null|       null|1997|\n",
      "|      14|    183|    298|            view|2023-04-22|      null|       null|1997|\n",
      "|      15|    183|    364|       long_view|2023-04-22|      null|       null|1997|\n",
      "|      16|    183|    221|add_to_favorites|2023-04-22|      null|       null|1997|\n",
      "|      17|    183|    123|            view|2023-04-22|      null|       null|1997|\n",
      "|      18|    183|    257|           click|2023-04-22|      null|       null|1997|\n",
      "|      19|    183|    356|            view|2023-04-22|      null|       null|1997|\n",
      "|      20|    183|    414|     search_view|2023-04-22|      null|       null|1997|\n",
      "+--------+-------+-------+----------------+----------+----------+-----------+----+\n",
      "only showing top 20 rows\n",
      "\n"
     ]
    },
    {
     "name": "stderr",
     "output_type": "stream",
     "text": [
      "                                                                                \r"
     ]
    }
   ],
   "source": [
    "from pyspark.sql.types import StructType, StructField, IntegerType, StringType, LongType, DateType\n",
    "schema = StructType([\n",
    "    StructField(\"event_id\", IntegerType(), True),\n",
    "    StructField(\"user_id\", IntegerType(), True),\n",
    "    StructField(\"item_id\", IntegerType(), True),\n",
    "    StructField(\"event_type\", StringType(), True),\n",
    "    StructField(\"timestamp\", DateType(), True),\n",
    "    StructField(\"page_depth\", IntegerType(), True),\n",
    "    StructField(\"current_url\", StringType(), True),\n",
    "    StructField(\"date\", StringType(), True)\n",
    "])\n",
    "event_df = all_event.toDF(schema)\n",
    "event_df.show()"
   ]
  },
  {
   "cell_type": "code",
   "execution_count": 5,
   "id": "bcdaadc1-6960-4dfd-8a04-dc3c90fdc928",
   "metadata": {},
   "outputs": [
    {
     "name": "stdout",
     "output_type": "stream",
     "text": [
      "++\n",
      "||\n",
      "++\n",
      "++\n",
      "\n"
     ]
    }
   ],
   "source": [
    "spark.sql(\"drop table if exists event_ods\").show()"
   ]
  },
  {
   "cell_type": "code",
   "execution_count": 6,
   "id": "7b45bf99-5976-41cc-9f0f-810e161f1bf7",
   "metadata": {},
   "outputs": [
    {
     "name": "stderr",
     "output_type": "stream",
     "text": [
      "23/04/22 04:41:18 WARN session.SessionState: METASTORE_FILTER_HOOK will be ignored, since hive.security.authorization.manager is set to instance of HiveAuthorizerFactory.\n"
     ]
    }
   ],
   "source": [
    "event_df.write.mode(\"overwrite\").saveAsTable(\"event_ods\")"
   ]
  },
  {
   "cell_type": "code",
   "execution_count": 7,
   "id": "b15af17a-2558-4a11-9663-2ae906570ba7",
   "metadata": {},
   "outputs": [
    {
     "name": "stdout",
     "output_type": "stream",
     "text": [
      "+--------+---------------+-----------+\n",
      "|database|      tableName|isTemporary|\n",
      "+--------+---------------+-----------+\n",
      "| default|      event_ods|      false|\n",
      "| default|       item_ods|      false|\n",
      "| default|   item_tag_ods|      false|\n",
      "| default|item_word_count|      false|\n",
      "| default|  item_word_idf|      false|\n",
      "| default|   item_word_tf|      false|\n",
      "| default|item_word_tfidf|      false|\n",
      "| default|        tag_ods|      false|\n",
      "| default|           test|      false|\n",
      "| default|          test2|      false|\n",
      "| default|       user_ods|      false|\n",
      "| default|   user_tag_ods|      false|\n",
      "+--------+---------------+-----------+\n",
      "\n"
     ]
    }
   ],
   "source": [
    "spark.sql(\"show tables\").show()"
   ]
  },
  {
   "cell_type": "code",
   "execution_count": 8,
   "id": "878c97c3-f9da-4dfa-b1bb-b2d6be44f7f7",
   "metadata": {},
   "outputs": [],
   "source": [
    "spark.stop()\n",
    "mydb.close()"
   ]
  },
  {
   "cell_type": "code",
   "execution_count": null,
   "id": "ad1ef938-5cc3-4237-b9af-bc490452283e",
   "metadata": {},
   "outputs": [],
   "source": []
  }
 ],
 "metadata": {
  "kernelspec": {
   "display_name": "Python 3 (ipykernel)",
   "language": "python",
   "name": "python3"
  },
  "language_info": {
   "codemirror_mode": {
    "name": "ipython",
    "version": 3
   },
   "file_extension": ".py",
   "mimetype": "text/x-python",
   "name": "python",
   "nbconvert_exporter": "python",
   "pygments_lexer": "ipython3",
   "version": "3.9.16"
  }
 },
 "nbformat": 4,
 "nbformat_minor": 5
}
