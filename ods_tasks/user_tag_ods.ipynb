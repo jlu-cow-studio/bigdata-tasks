{
 "cells": [
  {
   "cell_type": "code",
   "execution_count": 1,
   "id": "f6c86eac-dd7f-4e70-8fc2-032396911e51",
   "metadata": {},
   "outputs": [
    {
     "name": "stdout",
     "output_type": "stream",
     "text": [
      "2023-04-22\n"
     ]
    }
   ],
   "source": [
    "from datetime import datetime\n",
    "date_string = datetime.today().strftime('%Y-%m-%d')\n",
    "print(date_string)\n",
    "spark_app_name = \"user_tag_ods\"\n",
    "sql = f\"SELECT user_tag.*,'{date_string}' as date from user_tag\"\n",
    "hive_table_name = \"user_tag_ods\""
   ]
  },
  {
   "cell_type": "code",
   "execution_count": 2,
   "id": "888543e0-2083-4acb-9e5e-310516864adb",
   "metadata": {},
   "outputs": [],
   "source": [
    "from pyspark.sql.types import StructType, StructField, IntegerType, StringType, LongType, DecimalType\n",
    "schema = StructType([\n",
    "    StructField(\"id\", IntegerType(), True),\n",
    "    StructField(\"user_id\", IntegerType(), True),\n",
    "    StructField(\"tag_id\", IntegerType(), True),\n",
    "    StructField(\"weight\", DecimalType(), True),\n",
    "    StructField(\"date\", StringType(), True)\n",
    "])"
   ]
  },
  {
   "cell_type": "code",
   "execution_count": 3,
   "id": "cdd54cd4-6310-4744-8916-d7a1a98e6615",
   "metadata": {},
   "outputs": [],
   "source": [
    "# mysql connection\n",
    "import mysql.connector\n",
    "\n",
    "mydb = mysql.connector.connect(\n",
    "  host=\"cowstudio.wayne-lee.cn\",\n",
    "  user=\"cowstudio\",\n",
    "  password=\"cowstudio_2119\",\n",
    "  database=\"cowstudio\"\n",
    ")"
   ]
  },
  {
   "cell_type": "code",
   "execution_count": 4,
   "id": "a8e35fb4-7b1a-4815-ab6f-43523743eb94",
   "metadata": {},
   "outputs": [
    {
     "name": "stderr",
     "output_type": "stream",
     "text": [
      "23/04/22 02:33:25 WARN util.NativeCodeLoader: Unable to load native-hadoop library for your platform... using builtin-java classes where applicable\n",
      "Setting default log level to \"WARN\".\n",
      "To adjust logging level use sc.setLogLevel(newLevel). For SparkR, use setLogLevel(newLevel).\n",
      "23/04/22 02:33:26 WARN spark.SparkContext: Please ensure that the number of slots available on your executors is limited by the number of cores to task cpus and not another custom resource. If cores is not the limiting resource then dynamic allocation will not work properly!\n"
     ]
    }
   ],
   "source": [
    "# get spark session, 2g mem per executor\n",
    "from pyspark import SparkConf, SparkContext\n",
    "from pyspark.sql import SparkSession\n",
    "import os\n",
    "\n",
    "# set python env\n",
    "os.environ['PYSPARK_PYTHON'] = \"/opt/conda3/envs/lab2/bin/python\"\n",
    "spark = SparkSession.builder \\\n",
    "    .appName(spark_app_name) \\\n",
    "    .master(\"spark://node01:10077\") \\\n",
    "    .enableHiveSupport()\\\n",
    "    .config(\"spark.driver.memory\", \"1g\") \\\n",
    "    .config(\"spark.executor.memory\", \"1g\") \\\n",
    "    .config(\"spark.cores.max\", \"1\") \\\n",
    "    .config(\"spark.sql.shuffle.partitions\", \"12\") \\\n",
    "    .config(\"spark.sql.autoBroadcastJoinThreshold\", \"-1\") \\\n",
    "    .getOrCreate()\n",
    "\n",
    "sc = spark.sparkContext"
   ]
  },
  {
   "cell_type": "code",
   "execution_count": 5,
   "id": "1c80ca19-5e9f-4e68-8e72-b3b5768456c4",
   "metadata": {},
   "outputs": [
    {
     "name": "stdout",
     "output_type": "stream",
     "text": [
      "SELECT user_tag.*,'2023-04-22' as date from user_tag\n"
     ]
    }
   ],
   "source": [
    "# get all user from db, and create an rdd\n",
    "print(sql)\n",
    "cur = mydb.cursor()\n",
    "cur.execute(sql)\n",
    "result = cur.fetchall()"
   ]
  },
  {
   "cell_type": "code",
   "execution_count": 6,
   "id": "d9278395-517c-432d-941b-cbed7ad8c0eb",
   "metadata": {},
   "outputs": [
    {
     "name": "stderr",
     "output_type": "stream",
     "text": [
      "                                                                                \r"
     ]
    },
    {
     "name": "stdout",
     "output_type": "stream",
     "text": [
      "+---+-------+------+------+----------+\n",
      "| id|user_id|tag_id|weight|      date|\n",
      "+---+-------+------+------+----------+\n",
      "| 35|    322|    27|     1|2023-04-22|\n",
      "| 36|    322|    49|     1|2023-04-22|\n",
      "| 37|    325|    49|     1|2023-04-22|\n",
      "| 38|    325|    50|     1|2023-04-22|\n",
      "| 39|    325|    51|     1|2023-04-22|\n",
      "| 40|    325|    52|     1|2023-04-22|\n",
      "| 41|    325|    53|     1|2023-04-22|\n",
      "| 42|    325|    54|     1|2023-04-22|\n",
      "| 43|    325|    55|     1|2023-04-22|\n",
      "| 44|    325|    32|     1|2023-04-22|\n",
      "| 45|    325|    64|     1|2023-04-22|\n",
      "| 46|    326|    93|     1|2023-04-22|\n",
      "| 47|    326|    94|     1|2023-04-22|\n",
      "| 48|    326|    95|     1|2023-04-22|\n",
      "| 49|    326|    97|     1|2023-04-22|\n",
      "| 50|    326|    74|     1|2023-04-22|\n",
      "| 51|    326|    75|     1|2023-04-22|\n",
      "| 52|    326|    76|     1|2023-04-22|\n",
      "| 53|    326|    77|     1|2023-04-22|\n",
      "| 54|    326|    78|     1|2023-04-22|\n",
      "+---+-------+------+------+----------+\n",
      "only showing top 20 rows\n",
      "\n"
     ]
    }
   ],
   "source": [
    "rdd = sc.parallelize(result)\n",
    "df = rdd.toDF(schema)\n",
    "df.show()"
   ]
  },
  {
   "cell_type": "code",
   "execution_count": 7,
   "id": "bcdaadc1-6960-4dfd-8a04-dc3c90fdc928",
   "metadata": {},
   "outputs": [
    {
     "name": "stdout",
     "output_type": "stream",
     "text": [
      "++\n",
      "||\n",
      "++\n",
      "++\n",
      "\n"
     ]
    }
   ],
   "source": [
    "# spark.sql(f\"drop table if exists {hive_table_name}\").show()"
   ]
  },
  {
   "cell_type": "code",
   "execution_count": 8,
   "id": "7b45bf99-5976-41cc-9f0f-810e161f1bf7",
   "metadata": {},
   "outputs": [
    {
     "name": "stderr",
     "output_type": "stream",
     "text": [
      "23/04/22 02:34:03 WARN session.SessionState: METASTORE_FILTER_HOOK will be ignored, since hive.security.authorization.manager is set to instance of HiveAuthorizerFactory.\n"
     ]
    }
   ],
   "source": [
    "df.write.mode(\"overwrite\").partitionBy(\"date\").saveAsTable(hive_table_name)"
   ]
  },
  {
   "cell_type": "code",
   "execution_count": 9,
   "id": "b15af17a-2558-4a11-9663-2ae906570ba7",
   "metadata": {},
   "outputs": [
    {
     "name": "stdout",
     "output_type": "stream",
     "text": [
      "+--------+---------------+-----------+\n",
      "|database|      tableName|isTemporary|\n",
      "+--------+---------------+-----------+\n",
      "| default|      event_ods|      false|\n",
      "| default|       item_ods|      false|\n",
      "| default|item_word_count|      false|\n",
      "| default|  item_word_idf|      false|\n",
      "| default|   item_word_tf|      false|\n",
      "| default|item_word_tfidf|      false|\n",
      "| default|        tag_ods|      false|\n",
      "| default|           test|      false|\n",
      "| default|          test2|      false|\n",
      "| default|       user_ods|      false|\n",
      "| default|   user_tag_ods|      false|\n",
      "+--------+---------------+-----------+\n",
      "\n"
     ]
    }
   ],
   "source": [
    "spark.sql(\"show tables\").show()"
   ]
  },
  {
   "cell_type": "code",
   "execution_count": 10,
   "id": "878c97c3-f9da-4dfa-b1bb-b2d6be44f7f7",
   "metadata": {},
   "outputs": [],
   "source": [
    "spark.stop()\n",
    "mydb.close()"
   ]
  },
  {
   "cell_type": "code",
   "execution_count": null,
   "id": "ad1ef938-5cc3-4237-b9af-bc490452283e",
   "metadata": {},
   "outputs": [],
   "source": []
  }
 ],
 "metadata": {
  "kernelspec": {
   "display_name": "Python 3 (ipykernel)",
   "language": "python",
   "name": "python3"
  },
  "language_info": {
   "codemirror_mode": {
    "name": "ipython",
    "version": 3
   },
   "file_extension": ".py",
   "mimetype": "text/x-python",
   "name": "python",
   "nbconvert_exporter": "python",
   "pygments_lexer": "ipython3",
   "version": "3.9.16"
  }
 },
 "nbformat": 4,
 "nbformat_minor": 5
}
