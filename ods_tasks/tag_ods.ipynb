{
 "cells": [
  {
   "cell_type": "code",
   "execution_count": 1,
   "id": "cdd54cd4-6310-4744-8916-d7a1a98e6615",
   "metadata": {},
   "outputs": [],
   "source": [
    "# mysql connection\n",
    "import mysql.connector\n",
    "\n",
    "mydb = mysql.connector.connect(\n",
    "  host=\"cowstudio.wayne-lee.cn\",\n",
    "  user=\"cowstudio\",\n",
    "  password=\"cowstudio_2119\",\n",
    "  database=\"cowstudio\"\n",
    ")"
   ]
  },
  {
   "cell_type": "code",
   "execution_count": 2,
   "id": "a8e35fb4-7b1a-4815-ab6f-43523743eb94",
   "metadata": {},
   "outputs": [
    {
     "name": "stderr",
     "output_type": "stream",
     "text": [
      "23/04/21 09:20:45 WARN util.NativeCodeLoader: Unable to load native-hadoop library for your platform... using builtin-java classes where applicable\n",
      "Setting default log level to \"WARN\".\n",
      "To adjust logging level use sc.setLogLevel(newLevel). For SparkR, use setLogLevel(newLevel).\n",
      "23/04/21 09:20:46 WARN util.Utils: Service 'SparkUI' could not bind on port 4040. Attempting port 4041.\n",
      "23/04/21 09:20:46 WARN spark.SparkContext: Please ensure that the number of slots available on your executors is limited by the number of cores to task cpus and not another custom resource. If cores is not the limiting resource then dynamic allocation will not work properly!\n"
     ]
    }
   ],
   "source": [
    "# get spark session, 2g mem per executor\n",
    "from pyspark import SparkConf, SparkContext\n",
    "from pyspark.sql import SparkSession\n",
    "import os\n",
    "\n",
    "# set python env\n",
    "os.environ['PYSPARK_PYTHON'] = \"/opt/conda3/envs/lab2/bin/python\"\n",
    "spark = SparkSession.builder \\\n",
    "    .appName(\"tag_ods\") \\\n",
    "    .master(\"spark://node01:10077\") \\\n",
    "    .enableHiveSupport()\\\n",
    "    .config(\"spark.driver.memory\", \"1g\") \\\n",
    "    .config(\"spark.executor.memory\", \"1g\") \\\n",
    "    .config(\"spark.cores.max\", \"1\") \\\n",
    "    .config(\"spark.sql.shuffle.partitions\", \"12\") \\\n",
    "    .config(\"spark.sql.autoBroadcastJoinThreshold\", \"-1\") \\\n",
    "    .getOrCreate()\n",
    "\n",
    "sc = spark.sparkContext"
   ]
  },
  {
   "cell_type": "code",
   "execution_count": 3,
   "id": "16b1fc89-c265-4233-b093-52990cac5b2c",
   "metadata": {},
   "outputs": [
    {
     "name": "stdout",
     "output_type": "stream",
     "text": [
      "2023-04-21\n"
     ]
    }
   ],
   "source": [
    "from datetime import datetime\n",
    "date_string = datetime.today().strftime('%Y-%m-%d')\n",
    "print(date_string)"
   ]
  },
  {
   "cell_type": "code",
   "execution_count": 5,
   "id": "1c80ca19-5e9f-4e68-8e72-b3b5768456c4",
   "metadata": {},
   "outputs": [
    {
     "name": "stdout",
     "output_type": "stream",
     "text": [
      "('tag_id', 'tag_name', 'weight', 'mark_object', 'category_id', 'tag_category_id', 'tag_category_name', 'parent_id', 'level', 'date')\n"
     ]
    },
    {
     "name": "stderr",
     "output_type": "stream",
     "text": [
      "[Stage 0:>                                                          (0 + 1) / 2]\r"
     ]
    },
    {
     "name": "stdout",
     "output_type": "stream",
     "text": [
      "153\n"
     ]
    },
    {
     "name": "stderr",
     "output_type": "stream",
     "text": [
      "                                                                                \r"
     ]
    }
   ],
   "source": [
    "# get all user from db, and create an rdd\n",
    "cur = mydb.cursor()\n",
    "cur.execute(f'''\n",
    "SELECT \n",
    "    tag.*,\n",
    "    tag_category.*,\n",
    "    '{date_string}' as date \n",
    "from \n",
    "    tag \n",
    "left join \n",
    "    tag_category on tag.category_id = tag_category.tag_category_id\n",
    "''')\n",
    "print(cur.column_names)\n",
    "result = cur.fetchall()\n",
    "all_tags = sc.parallelize(result)\n",
    "print(all_tags.count())"
   ]
  },
  {
   "cell_type": "code",
   "execution_count": 6,
   "id": "79407f83-fd78-4bb1-92bd-3f17ba988a8b",
   "metadata": {},
   "outputs": [],
   "source": [
    "from pyspark.sql.types import StructType, StructField, IntegerType, StringType, DecimalType\n",
    "schema = StructType([\n",
    "    StructField(\"tag_id\", IntegerType(), True),\n",
    "    StructField(\"tag_name\", StringType(), True),\n",
    "    StructField(\"tag_weight\", DecimalType(8, 4), True),\n",
    "    StructField(\"mark_object\", StringType(), True),\n",
    "    StructField(\"category_id\", IntegerType(), True),\n",
    "    StructField(\"tag_category_id\", IntegerType(), True),\n",
    "    StructField(\"category_name\", StringType(), True),\n",
    "    StructField(\"category_parent_id\", IntegerType(), True),\n",
    "    StructField(\"level\", IntegerType(), True),\n",
    "    StructField(\"date\", StringType(), True)\n",
    "])\n",
    "tag_df = all_tags.toDF(schema)"
   ]
  },
  {
   "cell_type": "code",
   "execution_count": 7,
   "id": "bcdaadc1-6960-4dfd-8a04-dc3c90fdc928",
   "metadata": {},
   "outputs": [
    {
     "name": "stdout",
     "output_type": "stream",
     "text": [
      "++\n",
      "||\n",
      "++\n",
      "++\n",
      "\n"
     ]
    }
   ],
   "source": [
    "spark.sql(\"drop table if exists tag_ods\").show()"
   ]
  },
  {
   "cell_type": "code",
   "execution_count": 8,
   "id": "7b45bf99-5976-41cc-9f0f-810e161f1bf7",
   "metadata": {},
   "outputs": [
    {
     "name": "stderr",
     "output_type": "stream",
     "text": [
      "23/04/21 09:22:11 WARN session.SessionState: METASTORE_FILTER_HOOK will be ignored, since hive.security.authorization.manager is set to instance of HiveAuthorizerFactory.\n"
     ]
    }
   ],
   "source": [
    "tag_df.write.mode(\"overwrite\").saveAsTable(\"tag_ods\")"
   ]
  },
  {
   "cell_type": "code",
   "execution_count": 9,
   "id": "b15af17a-2558-4a11-9663-2ae906570ba7",
   "metadata": {},
   "outputs": [
    {
     "name": "stdout",
     "output_type": "stream",
     "text": [
      "+--------+---------+-----------+\n",
      "|database|tableName|isTemporary|\n",
      "+--------+---------+-----------+\n",
      "| default| item_ods|      false|\n",
      "| default|  tag_ods|      false|\n",
      "| default|     test|      false|\n",
      "| default|    test2|      false|\n",
      "| default| user_ods|      false|\n",
      "+--------+---------+-----------+\n",
      "\n",
      "+------+----------+----------+-----------+-----------+---------------+-------------+------------------+-----+----------+\n",
      "|tag_id|  tag_name|tag_weight|mark_object|category_id|tag_category_id|category_name|category_parent_id|level|      date|\n",
      "+------+----------+----------+-----------+-----------+---------------+-------------+------------------+-----+----------+\n",
      "|    77|  兽医服务|    1.0000|    service|          2|              2|    测试标签2|                 0|    1|2023-04-21|\n",
      "|    78|农机具租赁|    1.0000|    service|          2|              2|    测试标签2|                 0|    1|2023-04-21|\n",
      "|    79|  景点旅游|    1.0000|       live|          2|              2|    测试标签2|                 0|    1|2023-04-21|\n",
      "|    80|  文化活动|    1.0000|       live|          2|              2|    测试标签2|                 0|    1|2023-04-21|\n",
      "|    81|  体育比赛|    1.0000|       live|          2|              2|    测试标签2|                 0|    1|2023-04-21|\n",
      "|    82|      微博|    1.0000|      tweet|          2|              2|    测试标签2|                 0|    1|2023-04-21|\n",
      "|    83|      微信|    1.0000|      tweet|          2|              2|    测试标签2|                 0|    1|2023-04-21|\n",
      "|    84|      抖音|    1.0000|      tweet|          2|              2|    测试标签2|                 0|    1|2023-04-21|\n",
      "|    85|  新浪博客|    1.0000|      tweet|          2|              2|    测试标签2|                 0|    1|2023-04-21|\n",
      "|    86|  普通用户|    1.0000|       user|          2|              2|    测试标签2|                 0|    1|2023-04-21|\n",
      "|    87|肉牛经营者|    1.0000|       user|          2|              2|    测试标签2|                 0|    1|2023-04-21|\n",
      "|    88|  畜牧专家|    1.0000|       user|          2|              2|    测试标签2|                 0|    1|2023-04-21|\n",
      "|    89|    营养师|    1.0000|       user|          2|              2|    测试标签2|                 0|    1|2023-04-21|\n",
      "|    90|      兽医|    1.0000|       user|          2|              2|    测试标签2|                 0|    1|2023-04-21|\n",
      "|    91|农村创业者|    1.0000|   interest|          2|              2|    测试标签2|                 0|    1|2023-04-21|\n",
      "|    92|城市消费者|    1.0000|   interest|          2|              2|    测试标签2|                 0|    1|2023-04-21|\n",
      "|    93|      学生|    1.0000|   interest|          2|              2|    测试标签2|                 0|    1|2023-04-21|\n",
      "|    94|      旅游|    1.0000|   interest|          1|              1|    测试标签1|                 0|    1|2023-04-21|\n",
      "|    95|      美食|    1.0000|   interest|          1|              1|    测试标签1|                 0|    1|2023-04-21|\n",
      "|    96|      健康|    1.0000|   interest|          1|              1|    测试标签1|                 0|    1|2023-04-21|\n",
      "+------+----------+----------+-----------+-----------+---------------+-------------+------------------+-----+----------+\n",
      "only showing top 20 rows\n",
      "\n"
     ]
    }
   ],
   "source": [
    "spark.sql(\"show tables\").show()\n",
    "spark.sql(\"select * from tag_ods\").show()"
   ]
  },
  {
   "cell_type": "code",
   "execution_count": 10,
   "id": "878c97c3-f9da-4dfa-b1bb-b2d6be44f7f7",
   "metadata": {},
   "outputs": [],
   "source": [
    "spark.stop()\n",
    "mydb.close()"
   ]
  },
  {
   "cell_type": "code",
   "execution_count": null,
   "id": "ad1ef938-5cc3-4237-b9af-bc490452283e",
   "metadata": {},
   "outputs": [],
   "source": []
  }
 ],
 "metadata": {
  "kernelspec": {
   "display_name": "Python 3 (ipykernel)",
   "language": "python",
   "name": "python3"
  },
  "language_info": {
   "codemirror_mode": {
    "name": "ipython",
    "version": 3
   },
   "file_extension": ".py",
   "mimetype": "text/x-python",
   "name": "python",
   "nbconvert_exporter": "python",
   "pygments_lexer": "ipython3",
   "version": "3.9.7"
  }
 },
 "nbformat": 4,
 "nbformat_minor": 5
}
